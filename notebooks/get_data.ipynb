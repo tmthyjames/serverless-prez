{
 "cells": [
  {
   "cell_type": "code",
   "execution_count": 1,
   "metadata": {},
   "outputs": [
    {
     "data": {
      "text/html": [
       "<style>.container{width:99%}</style>\n"
      ],
      "text/plain": [
       "<IPython.core.display.HTML object>"
      ]
     },
     "metadata": {},
     "output_type": "display_data"
    }
   ],
   "source": [
    "%%html\n",
    "<style>.container{width:99%}</style>"
   ]
  },
  {
   "cell_type": "code",
   "execution_count": 2,
   "metadata": {},
   "outputs": [],
   "source": [
    "%load_ext autoreload\n",
    "%autoreload 2"
   ]
  },
  {
   "cell_type": "code",
   "execution_count": 1,
   "metadata": {},
   "outputs": [],
   "source": [
    "import os\n",
    "import shutil\n",
    "import re\n",
    "import json\n",
    "from pathlib import Path\n",
    "\n",
    "import requests\n",
    "import geopandas as gpd\n",
    "import boto3\n",
    "import pandas as pd\n",
    "\n",
    "from serverless import settings\n",
    "from serverless.pipeline.data import (\n",
    "    census_businesspatterns, \n",
    "    census_population, \n",
    "    tiger\n",
    ")\n",
    "from serverless.pipeline import Pipeline\n",
    "from serverless.utils import download_url"
   ]
  },
  {
   "cell_type": "code",
   "execution_count": 17,
   "metadata": {
    "scrolled": true
   },
   "outputs": [
    {
     "name": "stdout",
     "output_type": "stream",
     "text": [
      "DOWNLOADING: from https://www2.census.gov/geo/tiger/TIGER2021/ZCTA520/tl_2021_us_zcta520.zip to /Users/timdobbins/projects/serverless-prez/data/raw/tiger/zcta/tl_2021_us_zcta520.zip\n",
      "UNZIPPING: from /Users/timdobbins/projects/serverless-prez/data/raw/tiger/zcta/tl_2021_us_zcta520.zip to /Users/timdobbins/projects/serverless-prez/data/interim/tiger/zcta\n",
      "PARTITIONING: from /Users/timdobbins/projects/serverless-prez/data/interim/tiger/zcta/tl_2021_us_zcta520.shp to /Users/timdobbins/projects/serverless-prez/data/processed/tiger/zcta\n",
      "FINISHED POPULATING RAW, INTERIM, AND PROCESSED DIRECTORIES for /Users/timdobbins/projects/serverless-prez/data/processed/tiger/zcta\n",
      "FINISHED POPULATING RAW, INTERIM, AND PROCESSED DIRECTORIES for /Users/timdobbins/projects/serverless-prez/data/processed/tiger/county\n",
      "FINISHED POPULATING RAW, INTERIM, AND PROCESSED DIRECTORIES for /Users/timdobbins/projects/serverless-prez/data/processed/tiger/tract\n",
      "PREPPING: from /Users/timdobbins/projects/serverless-prez/data/raw/tiger/mapping/ZIP_COUNTY_122021.xlsx to /Users/timdobbins/projects/serverless-prez/data/interim/tiger/mapping/data.parquet\n",
      "FINISHED POPULATING RAW, INTERIM, AND PROCESSED DIRECTORIES for /Users/timdobbins/projects/serverless-prez/data/processed/tiger/mapping\n",
      "FINISHED POPULATING RAW, INTERIM, AND PROCESSED DIRECTORIES for /Users/timdobbins/projects/serverless-prez/data/processed/tiger/block\n"
     ]
    }
   ],
   "source": [
    "# census_businesspatterns.main()\n",
    "# census_population.main()\n",
    "tiger.main()"
   ]
  },
  {
   "cell_type": "raw",
   "metadata": {},
   "source": [
    "import boto3\n",
    "\n",
    "s3 = boto3.resource('s3')\n",
    "\n",
    "s3.Bucket(\"serverless-prez\") in s3.buckets.all()"
   ]
  },
  {
   "cell_type": "code",
   "execution_count": 2,
   "metadata": {},
   "outputs": [],
   "source": [
    "processed_path = Path(settings.data.processed_path)\n",
    "pipeline = Pipeline(processed_path)\n",
    "\n",
    "path: str = '.*/.*'"
   ]
  },
  {
   "cell_type": "code",
   "execution_count": 3,
   "metadata": {},
   "outputs": [
    {
     "data": {
      "text/plain": [
       "{'/Users/timdobbins/projects/serverless-prez/data/processed/tiger/mapping': '/Users/timdobbins/projects/serverless-prez/data/processed/tiger/mapping/statefp=20/5f7c0d34c0474cabb397199ebb4d3a32-0.parquet',\n",
       " '/Users/timdobbins/projects/serverless-prez/data/processed/tiger/county': '/Users/timdobbins/projects/serverless-prez/data/processed/tiger/county/statefp=20/20.geojson',\n",
       " '/Users/timdobbins/projects/serverless-prez/data/processed/tiger/tract': '/Users/timdobbins/projects/serverless-prez/data/processed/tiger/tract/statefp=20/countyfp=025/20025.geojson',\n",
       " '/Users/timdobbins/projects/serverless-prez/data/processed/tiger/block': '/Users/timdobbins/projects/serverless-prez/data/processed/tiger/block/statefp20=38/countyfp20=027/tractce20=959200/38027959200.geojson',\n",
       " '/Users/timdobbins/projects/serverless-prez/data/processed/census/businesspatterns': '/Users/timdobbins/projects/serverless-prez/data/processed/census/businesspatterns/data.parquet',\n",
       " '/Users/timdobbins/projects/serverless-prez/data/processed/census/population': '/Users/timdobbins/projects/serverless-prez/data/processed/census/population/data.parquet'}"
      ]
     },
     "execution_count": 3,
     "metadata": {},
     "output_type": "execute_result"
    }
   ],
   "source": [
    "pipeline.dirs"
   ]
  },
  {
   "cell_type": "raw",
   "metadata": {},
   "source": [
    "pipeline.to_s3(path=\"tiger/county\")"
   ]
  },
  {
   "cell_type": "raw",
   "metadata": {},
   "source": [
    "pipeline.build_athena_model(path=\".*/.*\")"
   ]
  },
  {
   "cell_type": "code",
   "execution_count": 55,
   "metadata": {},
   "outputs": [
    {
     "data": {
      "text/plain": [
       "{'ResponseMetadata': {'RequestId': '31b7a131-6b26-44d5-9878-9f9db9ee47e7',\n",
       "  'HTTPStatusCode': 204,\n",
       "  'HTTPHeaders': {'date': 'Sat, 09 Jul 2022 13:25:54 GMT',\n",
       "   'content-type': 'application/json',\n",
       "   'connection': 'keep-alive',\n",
       "   'x-amzn-requestid': '31b7a131-6b26-44d5-9878-9f9db9ee47e7'},\n",
       "  'RetryAttempts': 0}}"
      ]
     },
     "execution_count": 55,
     "metadata": {},
     "output_type": "execute_result"
    }
   ],
   "source": [
    "pipeline.delete_lambda('serverlessprez_lambda')"
   ]
  },
  {
   "cell_type": "code",
   "execution_count": 56,
   "metadata": {
    "scrolled": true
   },
   "outputs": [
    {
     "data": {
      "text/plain": [
       "{'ResponseMetadata': {'RequestId': '41778d2a-5573-4f4b-a623-5962e2ad38f2',\n",
       "  'HTTPStatusCode': 201,\n",
       "  'HTTPHeaders': {'date': 'Sat, 09 Jul 2022 13:26:08 GMT',\n",
       "   'content-type': 'application/json',\n",
       "   'content-length': '991',\n",
       "   'connection': 'keep-alive',\n",
       "   'x-amzn-requestid': '41778d2a-5573-4f4b-a623-5962e2ad38f2'},\n",
       "  'RetryAttempts': 0},\n",
       " 'FunctionName': 'serverlessprez_lambda',\n",
       " 'FunctionArn': 'arn:aws:lambda:us-east-1:639381120660:function:serverlessprez_lambda',\n",
       " 'Role': 'arn:aws:iam::639381120660:role/serverlessprez',\n",
       " 'CodeSize': 0,\n",
       " 'Description': 'serverlessprez',\n",
       " 'Timeout': 30,\n",
       " 'MemorySize': 128,\n",
       " 'LastModified': '2022-07-09T13:26:07.740+0000',\n",
       " 'CodeSha256': '3eab2264fa1690f7985ec437625e5295e0e70150dacba6e920cc89eb8002380e',\n",
       " 'Version': '3',\n",
       " 'TracingConfig': {'Mode': 'PassThrough'},\n",
       " 'RevisionId': '76f48823-c148-4fe0-b3ff-7c0b859daa2b',\n",
       " 'State': 'Pending',\n",
       " 'StateReason': 'The function is being created.',\n",
       " 'StateReasonCode': 'Creating',\n",
       " 'PackageType': 'Image',\n",
       " 'Architectures': ['x86_64'],\n",
       " 'EphemeralStorage': {'Size': 512}}"
      ]
     },
     "execution_count": 56,
     "metadata": {},
     "output_type": "execute_result"
    }
   ],
   "source": [
    "pipeline.create_lambda(\n",
    "    '../serverless/lambda_app/app/lambda.py', \n",
    "    'serverlessprez_lambda',\n",
    "    image_uri=\"639381120660.dkr.ecr.us-east-1.amazonaws.com/serverlessprez:0.2.2\"\n",
    ")"
   ]
  },
  {
   "cell_type": "code",
   "execution_count": 27,
   "metadata": {},
   "outputs": [
    {
     "name": "stdout",
     "output_type": "stream",
     "text": [
      "{'ResponseMetadata': {'RequestId': '40e54fcc-d07e-4533-97a9-3587d577445f', 'HTTPStatusCode': 201, 'HTTPHeaders': {'date': 'Sat, 09 Jul 2022 14:06:15 GMT', 'content-type': 'application/json', 'content-length': '71', 'connection': 'keep-alive', 'x-amzn-requestid': '40e54fcc-d07e-4533-97a9-3587d577445f', 'x-amz-apigw-id': 'VAK1tIKSIAMEbPw='}, 'RetryAttempts': 0}, 'httpMethod': 'GET', 'authorizationType': 'NONE', 'apiKeyRequired': False}\n"
     ]
    },
    {
     "data": {
      "text/plain": [
       "{'ResponseMetadata': {'RequestId': 'fdc51554-49d1-4e19-90fc-adb478554c2d',\n",
       "  'HTTPStatusCode': 201,\n",
       "  'HTTPHeaders': {'date': 'Sat, 09 Jul 2022 14:06:16 GMT',\n",
       "   'content-type': 'application/json',\n",
       "   'content-length': '41',\n",
       "   'connection': 'keep-alive',\n",
       "   'x-amzn-requestid': 'fdc51554-49d1-4e19-90fc-adb478554c2d',\n",
       "   'x-amz-apigw-id': 'VAK1wL_KIAMEdjQ='},\n",
       "  'RetryAttempts': 0},\n",
       " 'id': '1whg22',\n",
       " 'createdDate': datetime.datetime(2022, 7, 9, 10, 6, 15, tzinfo=tzlocal())}"
      ]
     },
     "execution_count": 27,
     "metadata": {},
     "output_type": "execute_result"
    }
   ],
   "source": [
    "pipeline.create_api(\n",
    "    name = 'serverlessprez_lambda-0.5'\n",
    ")"
   ]
  },
  {
   "cell_type": "markdown",
   "metadata": {},
   "source": [
    "---"
   ]
  },
  {
   "cell_type": "code",
   "execution_count": 29,
   "metadata": {},
   "outputs": [
    {
     "data": {
      "text/plain": [
       "b'[{\"fipstxt\":1003,\"population_2020\":231767.0,\"rural_urban_continuum_code_2013\":3.0,\"census\":182265,\"estimatesbase\":182265,\"populationestimate_2010\":183112,\"populationestimate_2011\":186558,\"populationestimate_2012\":190145,\"populationestimate_2013\":194885,\"populationestimate_2014\":199183,\"populationestimate_2015\":202939,\"populationestimate_2016\":207601,\"populationestimate_2017\":212521,\"populationestimate_2018\":217855,\"populationestimate_2019\":223234,\"st\":1,\"cty\":3,\"ctyname\":\"Baldwin County, Alabama\"},{\"fipstxt\":1073,\"population_2020\":674721.0,\"rural_urban_continuum_code_2013\":1.0,\"census\":658466,\"estimatesbase\":658567,\"populationestimate_2010\":658215,\"populationestimate_2011\":658109,\"populationestimate_2012\":658061,\"populationestimate_2013\":659265,\"populationestimate_2014\":659972,\"populationestimate_2015\":660455,\"populationestimate_2016\":660343,\"populationestimate_2017\":659599,\"populationestimate_2018\":659429,\"populationestimate_2019\":658573,\"st\":1,\"cty\":73,\"ctyname\":\"Jefferson County, Alabama\"},{\"fipstxt\":1089,\"population_2020\":388153.0,\"rural_urban_continuum_code_2013\":2.0,\"census\":334811,\"estimatesbase\":334807,\"populationestimate_2010\":336095,\"populationestimate_2011\":339565,\"populationestimate_2012\":342730,\"populationestimate_2013\":346625,\"populationestimate_2014\":349796,\"populationestimate_2015\":352977,\"populationestimate_2016\":356729,\"populationestimate_2017\":361762,\"populationestimate_2018\":367004,\"populationestimate_2019\":372909,\"st\":1,\"cty\":89,\"ctyname\":\"Madison County, Alabama\"},{\"fipstxt\":1097,\"population_2020\":414809.0,\"rural_urban_continuum_code_2013\":2.0,\"census\":412992,\"estimatesbase\":413139,\"populationestimate_2010\":413315,\"populationestimate_2011\":413068,\"populationestimate_2012\":413816,\"populationestimate_2013\":413918,\"populationestimate_2014\":414149,\"populationestimate_2015\":414462,\"populationestimate_2016\":414945,\"populationestimate_2017\":414045,\"populationestimate_2018\":413908,\"populationestimate_2019\":413210,\"st\":1,\"cty\":97,\"ctyname\":\"Mobile County, Alabama\"},{\"fipstxt\":1101,\"population_2020\":228954.0,\"rural_urban_continuum_code_2013\":2.0,\"census\":229363,\"estimatesbase\":229375,\"populationestimate_2010\":229505,\"populationestimate_2011\":229189,\"populationestimate_2012\":228874,\"populationestimate_2013\":228190,\"populationestimate_2014\":227551,\"populationestimate_2015\":227279,\"populationestimate_2016\":227170,\"populationestimate_2017\":227265,\"populationestimate_2018\":226504,\"populationestimate_2019\":226486,\"st\":1,\"cty\":101,\"ctyname\":\"Montgomery County, Alabama\"},{\"fipstxt\":1117,\"population_2020\":223024.0,\"rural_urban_continuum_code_2013\":1.0,\"census\":195085,\"estimatesbase\":195253,\"populationestimate_2010\":196032,\"populationestimate_2011\":197952,\"populationestimate_2012\":200912,\"populationestimate_2013\":204039,\"populationestimate_2014\":206280,\"populationestimate_2015\":208959,\"populationestimate_2016\":211282,\"populationestimate_2017\":213633,\"populationestimate_2018\":215583,\"populationestimate_2019\":217702,\"st\":1,\"cty\":117,\"ctyname\":\"Shelby County, Alabama\"},{\"fipstxt\":1125,\"population_2020\":227036.0,\"rural_urban_continuum_code_2013\":3.0,\"census\":194656,\"estimatesbase\":194667,\"populationestimate_2010\":194996,\"populationestimate_2011\":196745,\"populationestimate_2012\":198807,\"populationestimate_2013\":201084,\"populationestimate_2014\":203086,\"populationestimate_2015\":204767,\"populationestimate_2016\":206464,\"populationestimate_2017\":207618,\"populationestimate_2018\":208319,\"populationestimate_2019\":209355,\"st\":1,\"cty\":125,\"ctyname\":\"Tuscaloosa County, Alabama\"},{\"fipstxt\":2020,\"population_2020\":291247.0,\"rural_urban_continuum_code_2013\":2.0,\"census\":291826,\"estimatesbase\":291836,\"populationestimate_2010\":293321,\"populationestimate_2011\":296197,\"populationestimate_2012\":298255,\"populationestimate_2013\":301142,\"populationestimate_2014\":299893,\"populationestimate_2015\":297547,\"populationestimate_2016\":297249,\"populationestimate_2017\":294338,\"populationestimate_2018\":290521,\"populationestimate_2019\":288000,\"st\":2,\"cty\":20,\"ctyname\":\"Anchorage Municipality, Alaska\"},{\"fipstxt\":4013,\"population_2020\":4420568.0,\"rural_urban_continuum_code_2013\":1.0,\"census\":3817117,\"estimatesbase\":3817365,\"populationestimate_2010\":3825110,\"populationestimate_2011\":3874996,\"populationestimate_2012\":3947505,\"populationestimate_2013\":4017723,\"populationestimate_2014\":4093648,\"populationestimate_2015\":4172905,\"populationestimate_2016\":4256143,\"populationestimate_2017\":4327184,\"populationestimate_2018\":4402403,\"populationestimate_2019\":4485414,\"st\":4,\"cty\":13,\"ctyname\":\"Maricopa County, Arizona\"},{\"fipstxt\":4015,\"population_2020\":213267.0,\"rural_urban_continuum_code_2013\":3.0,\"census\":200186,\"estimatesbase\":200182,\"populationestimate_2010\":200314,\"populationestimate_2011\":202812,\"populationestimate_2012\":203347,\"populationestimate_2013\":203126,\"populationestimate_2014\":203423,\"populationestimate_2015\":204574,\"populationestimate_2016\":205412,\"populationestimate_2017\":207017,\"populationestimate_2018\":209292,\"populationestimate_2019\":212181,\"st\":4,\"cty\":15,\"ctyname\":\"Mohave County, Arizona\"},{\"fipstxt\":4019,\"population_2020\":1043433.0,\"rural_urban_continuum_code_2013\":2.0,\"census\":980263,\"estimatesbase\":980263,\"populationestimate_2010\":981620,\"populationestimate_2011\":988381,\"populationestimate_2012\":993052,\"populationestimate_2013\":997127,\"populationestimate_2014\":1004229,\"populationestimate_2015\":1009103,\"populationestimate_2016\":1016707,\"populationestimate_2017\":1026391,\"populationestimate_2018\":1036554,\"populationestimate_2019\":1047279,\"st\":4,\"cty\":19,\"ctyname\":\"Pima County, Arizona\"},{\"fipstxt\":4021,\"population_2020\":425264.0,\"rural_urban_continuum_code_2013\":1.0,\"census\":375770,\"estimatesbase\":375764,\"populationestimate_2010\":379094,\"populationestimate_2011\":378041,\"populationestimate_2012\":382251,\"populationestimate_2013\":385398,\"populationestimate_2014\":395322,\"populationestimate_2015\":405614,\"populationestimate_2016\":417193,\"populationestimate_2017\":431564,\"populationestimate_2018\":446806,\"populationestimate_2019\":462789,\"st\":4,\"cty\":21,\"ctyname\":\"Pinal County, Arizona\"},{\"fipstxt\":4025,\"population_2020\":236209.0,\"rural_urban_continuum_code_2013\":3.0,\"census\":211033,\"estimatesbase\":211017,\"populationestimate_2010\":210983,\"populationestimate_2011\":211044,\"populationestimate_2012\":211990,\"populationestimate_2013\":214421,\"populationestimate_2014\":217716,\"populationestimate_2015\":220805,\"populationestimate_2016\":224575,\"populationestimate_2017\":228082,\"populationestimate_2018\":231772,\"populationestimate_2019\":235099,\"st\":4,\"cty\":25,\"ctyname\":\"Yavapai County, Arizona\"},{\"fipstxt\":4027,\"population_2020\":203881.0,\"rural_urban_continuum_code_2013\":3.0,\"census\":195751,\"estimatesbase\":195750,\"populationestimate_2010\":197127,\"populationestimate_2011\":202841,\"populationestimate_2012\":202475,\"populationestimate_2013\":202420,\"populationestimate_2014\":204054,\"populationestimate_2015\":205186,\"populationestimate_2016\":207247,\"populationestimate_2017\":209507,\"populationestimate_2018\":211612,\"populationestimate_2019\":213787,\"st\":4,\"cty\":27,\"ctyname\":\"Yuma County, Arizona\"},{\"fipstxt\":5007,\"population_2020\":284333.0,\"rural_urban_continuum_code_2013\":2.0,\"census\":221339,\"estimatesbase\":221348,\"populationestimate_2010\":222593,\"populationestimate_2011\":229171,\"populationestimate_2012\":234938,\"populationestimate_2013\":239461,\"populationestimate_2014\":244841,\"populationestimate_2015\":251591,\"populationestimate_2016\":259212,\"populationestimate_2017\":266585,\"populationestimate_2018\":272266,\"populationestimate_2019\":279141,\"st\":5,\"cty\":7,\"ctyname\":\"Benton County, Arkansas\"},{\"fipstxt\":5119,\"population_2020\":399125.0,\"rural_urban_continuum_code_2013\":2.0,\"census\":382748,\"estimatesbase\":382749,\"populationestimate_2010\":383538,\"populationestimate_2011\":386990,\"populationestimate_2012\":389225,\"populationestimate_2013\":391512,\"populationestimate_2014\":392952,\"populationestimate_2015\":393576,\"populationestimate_2016\":394151,\"populationestimate_2017\":393280,\"populationestimate_2018\":391918,\"populationestimate_2019\":391911,\"st\":5,\"cty\":119,\"ctyname\":\"Pulaski County, Arkansas\"},{\"fipstxt\":5143,\"population_2020\":245871.0,\"rural_urban_continuum_code_2013\":2.0,\"census\":203065,\"estimatesbase\":203050,\"populationestimate_2010\":204024,\"populationestimate_2011\":208051,\"populationestimate_2012\":211756,\"populationestimate_2013\":216000,\"populationestimate_2014\":219941,\"populationestimate_2015\":224434,\"populationestimate_2016\":228482,\"populationestimate_2017\":232732,\"populationestimate_2018\":236611,\"populationestimate_2019\":239187,\"st\":5,\"cty\":143,\"ctyname\":\"Washington County, Arkansas\"},{\"fipstxt\":6001,\"population_2020\":1682353.0,\"rural_urban_continuum_code_2013\":1.0,\"census\":1510271,\"estimatesbase\":1510258,\"populationestimate_2010\":1512986,\"populationestimate_2011\":1530915,\"populationestimate_2012\":1553764,\"populationestimate_2013\":1579593,\"populationestimate_2014\":1607792,\"populationestimate_2015\":1634538,\"populationestimate_2016\":1650950,\"populationestimate_2017\":1660196,\"populationestimate_2018\":1666756,\"populationestimate_2019\":1671329,\"st\":6,\"cty\":1,\"ctyname\":\"Alameda County, California\"},{\"fipstxt\":6007,\"population_2020\":211632.0,\"rural_urban_continuum_code_2013\":3.0,\"census\":220000,\"estimatesbase\":220005,\"populationestimate_2010\":219949,\"populationestimate_2011\":219975,\"populationestimate_2012\":220869,\"populationestimate_2013\":221641,\"populationestimate_2014\":223516,\"populationestimate_2015\":224631,\"populationestimate_2016\":226231,\"populationestimate_2017\":228696,\"populationestimate_2018\":230339,\"populationestimate_2019\":219186,\"st\":6,\"cty\":7,\"ctyname\":\"Butte County, California\"},{\"fipstxt\":6013,\"population_2020\":1165927.0,\"rural_urban_continuum_code_2013\":1.0,\"census\":1049025,\"estimatesbase\":1049204,\"populationestimate_2010\":1052540,\"populationestimate_2011\":1065440,\"populationestimate_2012\":1077548,\"populationestimate_2013\":1093401,\"populationestimate_2014\":1108876,\"populationestimate_2015\":1124405,\"populationestimate_2016\":1137268,\"populationestimate_2017\":1145535,\"populationestimate_2018\":1150519,\"populationestimate_2019\":1153526,\"st\":6,\"cty\":13,\"ctyname\":\"Contra Costa County, California\"},{\"fipstxt\":6019,\"population_2020\":1008654.0,\"rural_urban_continuum_code_2013\":2.0,\"census\":930450,\"estimatesbase\":930507,\"populationestimate_2010\":932039,\"populationestimate_2011\":939406,\"populationestimate_2012\":945045,\"populationestimate_2013\":951514,\"populationestimate_2014\":960567,\"populationestimate_2015\":969488,\"populationestimate_2016\":976830,\"populationestimate_2017\":985238,\"populationestimate_2018\":991950,\"populationestimate_2019\":999101,\"st\":6,\"cty\":19,\"ctyname\":\"Fresno County, California\"},{\"fipstxt\":6029,\"population_2020\":909235.0,\"rural_urban_continuum_code_2013\":2.0,\"census\":839631,\"estimatesbase\":839621,\"populationestimate_2010\":840996,\"populationestimate_2011\":847970,\"populationestimate_2012\":853606,\"populationestimate_2013\":862000,\"populationestimate_2014\":869176,\"populationestimate_2015\":876031,\"populationestimate_2016\":880856,\"populationestimate_2017\":887356,\"populationestimate_2018\":893758,\"populationestimate_2019\":900202,\"st\":6,\"cty\":29,\"ctyname\":\"Kern County, California\"},{\"fipstxt\":6037,\"population_2020\":10014009.0,\"rural_urban_continuum_code_2013\":1.0,\"census\":9818605,\"estimatesbase\":9819968,\"populationestimate_2010\":9823246,\"populationestimate_2011\":9876482,\"populationestimate_2012\":9935375,\"populationestimate_2013\":9992484,\"populationestimate_2014\":10040072,\"populationestimate_2015\":10085416,\"populationestimate_2016\":10105708,\"populationestimate_2017\":10103711,\"populationestimate_2018\":10073906,\"populationestimate_2019\":10039107,\"st\":6,\"cty\":37,\"ctyname\":\"Los Angeles County, California\"},{\"fipstxt\":6041,\"population_2020\":262321.0,\"rural_urban_continuum_code_2013\":1.0,\"census\":252409,\"estimatesbase\":252430,\"populationestimate_2010\":252904,\"populationestimate_2011\":255376,\"populationestimate_2012\":256061,\"populationestimate_2013\":258409,\"populationestimate_2014\":260359,\"populationestimate_2015\":260916,\"populationestimate_2016\":260562,\"populationestimate_2017\":259749,\"populationestimate_2018\":259662,\"populationestimate_2019\":258826,\"st\":6,\"cty\":41,\"ctyname\":\"Marin County, California\"},{\"fipstxt\":6047,\"population_2020\":281202.0,\"rural_urban_continuum_code_2013\":2.0,\"census\":255793,\"estimatesbase\":255796,\"populationestimate_2010\":256721,\"populationestimate_2011\":259297,\"populationestimate_2012\":260867,\"populationestimate_2013\":262026,\"populationestimate_2014\":264419,\"populationestimate_2015\":266353,\"populationestimate_2016\":267628,\"populationestimate_2017\":271096,\"populationestimate_2018\":274151,\"populationestimate_2019\":277680,\"st\":6,\"cty\":47,\"ctyname\":\"Merced County, California\"},{\"fipstxt\":6053,\"population_2020\":439035.0,\"rural_urban_continuum_code_2013\":2.0,\"census\":415057,\"estimatesbase\":415059,\"populationestimate_2010\":416373,\"populationestimate_2011\":420456,\"populationestimate_2012\":424788,\"populationestimate_2013\":426712,\"populationestimate_2014\":428475,\"populationestimate_2015\":430552,\"populationestimate_2016\":433953,\"populationestimate_2017\":434534,\"populationestimate_2018\":433950,\"populationestimate_2019\":434061,\"st\":6,\"cty\":53,\"ctyname\":\"Monterey County, California\"},{\"fipstxt\":6059,\"population_2020\":3186989.0,\"rural_urban_continuum_code_2013\":1.0,\"census\":3010232,\"estimatesbase\":3008989,\"populationestimate_2010\":3015171,\"populationestimate_2011\":3049271,\"populationestimate_2012\":3078068,\"populationestimate_2013\":3104950,\"populationestimate_2014\":3126537,\"populationestimate_2015\":3149280,\"populationestimate_2016\":3164986,\"populationestimate_2017\":3174289,\"populationestimate_2018\":3175973,\"populationestimate_2019\":3175692,\"st\":6,\"cty\":59,\"ctyname\":\"Orange County, California\"},{\"fipstxt\":6061,\"population_2020\":404739.0,\"rural_urban_continuum_code_2013\":1.0,\"census\":348432,\"estimatesbase\":348502,\"populationestimate_2010\":350021,\"populationestimate_2011\":356328,\"populationestimate_2012\":360263,\"populationestimate_2013\":365398,\"populationestimate_2014\":369217,\"populationestimate_2015\":372841,\"populationestimate_2016\":378943,\"populationestimate_2017\":385115,\"populationestimate_2018\":392330,\"populationestimate_2019\":398329,\"st\":6,\"cty\":61,\"ctyname\":\"Placer County, California\"},{\"fipstxt\":6065,\"population_2020\":2418185.0,\"rural_urban_continuum_code_2013\":1.0,\"census\":2189641,\"estimatesbase\":2189765,\"populationestimate_2010\":2201576,\"populationestimate_2011\":2234070,\"populationestimate_2012\":2261204,\"populationestimate_2013\":2286755,\"populationestimate_2014\":2316162,\"populationestimate_2015\":2345816,\"populationestimate_2016\":2380081,\"populationestimate_2017\":2414964,\"populationestimate_2018\":2445789,\"populationestimate_2019\":2470546,\"st\":6,\"cty\":65,\"ctyname\":\"Riverside County, California\"},{\"fipstxt\":6067,\"population_2020\":1585055.0,\"rural_urban_continuum_code_2013\":1.0,\"census\":1418788,\"estimatesbase\":1418735,\"populationestimate_2010\":1421383,\"populationestimate_2011\":1433730,\"populationestimate_2012\":1444852,\"populationestimate_2013\":1457341,\"populationestimate_2014\":1474917,\"populationestimate_2015\":1493674,\"populationestimate_2016\":1510987,\"populationestimate_2017\":1527301,\"populationestimate_2018\":1538746,\"populationestimate_2019\":1552058,\"st\":6,\"cty\":67,\"ctyname\":\"Sacramento County, California\"},{\"fipstxt\":6071,\"population_2020\":2181654.0,\"rural_urban_continuum_code_2013\":1.0,\"census\":2035210,\"estimatesbase\":2035183,\"populationestimate_2010\":2040848,\"populationestimate_2011\":2060827,\"populationestimate_2012\":2073512,\"populationestimate_2013\":2082738,\"populationestimate_2014\":2099181,\"populationestimate_2015\":2115411,\"populationestimate_2016\":2131960,\"populationestimate_2017\":2150945,\"populationestimate_2018\":2166753,\"populationestimate_2019\":2180085,\"st\":6,\"cty\":71,\"ctyname\":\"San Bernardino County, California\"},{\"fipstxt\":6073,\"population_2020\":3298634.0,\"rural_urban_continuum_code_2013\":1.0,\"census\":3095313,\"estimatesbase\":3095349,\"populationestimate_2010\":3103212,\"populationestimate_2011\":3137156,\"populationestimate_2012\":3174335,\"populationestimate_2013\":3209768,\"populationestimate_2014\":3248877,\"populationestimate_2015\":3280850,\"populationestimate_2016\":3306089,\"populationestimate_2017\":3321237,\"populationestimate_2018\":3333861,\"populationestimate_2019\":3338330,\"st\":6,\"cty\":73,\"ctyname\":\"San Diego County, California\"},{\"fipstxt\":6075,\"population_2020\":873965.0,\"rural_urban_continuum_code_2013\":1.0,\"census\":805235,\"estimatesbase\":805184,\"populationestimate_2010\":805505,\"populationestimate_2011\":815650,\"populationestimate_2012\":828876,\"populationestimate_2013\":839572,\"populationestimate_2014\":850750,\"populationestimate_2015\":863010,\"populationestimate_2016\":871512,\"populationestimate_2017\":878040,\"populationestimate_2018\":880696,\"populationestimate_2019\":881549,\"st\":6,\"cty\":75,\"ctyname\":\"San Francisco County, California\"},{\"fipstxt\":6077,\"population_2020\":779233.0,\"rural_urban_continuum_code_2013\":2.0,\"census\":685306,\"estimatesbase\":685306,\"populationestimate_2010\":687127,\"populationestimate_2011\":694354,\"populationestimate_2012\":699593,\"populationestimate_2013\":702046,\"populationestimate_2014\":711579,\"populationestimate_2015\":722271,\"populationestimate_2016\":732809,\"populationestimate_2017\":743296,\"populationestimate_2018\":752491,\"populationestimate_2019\":762148,\"st\":6,\"cty\":77,\"ctyname\":\"San Joaquin County, California\"},{\"fipstxt\":6079,\"population_2020\":282424.0,\"rural_urban_continuum_code_2013\":2.0,\"census\":269637,\"estimatesbase\":269597,\"populationestimate_2010\":269802,\"populationestimate_2011\":271058,\"populationestimate_2012\":274160,\"populationestimate_2013\":275696,\"populationestimate_2014\":278227,\"populationestimate_2015\":280077,\"populationestimate_2016\":281803,\"populationestimate_2017\":282481,\"populationestimate_2018\":283354,\"populationestimate_2019\":283111,\"st\":6,\"cty\":79,\"ctyname\":\"San Luis Obispo County, California\"},{\"fipstxt\":6081,\"population_2020\":764442.0,\"rural_urban_continuum_code_2013\":1.0,\"census\":718451,\"estimatesbase\":718517,\"populationestimate_2010\":719699,\"populationestimate_2011\":728344,\"populationestimate_2012\":739224,\"populationestimate_2013\":748661,\"populationestimate_2014\":757204,\"populationestimate_2015\":765055,\"populationestimate_2016\":767906,\"populationestimate_2017\":768901,\"populationestimate_2018\":768681,\"populationestimate_2019\":766573,\"st\":6,\"cty\":81,\"ctyname\":\"San Mateo County, California\"},{\"fipstxt\":6083,\"population_2020\":448229.0,\"rural_urban_continuum_code_2013\":2.0,\"census\":423895,\"estimatesbase\":423947,\"populationestimate_2010\":424231,\"populationestimate_2011\":425453,\"populationestimate_2012\":429699,\"populationestimate_2013\":434601,\"populationestimate_2014\":439045,\"populationestimate_2015\":442229,\"populationestimate_2016\":444340,\"populationestimate_2017\":445298,\"populationestimate_2018\":445780,\"populationestimate_2019\":446499,\"st\":6,\"cty\":83,\"ctyname\":\"Santa Barbara County, California\"},{\"fipstxt\":6085,\"population_2020\":1936259.0,\"rural_urban_continuum_code_2013\":1.0,\"census\":1781642,\"estimatesbase\":1781686,\"populationestimate_2010\":1786040,\"populationestimate_2011\":1812054,\"populationestimate_2012\":1837853,\"populationestimate_2013\":1866425,\"populationestimate_2014\":1891753,\"populationestimate_2015\":1916285,\"populationestimate_2016\":1928368,\"populationestimate_2017\":1932510,\"populationestimate_2018\":1932337,\"populationestimate_2019\":1927852,\"st\":6,\"cty\":85,\"ctyname\":\"Santa Clara County, California\"},{\"fipstxt\":6087,\"population_2020\":270861.0,\"rural_urban_continuum_code_2013\":2.0,\"census\":262382,\"estimatesbase\":262350,\"populationestimate_2010\":263147,\"populationestimate_2011\":264858,\"populationestimate_2012\":266340,\"populationestimate_2013\":268816,\"populationestimate_2014\":270861,\"populationestimate_2015\":273503,\"populationestimate_2016\":274396,\"populationestimate_2017\":274856,\"populationestimate_2018\":273841,\"populationestimate_2019\":273213,\"st\":6,\"cty\":87,\"ctyname\":\"Santa Cruz County, California\"},{\"fipstxt\":6095,\"population_2020\":453491.0,\"rural_urban_continuum_code_2013\":2.0,\"census\":413344,\"estimatesbase\":413343,\"populationestimate_2010\":413967,\"populationestimate_2011\":416342,\"populationestimate_2012\":419674,\"populationestimate_2013\":423659,\"populationestimate_2014\":429006,\"populationestimate_2015\":433409,\"populationestimate_2016\":438858,\"populationestimate_2017\":443511,\"populationestimate_2018\":445725,\"populationestimate_2019\":447643,\"st\":6,\"cty\":95,\"ctyname\":\"Solano County, California\"},{\"fipstxt\":6097,\"population_2020\":488863.0,\"rural_urban_continuum_code_2013\":2.0,\"census\":483878,\"estimatesbase\":483861,\"populationestimate_2010\":484755,\"populationestimate_2011\":487421,\"populationestimate_2012\":489993,\"populationestimate_2013\":494073,\"populationestimate_2014\":498560,\"populationestimate_2015\":500863,\"populationestimate_2016\":502547,\"populationestimate_2017\":502469,\"populationestimate_2018\":498643,\"populationestimate_2019\":494336,\"st\":6,\"cty\":97,\"ctyname\":\"Sonoma County, California\"},{\"fipstxt\":6099,\"population_2020\":552878.0,\"rural_urban_continuum_code_2013\":2.0,\"census\":514453,\"estimatesbase\":514450,\"populationestimate_2010\":515145,\"populationestimate_2011\":517560,\"populationestimate_2012\":520424,\"populationestimate_2013\":523451,\"populationestimate_2014\":528015,\"populationestimate_2015\":533211,\"populationestimate_2016\":539255,\"populationestimate_2017\":544717,\"populationestimate_2018\":548126,\"populationestimate_2019\":550660,\"st\":6,\"cty\":99,\"ctyname\":\"Stanislaus County, California\"},{\"fipstxt\":6107,\"population_2020\":473117.0,\"rural_urban_continuum_code_2013\":2.0,\"census\":442179,\"estimatesbase\":442182,\"populationestimate_2010\":442969,\"populationestimate_2011\":446784,\"populationestimate_2012\":449779,\"populationestimate_2013\":452460,\"populationestimate_2014\":455138,\"populationestimate_2015\":457161,\"populationestimate_2016\":459235,\"populationestimate_2017\":462308,\"populationestimate_2018\":464589,\"populationestimate_2019\":466195,\"st\":6,\"cty\":107,\"ctyname\":\"Tulare County, California\"},{\"fipstxt\":6111,\"population_2020\":843843.0,\"rural_urban_continuum_code_2013\":2.0,\"census\":823318,\"estimatesbase\":823398,\"populationestimate_2010\":825097,\"populationestimate_2011\":830099,\"populationestimate_2012\":833516,\"populationestimate_2013\":838136,\"populationestimate_2014\":842297,\"populationestimate_2015\":845802,\"populationestimate_2016\":847323,\"populationestimate_2017\":849044,\"populationestimate_2018\":848142,\"populationestimate_2019\":846006,\"st\":6,\"cty\":111,\"ctyname\":\"Ventura County, California\"},{\"fipstxt\":6113,\"population_2020\":216403.0,\"rural_urban_continuum_code_2013\":1.0,\"census\":200849,\"estimatesbase\":200855,\"populationestimate_2010\":201073,\"populationestimate_2011\":201954,\"populationestimate_2012\":204576,\"populationestimate_2013\":206292,\"populationestimate_2014\":208398,\"populationestimate_2015\":212037,\"populationestimate_2016\":215627,\"populationestimate_2017\":218477,\"populationestimate_2018\":220118,\"populationestimate_2019\":220500,\"st\":6,\"cty\":113,\"ctyname\":\"Yolo County, California\"},{\"fipstxt\":8001,\"population_2020\":519572.0,\"rural_urban_continuum_code_2013\":1.0,\"census\":441603,\"estimatesbase\":441697,\"populationestimate_2010\":443691,\"populationestimate_2011\":452201,\"populationestimate_2012\":460558,\"populationestimate_2013\":469978,\"populationestimate_2014\":479946,\"populationestimate_2015\":490443,\"populationestimate_2016\":497734,\"populationestimate_2017\":503590,\"populationestimate_2018\":511354,\"populationestimate_2019\":517421,\"st\":8,\"cty\":1,\"ctyname\":\"Adams County, Colorado\"},{\"fipstxt\":8005,\"population_2020\":655070.0,\"rural_urban_continuum_code_2013\":1.0,\"census\":572003,\"estimatesbase\":572118,\"populationestimate_2010\":574747,\"populationestimate_2011\":585968,\"populationestimate_2012\":596500,\"populationestimate_2013\":608467,\"populationestimate_2014\":619034,\"populationestimate_2015\":630984,\"populationestimate_2016\":638950,\"populationestimate_2017\":644478,\"populationestimate_2018\":651797,\"populationestimate_2019\":656590,\"st\":8,\"cty\":5,\"ctyname\":\"Arapahoe County, Colorado\"},{\"fipstxt\":8013,\"population_2020\":330758.0,\"rural_urban_continuum_code_2013\":2.0,\"census\":294567,\"estimatesbase\":294560,\"populationestimate_2010\":295037,\"populationestimate_2011\":299957,\"populationestimate_2012\":304570,\"populationestimate_2013\":309323,\"populationestimate_2014\":312233,\"populationestimate_2015\":318027,\"populationestimate_2016\":321250,\"populationestimate_2017\":322441,\"populationestimate_2018\":324636,\"populationestimate_2019\":326196,\"st\":8,\"cty\":13,\"ctyname\":\"Boulder County, Colorado\"},{\"fipstxt\":8031,\"population_2020\":715522.0,\"rural_urban_continuum_code_2013\":1.0,\"census\":600158,\"estimatesbase\":599825,\"populationestimate_2010\":603359,\"populationestimate_2011\":620530,\"populationestimate_2012\":635163,\"populationestimate_2013\":649391,\"populationestimate_2014\":664582,\"populationestimate_2015\":683285,\"populationestimate_2016\":696159,\"populationestimate_2017\":704961,\"populationestimate_2018\":716265,\"populationestimate_2019\":727211,\"st\":8,\"cty\":31,\"ctyname\":\"Denver County, Colorado\"},{\"fipstxt\":8035,\"population_2020\":357978.0,\"rural_urban_continuum_code_2013\":1.0,\"census\":285465,\"estimatesbase\":285465,\"populationestimate_2010\":286977,\"populationestimate_2011\":292548,\"populationestimate_2012\":298708,\"populationestimate_2013\":306234,\"populationestimate_2014\":314545,\"populationestimate_2015\":322025,\"populationestimate_2016\":328219,\"populationestimate_2017\":335816,\"populationestimate_2018\":342989,\"populationestimate_2019\":351154,\"st\":8,\"cty\":35,\"ctyname\":\"Douglas County, Colorado\"},{\"fipstxt\":8041,\"population_2020\":730395.0,\"rural_urban_continuum_code_2013\":2.0,\"census\":622263,\"estimatesbase\":622253,\"populationestimate_2010\":627031,\"populationestimate_2011\":637305,\"populationestimate_2012\":646003,\"populationestimate_2013\":655209,\"populationestimate_2014\":663129,\"populationestimate_2015\":674001,\"populationestimate_2016\":688277,\"populationestimate_2017\":700099,\"populationestimate_2018\":712089,\"populationestimate_2019\":720403,\"st\":8,\"cty\":41,\"ctyname\":\"El Paso County, Colorado\"},{\"fipstxt\":8059,\"population_2020\":582910.0,\"rural_urban_continuum_code_2013\":1.0,\"census\":534543,\"estimatesbase\":534829,\"populationestimate_2010\":535548,\"populationestimate_2011\":540506,\"populationestimate_2012\":546602,\"populationestimate_2013\":552031,\"populationestimate_2014\":558819,\"populationestimate_2015\":564888,\"populationestimate_2016\":571413,\"populationestimate_2017\":575417,\"populationestimate_2018\":579392,\"populationestimate_2019\":582881,\"st\":8,\"cty\":59,\"ctyname\":\"Jefferson County, Colorado\"},{\"fipstxt\":8069,\"population_2020\":359066.0,\"rural_urban_continuum_code_2013\":2.0,\"census\":299630,\"estimatesbase\":299630,\"populationestimate_2010\":300441,\"populationestimate_2011\":305246,\"populationestimate_2012\":310842,\"populationestimate_2013\":316225,\"populationestimate_2014\":324008,\"populationestimate_2015\":333303,\"populationestimate_2016\":338984,\"populationestimate_2017\":344084,\"populationestimate_2018\":350660,\"populationestimate_2019\":356899,\"st\":8,\"cty\":69,\"ctyname\":\"Larimer County, Colorado\"},{\"fipstxt\":8123,\"population_2020\":328981.0,\"rural_urban_continuum_code_2013\":2.0,\"census\":252825,\"estimatesbase\":252827,\"populationestimate_2010\":254207,\"populationestimate_2011\":258827,\"populationestimate_2012\":264131,\"populationestimate_2013\":270165,\"populationestimate_2014\":277112,\"populationestimate_2015\":285819,\"populationestimate_2016\":295712,\"populationestimate_2017\":305885,\"populationestimate_2018\":314815,\"populationestimate_2019\":324492,\"st\":8,\"cty\":123,\"ctyname\":\"Weld County, Colorado\"},{\"fipstxt\":9001,\"population_2020\":957419.0,\"rural_urban_continuum_code_2013\":2.0,\"census\":916829,\"estimatesbase\":916904,\"populationestimate_2010\":919355,\"populationestimate_2011\":928000,\"populationestimate_2012\":935099,\"populationestimate_2013\":939924,\"populationestimate_2014\":944196,\"populationestimate_2015\":944943,\"populationestimate_2016\":944347,\"populationestimate_2017\":943038,\"populationestimate_2018\":943971,\"populationestimate_2019\":943332,\"st\":9,\"cty\":1,\"ctyname\":\"Fairfield County, Connecticut\"},{\"fipstxt\":9003,\"population_2020\":899498.0,\"rural_urban_continuum_code_2013\":1.0,\"census\":894014,\"estimatesbase\":894052,\"populationestimate_2010\":895236,\"populationestimate_2011\":896864,\"populationestimate_2012\":897706,\"populationestimate_2013\":897678,\"populationestimate_2014\":897407,\"populationestimate_2015\":896290,\"populationestimate_2016\":894141,\"populationestimate_2017\":893076,\"populationestimate_2018\":892580,\"populationestimate_2019\":891720,\"st\":9,\"cty\":3,\"ctyname\":\"Hartford County, Connecticut\"},{\"fipstxt\":9009,\"population_2020\":864835.0,\"rural_urban_continuum_code_2013\":2.0,\"census\":862477,\"estimatesbase\":862442,\"populationestimate_2010\":863357,\"populationestimate_2011\":863871,\"populationestimate_2012\":864566,\"populationestimate_2013\":862820,\"populationestimate_2014\":862885,\"populationestimate_2015\":860186,\"populationestimate_2016\":857901,\"populationestimate_2017\":857748,\"populationestimate_2018\":856971,\"populationestimate_2019\":854757,\"st\":9,\"cty\":9,\"ctyname\":\"New Haven County, Connecticut\"},{\"fipstxt\":9011,\"population_2020\":268555.0,\"rural_urban_continuum_code_2013\":2.0,\"census\":274055,\"estimatesbase\":274070,\"populationestimate_2010\":274004,\"populationestimate_2011\":273037,\"populationestimate_2012\":274091,\"populationestimate_2013\":272976,\"populationestimate_2014\":271462,\"populationestimate_2015\":269636,\"populationestimate_2016\":268403,\"populationestimate_2017\":267419,\"populationestimate_2018\":266285,\"populationestimate_2019\":265206,\"st\":9,\"cty\":11,\"ctyname\":\"New London County, Connecticut\"},{\"fipstxt\":10003,\"population_2020\":570719.0,\"rural_urban_continuum_code_2013\":1.0,\"census\":538479,\"estimatesbase\":538484,\"populationestimate_2010\":538752,\"populationestimate_2011\":541909,\"populationestimate_2012\":544848,\"populationestimate_2013\":548331,\"populationestimate_2014\":550768,\"populationestimate_2015\":553488,\"populationestimate_2016\":555058,\"populationestimate_2017\":555976,\"populationestimate_2018\":557550,\"populationestimate_2019\":558753,\"st\":10,\"cty\":3,\"ctyname\":\"New Castle County, Delaware\"},{\"fipstxt\":10005,\"population_2020\":237378.0,\"rural_urban_continuum_code_2013\":2.0,\"census\":197145,\"estimatesbase\":197103,\"populationestimate_2010\":197885,\"populationestimate_2011\":200362,\"populationestimate_2012\":203034,\"populationestimate_2013\":206207,\"populationestimate_2014\":210263,\"populationestimate_2015\":214636,\"populationestimate_2016\":219321,\"populationestimate_2017\":224348,\"populationestimate_2018\":229389,\"populationestimate_2019\":234225,\"st\":10,\"cty\":5,\"ctyname\":\"Sussex County, Delaware\"},{\"fipstxt\":11001,\"population_2020\":689545.0,\"rural_urban_continuum_code_2013\":1.0,\"census\":601723,\"estimatesbase\":601767,\"populationestimate_2010\":605226,\"populationestimate_2011\":619800,\"populationestimate_2012\":634924,\"populationestimate_2013\":650581,\"populationestimate_2014\":662328,\"populationestimate_2015\":675400,\"populationestimate_2016\":685815,\"populationestimate_2017\":694906,\"populationestimate_2018\":701547,\"populationestimate_2019\":705749,\"st\":11,\"cty\":1,\"ctyname\":\"District of Columbia, District of Columbia\"},{\"fipstxt\":12001,\"population_2020\":278468.0,\"rural_urban_continuum_code_2013\":2.0,\"census\":247336,\"estimatesbase\":247337,\"populationestimate_2010\":247614,\"populationestimate_2011\":249834,\"populationestimate_2012\":251520,\"populationestimate_2013\":252475,\"populationestimate_2014\":255456,\"populationestimate_2015\":259052,\"populationestimate_2016\":263959,\"populationestimate_2017\":266309,\"populationestimate_2018\":268851,\"populationestimate_2019\":269043,\"st\":12,\"cty\":1,\"ctyname\":\"Alachua County, Florida\"},{\"fipstxt\":12009,\"population_2020\":606612.0,\"rural_urban_continuum_code_2013\":2.0,\"census\":543376,\"estimatesbase\":543372,\"populationestimate_2010\":543965,\"populationestimate_2011\":544359,\"populationestimate_2012\":546966,\"populationestimate_2013\":550255,\"populationestimate_2014\":555548,\"populationestimate_2015\":565746,\"populationestimate_2016\":576874,\"populationestimate_2017\":587769,\"populationestimate_2018\":595203,\"populationestimate_2019\":601942,\"st\":12,\"cty\":9,\"ctyname\":\"Brevard County, Florida\"},{\"fipstxt\":12011,\"population_2020\":1944375.0,\"rural_urban_continuum_code_2013\":1.0,\"census\":1748066,\"estimatesbase\":1748146,\"populationestimate_2010\":1752803,\"populationestimate_2011\":1786980,\"populationestimate_2012\":1814253,\"populationestimate_2013\":1836600,\"populationestimate_2014\":1860933,\"populationestimate_2015\":1885040,\"populationestimate_2016\":1912583,\"populationestimate_2017\":1934516,\"populationestimate_2018\":1946107,\"populationestimate_2019\":1952778,\"st\":12,\"cty\":11,\"ctyname\":\"Broward County, Florida\"},{\"fipstxt\":12019,\"population_2020\":218245.0,\"rural_urban_continuum_code_2013\":1.0,\"census\":190865,\"estimatesbase\":190878,\"populationestimate_2010\":191451,\"populationestimate_2011\":192314,\"populationestimate_2012\":193861,\"populationestimate_2013\":195657,\"populationestimate_2014\":198570,\"populationestimate_2015\":202392,\"populationestimate_2016\":207246,\"populationestimate_2017\":212228,\"populationestimate_2018\":215908,\"populationestimate_2019\":219252,\"st\":12,\"cty\":19,\"ctyname\":\"Clay County, Florida\"},{\"fipstxt\":12021,\"population_2020\":375752.0,\"rural_urban_continuum_code_2013\":2.0,\"census\":321520,\"estimatesbase\":321522,\"populationestimate_2010\":322581,\"populationestimate_2011\":327629,\"populationestimate_2012\":332233,\"populationestimate_2013\":338987,\"populationestimate_2014\":347211,\"populationestimate_2015\":356041,\"populationestimate_2016\":365445,\"populationestimate_2017\":372678,\"populationestimate_2018\":378201,\"populationestimate_2019\":384902,\"st\":12,\"cty\":21,\"ctyname\":\"Collier County, Florida\"},{\"fipstxt\":12031,\"population_2020\":995567.0,\"rural_urban_continuum_code_2013\":1.0,\"census\":864263,\"estimatesbase\":864253,\"populationestimate_2010\":865628,\"populationestimate_2011\":872355,\"populationestimate_2012\":880108,\"populationestimate_2013\":885943,\"populationestimate_2014\":896668,\"populationestimate_2015\":910578,\"populationestimate_2016\":926010,\"populationestimate_2017\":937933,\"populationestimate_2018\":948652,\"populationestimate_2019\":957755,\"st\":12,\"cty\":31,\"ctyname\":\"Duval County, Florida\"},{\"fipstxt\":12033,\"population_2020\":321905.0,\"rural_urban_continuum_code_2013\":2.0,\"census\":297619,\"estimatesbase\":297620,\"populationestimate_2010\":298038,\"populationestimate_2011\":299401,\"populationestimate_2012\":303423,\"populationestimate_2013\":306694,\"populationestimate_2014\":307960,\"populationestimate_2015\":309311,\"populationestimate_2016\":311473,\"populationestimate_2017\":313249,\"populationestimate_2018\":315104,\"populationestimate_2019\":318316,\"st\":12,\"cty\":33,\"ctyname\":\"Escambia County, Florida\"},{\"fipstxt\":12057,\"population_2020\":1459762.0,\"rural_urban_continuum_code_2013\":1.0,\"census\":1229226,\"estimatesbase\":1229202,\"populationestimate_2010\":1233498,\"populationestimate_2011\":1255503,\"populationestimate_2012\":1279639,\"populationestimate_2013\":1304131,\"populationestimate_2014\":1332298,\"populationestimate_2015\":1364073,\"populationestimate_2016\":1396693,\"populationestimate_2017\":1426736,\"populationestimate_2018\":1451919,\"populationestimate_2019\":1471968,\"st\":12,\"cty\":57,\"ctyname\":\"Hillsborough County, Florida\"},{\"fipstxt\":12069,\"population_2020\":383956.0,\"rural_urban_continuum_code_2013\":1.0,\"census\":297052,\"estimatesbase\":297047,\"populationestimate_2010\":297709,\"populationestimate_2011\":300505,\"populationestimate_2012\":303725,\"populationestimate_2013\":307973,\"populationestimate_2014\":315340,\"populationestimate_2015\":325154,\"populationestimate_2016\":334913,\"populationestimate_2017\":345432,\"populationestimate_2018\":356720,\"populationestimate_2019\":367118,\"st\":12,\"cty\":69,\"ctyname\":\"Lake County, Florida\"},{\"fipstxt\":12071,\"population_2020\":760822.0,\"rural_urban_continuum_code_2013\":2.0,\"census\":618754,\"estimatesbase\":618755,\"populationestimate_2010\":620449,\"populationestimate_2011\":631053,\"populationestimate_2012\":644197,\"populationestimate_2013\":659834,\"populationestimate_2014\":677232,\"populationestimate_2015\":699644,\"populationestimate_2016\":722649,\"populationestimate_2017\":740000,\"populationestimate_2018\":754470,\"populationestimate_2019\":770577,\"st\":12,\"cty\":71,\"ctyname\":\"Lee County, Florida\"},{\"fipstxt\":12073,\"population_2020\":292198.0,\"rural_urban_continuum_code_2013\":2.0,\"census\":275487,\"estimatesbase\":275483,\"populationestimate_2010\":275971,\"populationestimate_2011\":278371,\"populationestimate_2012\":283620,\"populationestimate_2013\":281887,\"populationestimate_2014\":283770,\"populationestimate_2015\":285904,\"populationestimate_2016\":286744,\"populationestimate_2017\":290965,\"populationestimate_2018\":291657,\"populationestimate_2019\":293582,\"st\":12,\"cty\":73,\"ctyname\":\"Leon County, Florida\"},{\"fipstxt\":12081,\"population_2020\":399710.0,\"rural_urban_continuum_code_2013\":2.0,\"census\":322833,\"estimatesbase\":322879,\"populationestimate_2010\":323424,\"populationestimate_2011\":327549,\"populationestimate_2012\":333844,\"populationestimate_2013\":341855,\"populationestimate_2014\":350865,\"populationestimate_2015\":362548,\"populationestimate_2016\":375373,\"populationestimate_2017\":385506,\"populationestimate_2018\":394387,\"populationestimate_2019\":403253,\"st\":12,\"cty\":81,\"ctyname\":\"Manatee County, Florida\"},{\"fipstxt\":12083,\"population_2020\":375908.0,\"rural_urban_continuum_code_2013\":2.0,\"census\":331298,\"estimatesbase\":331299,\"populationestimate_2010\":331331,\"populationestimate_2011\":332286,\"populationestimate_2012\":333873,\"populationestimate_2013\":335083,\"populationestimate_2014\":338005,\"populationestimate_2015\":342182,\"populationestimate_2016\":347469,\"populationestimate_2017\":353339,\"populationestimate_2018\":359062,\"populationestimate_2019\":365579,\"st\":12,\"cty\":83,\"ctyname\":\"Marion County, Florida\"},{\"fipstxt\":12086,\"population_2020\":2701767.0,\"rural_urban_continuum_code_2013\":1.0,\"census\":2496435,\"estimatesbase\":2497993,\"populationestimate_2010\":2506972,\"populationestimate_2011\":2544531,\"populationestimate_2012\":2576554,\"populationestimate_2013\":2609692,\"populationestimate_2014\":2634269,\"populationestimate_2015\":2659839,\"populationestimate_2016\":2692213,\"populationestimate_2017\":2713295,\"populationestimate_2018\":2714854,\"populationestimate_2019\":2716940,\"st\":12,\"cty\":86,\"ctyname\":\"Miami-Dade County, Florida\"},{\"fipstxt\":12091,\"population_2020\":211668.0,\"rural_urban_continuum_code_2013\":3.0,\"census\":180822,\"estimatesbase\":180824,\"populationestimate_2010\":180715,\"populationestimate_2011\":183102,\"populationestimate_2012\":189762,\"populationestimate_2013\":192688,\"populationestimate_2014\":194615,\"populationestimate_2015\":197748,\"populationestimate_2016\":200071,\"populationestimate_2017\":203478,\"populationestimate_2018\":206934,\"populationestimate_2019\":210738,\"st\":12,\"cty\":91,\"ctyname\":\"Okaloosa County, Florida\"},{\"fipstxt\":12095,\"population_2020\":1429908.0,\"rural_urban_continuum_code_2013\":1.0,\"census\":1145956,\"estimatesbase\":1145957,\"populationestimate_2010\":1148564,\"populationestimate_2011\":1170579,\"populationestimate_2012\":1202498,\"populationestimate_2013\":1227435,\"populationestimate_2014\":1256606,\"populationestimate_2015\":1291301,\"populationestimate_2016\":1326516,\"populationestimate_2017\":1355921,\"populationestimate_2018\":1381540,\"populationestimate_2019\":1393452,\"st\":12,\"cty\":95,\"ctyname\":\"Orange County, Florida\"},{\"fipstxt\":12097,\"population_2020\":388656.0,\"rural_urban_continuum_code_2013\":1.0,\"census\":268685,\"estimatesbase\":268685,\"populationestimate_2010\":269837,\"populationestimate_2011\":278636,\"populationestimate_2012\":288876,\"populationestimate_2013\":299238,\"populationestimate_2014\":311046,\"populationestimate_2015\":323736,\"populationestimate_2016\":338209,\"populationestimate_2017\":353623,\"populationestimate_2018\":368456,\"populationestimate_2019\":375751,\"st\":12,\"cty\":97,\"ctyname\":\"Osceola County, Florida\"},{\"fipstxt\":12099,\"population_2020\":1492191.0,\"rural_urban_continuum_code_2013\":1.0,\"census\":1320134,\"estimatesbase\":1320135,\"populationestimate_2010\":1323619,\"populationestimate_2011\":1336760,\"populationestimate_2012\":1354936,\"populationestimate_2013\":1376462,\"populationestimate_2014\":1398656,\"populationestimate_2015\":1424256,\"populationestimate_2016\":1450890,\"populationestimate_2017\":1470344,\"populationestimate_2018\":1482876,\"populationestimate_2019\":1496770,\"st\":12,\"cty\":99,\"ctyname\":\"Palm Beach County, Florida\"},{\"fipstxt\":12101,\"population_2020\":561891.0,\"rural_urban_continuum_code_2013\":1.0,\"census\":464697,\"estimatesbase\":464705,\"populationestimate_2010\":465487,\"populationestimate_2011\":466464,\"populationestimate_2012\":469637,\"populationestimate_2013\":474352,\"populationestimate_2014\":483399,\"populationestimate_2015\":494895,\"populationestimate_2016\":509937,\"populationestimate_2017\":525141,\"populationestimate_2018\":539090,\"populationestimate_2019\":553947,\"st\":12,\"cty\":101,\"ctyname\":\"Pasco County, Florida\"},{\"fipstxt\":12103,\"population_2020\":959107.0,\"rural_urban_continuum_code_2013\":1.0,\"census\":916542,\"estimatesbase\":916800,\"populationestimate_2010\":916412,\"populationestimate_2011\":918455,\"populationestimate_2012\":921642,\"populationestimate_2013\":928414,\"populationestimate_2014\":936400,\"populationestimate_2015\":947060,\"populationestimate_2016\":959874,\"populationestimate_2017\":968341,\"populationestimate_2018\":973058,\"populationestimate_2019\":974996,\"st\":12,\"cty\":103,\"ctyname\":\"Pinellas County, Florida\"},{\"fipstxt\":12105,\"population_2020\":725046.0,\"rural_urban_continuum_code_2013\":2.0,\"census\":602095,\"estimatesbase\":602073,\"populationestimate_2010\":603102,\"populationestimate_2011\":609948,\"populationestimate_2012\":615453,\"populationestimate_2013\":622633,\"populationestimate_2014\":634398,\"populationestimate_2015\":648523,\"populationestimate_2016\":665823,\"populationestimate_2017\":685368,\"populationestimate_2018\":706597,\"populationestimate_2019\":724777,\"st\":12,\"cty\":105,\"ctyname\":\"Polk County, Florida\"},{\"fipstxt\":12115,\"population_2020\":434006.0,\"rural_urban_continuum_code_2013\":2.0,\"census\":379448,\"estimatesbase\":379433,\"populationestimate_2010\":379930,\"populationestimate_2011\":382226,\"populationestimate_2012\":386437,\"populationestimate_2013\":389941,\"populationestimate_2014\":396363,\"populationestimate_2015\":404761,\"populationestimate_2016\":412968,\"populationestimate_2017\":419680,\"populationestimate_2018\":426329,\"populationestimate_2019\":433742,\"st\":12,\"cty\":115,\"ctyname\":\"Sarasota County, Florida\"},{\"fipstxt\":12117,\"population_2020\":470856.0,\"rural_urban_continuum_code_2013\":1.0,\"census\":422718,\"estimatesbase\":422710,\"populationestimate_2010\":423051,\"populationestimate_2011\":426334,\"populationestimate_2012\":430537,\"populationestimate_2013\":435503,\"populationestimate_2014\":441399,\"populationestimate_2015\":448318,\"populationestimate_2016\":455945,\"populationestimate_2017\":462801,\"populationestimate_2018\":468122,\"populationestimate_2019\":471826,\"st\":12,\"cty\":117,\"ctyname\":\"Seminole County, Florida\"},{\"fipstxt\":12127,\"population_2020\":553543.0,\"rural_urban_continuum_code_2013\":2.0,\"census\":494593,\"estimatesbase\":494596,\"populationestimate_2010\":494440,\"populationestimate_2011\":494464,\"populationestimate_2012\":496535,\"populationestimate_2013\":500438,\"populationestimate_2014\":506715,\"populationestimate_2015\":516730,\"populationestimate_2016\":528453,\"populationestimate_2017\":537868,\"populationestimate_2018\":546101,\"populationestimate_2019\":553284,\"st\":12,\"cty\":127,\"ctyname\":\"Volusia County, Florida\"},{\"fipstxt\":13051,\"population_2020\":295291.0,\"rural_urban_continuum_code_2013\":2.0,\"census\":265128,\"estimatesbase\":265127,\"populationestimate_2010\":265799,\"populationestimate_2011\":271623,\"populationestimate_2012\":276164,\"populationestimate_2013\":277650,\"populationestimate_2014\":282201,\"populationestimate_2015\":285959,\"populationestimate_2016\":288615,\"populationestimate_2017\":289309,\"populationestimate_2018\":289166,\"populationestimate_2019\":289430,\"st\":13,\"cty\":51,\"ctyname\":\"Chatham County, Georgia\"},{\"fipstxt\":13057,\"population_2020\":266620.0,\"rural_urban_continuum_code_2013\":1.0,\"census\":214346,\"estimatesbase\":214381,\"populationestimate_2010\":215197,\"populationestimate_2011\":217732,\"populationestimate_2012\":220643,\"populationestimate_2013\":224314,\"populationestimate_2014\":230167,\"populationestimate_2015\":235329,\"populationestimate_2016\":241795,\"populationestimate_2017\":247763,\"populationestimate_2018\":253914,\"populationestimate_2019\":258773,\"st\":13,\"cty\":57,\"ctyname\":\"Cherokee County, Georgia\"},{\"fipstxt\":13063,\"population_2020\":297595.0,\"rural_urban_continuum_code_2013\":1.0,\"census\":259424,\"estimatesbase\":259630,\"populationestimate_2010\":259877,\"populationestimate_2011\":262031,\"populationestimate_2012\":265294,\"populationestimate_2013\":264015,\"populationestimate_2014\":266629,\"populationestimate_2015\":272720,\"populationestimate_2016\":279333,\"populationestimate_2017\":284184,\"populationestimate_2018\":289197,\"populationestimate_2019\":292256,\"st\":13,\"cty\":63,\"ctyname\":\"Clayton County, Georgia\"},{\"fipstxt\":13067,\"population_2020\":766149.0,\"rural_urban_continuum_code_2013\":1.0,\"census\":688078,\"estimatesbase\":688065,\"populationestimate_2010\":689495,\"populationestimate_2011\":696507,\"populationestimate_2012\":706322,\"populationestimate_2013\":716017,\"populationestimate_2014\":727543,\"populationestimate_2015\":739052,\"populationestimate_2016\":748178,\"populationestimate_2017\":752649,\"populationestimate_2018\":756070,\"populationestimate_2019\":760141,\"st\":13,\"cty\":67,\"ctyname\":\"Cobb County, Georgia\"},{\"fipstxt\":13089,\"population_2020\":764382.0,\"rural_urban_continuum_code_2013\":1.0,\"census\":691893,\"estimatesbase\":691961,\"populationestimate_2010\":692443,\"populationestimate_2011\":698329,\"populationestimate_2012\":710557,\"populationestimate_2013\":717740,\"populationestimate_2014\":724892,\"populationestimate_2015\":734434,\"populationestimate_2016\":746802,\"populationestimate_2017\":751176,\"populationestimate_2018\":754906,\"populationestimate_2019\":759297,\"st\":13,\"cty\":89,\"ctyname\":\"DeKalb County, Georgia\"},{\"fipstxt\":13117,\"population_2020\":251283.0,\"rural_urban_continuum_code_2013\":1.0,\"census\":175511,\"estimatesbase\":175484,\"populationestimate_2010\":176723,\"populationestimate_2011\":181794,\"populationestimate_2012\":186793,\"populationestimate_2013\":193801,\"populationestimate_2014\":202598,\"populationestimate_2015\":211250,\"populationestimate_2016\":220481,\"populationestimate_2017\":228940,\"populationestimate_2018\":236993,\"populationestimate_2019\":244252,\"st\":13,\"cty\":117,\"ctyname\":\"Forsyth County, Georgia\"},{\"fipstxt\":13121,\"population_2020\":1066710.0,\"rural_urban_continuum_code_2013\":1.0,\"census\":920581,\"estimatesbase\":920445,\"populationestimate_2010\":925632,\"populationestimate_2011\":947469,\"populationestimate_2012\":973221,\"populationestimate_2013\":981472,\"populationestimate_2014\":991847,\"populationestimate_2015\":1005127,\"populationestimate_2016\":1022866,\"populationestimate_2017\":1038938,\"populationestimate_2018\":1050131,\"populationestimate_2019\":1063937,\"st\":13,\"cty\":121,\"ctyname\":\"Fulton County, Georgia\"},{\"fipstxt\":13135,\"population_2020\":957062.0,\"rural_urban_continuum_code_2013\":1.0,\"census\":805321,\"estimatesbase\":805286,\"populationestimate_2010\":808007,\"populationestimate_2011\":822415,\"populationestimate_2012\":836844,\"populationestimate_2013\":853459,\"populationestimate_2014\":870986,\"populationestimate_2015\":888494,\"populationestimate_2016\":904962,\"populationestimate_2017\":918186,\"populationestimate_2018\":927337,\"populationestimate_2019\":936250,\"st\":13,\"cty\":135,\"ctyname\":\"Gwinnett County, Georgia\"},{\"fipstxt\":13139,\"population_2020\":203136.0,\"rural_urban_continuum_code_2013\":3.0,\"census\":179684,\"estimatesbase\":179724,\"populationestimate_2010\":180033,\"populationestimate_2011\":182269,\"populationestimate_2012\":184102,\"populationestimate_2013\":186431,\"populationestimate_2014\":189142,\"populationestimate_2015\":192245,\"populationestimate_2016\":196159,\"populationestimate_2017\":198953,\"populationestimate_2018\":201538,\"populationestimate_2019\":204441,\"st\":13,\"cty\":139,\"ctyname\":\"Hall County, Georgia\"},{\"fipstxt\":13151,\"population_2020\":240712.0,\"rural_urban_continuum_code_2013\":1.0,\"census\":203922,\"estimatesbase\":203777,\"populationestimate_2010\":205039,\"populationestimate_2011\":206911,\"populationestimate_2012\":208005,\"populationestimate_2013\":210012,\"populationestimate_2014\":212957,\"populationestimate_2015\":216414,\"populationestimate_2016\":220896,\"populationestimate_2017\":225182,\"populationestimate_2018\":229728,\"populationestimate_2019\":234561,\"st\":13,\"cty\":151,\"ctyname\":\"Henry County, Georgia\"},{\"fipstxt\":13215,\"population_2020\":206922.0,\"rural_urban_continuum_code_2013\":2.0,\"census\":189885,\"estimatesbase\":190570,\"populationestimate_2010\":191101,\"populationestimate_2011\":195271,\"populationestimate_2012\":198965,\"populationestimate_2013\":203225,\"populationestimate_2014\":200563,\"populationestimate_2015\":198702,\"populationestimate_2016\":196219,\"populationestimate_2017\":193836,\"populationestimate_2018\":194169,\"populationestimate_2019\":195769,\"st\":13,\"cty\":215,\"ctyname\":\"Muscogee County, Georgia\"},{\"fipstxt\":13245,\"population_2020\":206607.0,\"rural_urban_continuum_code_2013\":2.0,\"census\":200549,\"estimatesbase\":200594,\"populationestimate_2010\":201115,\"populationestimate_2011\":200568,\"populationestimate_2012\":201742,\"populationestimate_2013\":201335,\"populationestimate_2014\":201287,\"populationestimate_2015\":201451,\"populationestimate_2016\":201949,\"populationestimate_2017\":201673,\"populationestimate_2018\":201667,\"populationestimate_2019\":202518,\"st\":13,\"cty\":245,\"ctyname\":\"Richmond County, Georgia\"},{\"fipstxt\":15001,\"population_2020\":200629.0,\"rural_urban_continuum_code_2013\":5.0,\"census\":185079,\"estimatesbase\":185076,\"populationestimate_2010\":185363,\"populationestimate_2011\":187079,\"populationestimate_2012\":189161,\"populationestimate_2013\":191459,\"populationestimate_2014\":193711,\"populationestimate_2015\":195975,\"populationestimate_2016\":198316,\"populationestimate_2017\":199981,\"populationestimate_2018\":201509,\"populationestimate_2019\":201513,\"st\":15,\"cty\":1,\"ctyname\":\"Hawaii County, Hawaii\"},{\"fipstxt\":15003,\"population_2020\":1016508.0,\"rural_urban_continuum_code_2013\":2.0,\"census\":953207,\"estimatesbase\":953206,\"populationestimate_2010\":956285,\"populationestimate_2011\":967336,\"populationestimate_2012\":977994,\"populationestimate_2013\":986059,\"populationestimate_2014\":987414,\"populationestimate_2015\":991064,\"populationestimate_2016\":992268,\"populationestimate_2017\":986353,\"populationestimate_2018\":979858,\"populationestimate_2019\":974563,\"st\":15,\"cty\":3,\"ctyname\":\"Honolulu County, Hawaii\"},{\"fipstxt\":16001,\"population_2020\":494967.0,\"rural_urban_continuum_code_2013\":2.0,\"census\":392365,\"estimatesbase\":392372,\"populationestimate_2010\":393354,\"populationestimate_2011\":401262,\"populationestimate_2012\":408862,\"populationestimate_2013\":415951,\"populationestimate_2014\":425471,\"populationestimate_2015\":432862,\"populationestimate_2016\":444486,\"populationestimate_2017\":456548,\"populationestimate_2018\":468764,\"populationestimate_2019\":481587,\"st\":16,\"cty\":1,\"ctyname\":\"Ada County, Idaho\"},{\"fipstxt\":16027,\"population_2020\":231105.0,\"rural_urban_continuum_code_2013\":2.0,\"census\":188923,\"estimatesbase\":188922,\"populationestimate_2010\":189347,\"populationestimate_2011\":191354,\"populationestimate_2012\":193734,\"populationestimate_2013\":198590,\"populationestimate_2014\":202440,\"populationestimate_2015\":206842,\"populationestimate_2016\":211381,\"populationestimate_2017\":216858,\"populationestimate_2018\":223236,\"populationestimate_2019\":229849,\"st\":16,\"cty\":27,\"ctyname\":\"Canyon County, Idaho\"},{\"fipstxt\":17019,\"population_2020\":205865.0,\"rural_urban_continuum_code_2013\":3.0,\"census\":201081,\"estimatesbase\":201081,\"populationestimate_2010\":201546,\"populationestimate_2011\":203197,\"populationestimate_2012\":204630,\"populationestimate_2013\":206425,\"populationestimate_2014\":207942,\"populationestimate_2015\":209382,\"populationestimate_2016\":210198,\"populationestimate_2017\":210425,\"populationestimate_2018\":209918,\"populationestimate_2019\":209689,\"st\":17,\"cty\":19,\"ctyname\":\"Champaign County, Illinois\"},{\"fipstxt\":17031,\"population_2020\":5275541.0,\"rural_urban_continuum_code_2013\":1.0,\"census\":5194675,\"estimatesbase\":5195026,\"populationestimate_2010\":5199016,\"populationestimate_2011\":5219780,\"populationestimate_2012\":5239351,\"populationestimate_2013\":5252875,\"populationestimate_2014\":5254675,\"populationestimate_2015\":5244088,\"populationestimate_2016\":5224272,\"populationestimate_2017\":5200821,\"populationestimate_2018\":5171960,\"populationestimate_2019\":5150233,\"st\":17,\"cty\":31,\"ctyname\":\"Cook County, Illinois\"},{\"fipstxt\":17043,\"population_2020\":932877.0,\"rural_urban_continuum_code_2013\":1.0,\"census\":916924,\"estimatesbase\":916741,\"populationestimate_2010\":917983,\"populationestimate_2011\":924831,\"populationestimate_2012\":928666,\"populationestimate_2013\":932231,\"populationestimate_2014\":933425,\"populationestimate_2015\":933609,\"populationestimate_2016\":931256,\"populationestimate_2017\":930265,\"populationestimate_2018\":927247,\"populationestimate_2019\":922921,\"st\":17,\"cty\":43,\"ctyname\":\"DuPage County, Illinois\"},{\"fipstxt\":17089,\"population_2020\":516522.0,\"rural_urban_continuum_code_2013\":1.0,\"census\":515269,\"estimatesbase\":515322,\"populationestimate_2010\":516068,\"populationestimate_2011\":519110,\"populationestimate_2012\":520669,\"populationestimate_2013\":522626,\"populationestimate_2014\":525625,\"populationestimate_2015\":528760,\"populationestimate_2016\":530726,\"populationestimate_2017\":532272,\"populationestimate_2018\":532720,\"populationestimate_2019\":532403,\"st\":17,\"cty\":89,\"ctyname\":\"Kane County, Illinois\"},{\"fipstxt\":17097,\"population_2020\":714342.0,\"rural_urban_continuum_code_2013\":1.0,\"census\":703462,\"estimatesbase\":703400,\"populationestimate_2010\":704170,\"populationestimate_2011\":701642,\"populationestimate_2012\":702083,\"populationestimate_2013\":704207,\"populationestimate_2014\":704294,\"populationestimate_2015\":704611,\"populationestimate_2016\":704158,\"populationestimate_2017\":702475,\"populationestimate_2018\":699587,\"populationestimate_2019\":696535,\"st\":17,\"cty\":97,\"ctyname\":\"Lake County, Illinois\"},{\"fipstxt\":17111,\"population_2020\":310229.0,\"rural_urban_continuum_code_2013\":1.0,\"census\":308760,\"estimatesbase\":308882,\"populationestimate_2010\":309112,\"populationestimate_2011\":308504,\"populationestimate_2012\":308230,\"populationestimate_2013\":307605,\"populationestimate_2014\":307404,\"populationestimate_2015\":307572,\"populationestimate_2016\":307159,\"populationestimate_2017\":307815,\"populationestimate_2018\":308251,\"populationestimate_2019\":307774,\"st\":17,\"cty\":111,\"ctyname\":\"McHenry County, Illinois\"},{\"fipstxt\":17119,\"population_2020\":265859.0,\"rural_urban_continuum_code_2013\":1.0,\"census\":269282,\"estimatesbase\":269298,\"populationestimate_2010\":269310,\"populationestimate_2011\":268636,\"populationestimate_2012\":268072,\"populationestimate_2013\":267268,\"populationestimate_2014\":266566,\"populationestimate_2015\":265996,\"populationestimate_2016\":265641,\"populationestimate_2017\":265251,\"populationestimate_2018\":264026,\"populationestimate_2019\":262966,\"st\":17,\"cty\":119,\"ctyname\":\"Madison County, Illinois\"},{\"fipstxt\":17197,\"population_2020\":696355.0,\"rural_urban_continuum_code_2013\":1.0,\"census\":677560,\"estimatesbase\":677580,\"populationestimate_2010\":678824,\"populationestimate_2011\":680827,\"populationestimate_2012\":682477,\"populationestimate_2013\":683734,\"populationestimate_2014\":685158,\"populationestimate_2015\":685877,\"populationestimate_2016\":688328,\"populationestimate_2017\":690479,\"populationestimate_2018\":691149,\"populationestimate_2019\":690743,\"st\":17,\"cty\":197,\"ctyname\":\"Will County, Illinois\"},{\"fipstxt\":17201,\"population_2020\":285350.0,\"rural_urban_continuum_code_2013\":2.0,\"census\":295266,\"estimatesbase\":295264,\"populationestimate_2010\":295083,\"populationestimate_2011\":293642,\"populationestimate_2012\":292084,\"populationestimate_2013\":290945,\"populationestimate_2014\":288695,\"populationestimate_2015\":287148,\"populationestimate_2016\":286065,\"populationestimate_2017\":284681,\"populationestimate_2018\":283630,\"populationestimate_2019\":282572,\"st\":17,\"cty\":201,\"ctyname\":\"Winnebago County, Illinois\"},{\"fipstxt\":18003,\"population_2020\":385410.0,\"rural_urban_continuum_code_2013\":2.0,\"census\":355329,\"estimatesbase\":355339,\"populationestimate_2010\":355945,\"populationestimate_2011\":358974,\"populationestimate_2012\":360890,\"populationestimate_2013\":363355,\"populationestimate_2014\":365147,\"populationestimate_2015\":367362,\"populationestimate_2016\":369412,\"populationestimate_2017\":371723,\"populationestimate_2018\":375079,\"populationestimate_2019\":379299,\"st\":18,\"cty\":3,\"ctyname\":\"Allen County, Indiana\"},{\"fipstxt\":18039,\"population_2020\":207047.0,\"rural_urban_continuum_code_2013\":3.0,\"census\":197559,\"estimatesbase\":197569,\"populationestimate_2010\":197451,\"populationestimate_2011\":198279,\"populationestimate_2012\":198968,\"populationestimate_2013\":200205,\"populationestimate_2014\":201423,\"populationestimate_2015\":202995,\"populationestimate_2016\":203642,\"populationestimate_2017\":204194,\"populationestimate_2018\":205617,\"populationestimate_2019\":206341,\"st\":18,\"cty\":39,\"ctyname\":\"Elkhart County, Indiana\"},{\"fipstxt\":18057,\"population_2020\":347467.0,\"rural_urban_continuum_code_2013\":1.0,\"census\":274569,\"estimatesbase\":274557,\"populationestimate_2010\":276493,\"populationestimate_2011\":283368,\"populationestimate_2012\":289747,\"populationestimate_2013\":296858,\"populationestimate_2014\":302772,\"populationestimate_2015\":308428,\"populationestimate_2016\":315902,\"populationestimate_2017\":322933,\"populationestimate_2018\":330311,\"populationestimate_2019\":338011,\"st\":18,\"cty\":57,\"ctyname\":\"Hamilton County, Indiana\"},{\"fipstxt\":18089,\"population_2020\":498700.0,\"rural_urban_continuum_code_2013\":1.0,\"census\":496005,\"estimatesbase\":496108,\"populationestimate_2010\":495947,\"populationestimate_2011\":494954,\"populationestimate_2012\":493390,\"populationestimate_2013\":491732,\"populationestimate_2014\":491027,\"populationestimate_2015\":487908,\"populationestimate_2016\":486092,\"populationestimate_2017\":484601,\"populationestimate_2018\":484440,\"populationestimate_2019\":485493,\"st\":18,\"cty\":89,\"ctyname\":\"Lake County, Indiana\"},{\"fipstxt\":18097,\"population_2020\":977203.0,\"rural_urban_continuum_code_2013\":1.0,\"census\":903393,\"estimatesbase\":903375,\"populationestimate_2010\":904591,\"populationestimate_2011\":911217,\"populationestimate_2012\":919786,\"populationestimate_2013\":929922,\"populationestimate_2014\":935935,\"populationestimate_2015\":939843,\"populationestimate_2016\":945685,\"populationestimate_2017\":950537,\"populationestimate_2018\":958700,\"populationestimate_2019\":964582,\"st\":18,\"cty\":97,\"ctyname\":\"Marion County, Indiana\"},{\"fipstxt\":19113,\"population_2020\":230299.0,\"rural_urban_continuum_code_2013\":2.0,\"census\":211226,\"estimatesbase\":211243,\"populationestimate_2010\":211705,\"populationestimate_2011\":214207,\"populationestimate_2012\":215485,\"populationestimate_2013\":216488,\"populationestimate_2014\":218129,\"populationestimate_2015\":220271,\"populationestimate_2016\":222188,\"populationestimate_2017\":224379,\"populationestimate_2018\":225763,\"populationestimate_2019\":226706,\"st\":19,\"cty\":113,\"ctyname\":\"Linn County, Iowa\"},{\"fipstxt\":19153,\"population_2020\":492401.0,\"rural_urban_continuum_code_2013\":2.0,\"census\":430640,\"estimatesbase\":430631,\"populationestimate_2010\":432352,\"populationestimate_2011\":438737,\"populationestimate_2012\":444671,\"populationestimate_2013\":452657,\"populationestimate_2014\":460898,\"populationestimate_2015\":467304,\"populationestimate_2016\":474277,\"populationestimate_2017\":480487,\"populationestimate_2018\":485833,\"populationestimate_2019\":490161,\"st\":19,\"cty\":153,\"ctyname\":\"Polk County, Iowa\"},{\"fipstxt\":20091,\"population_2020\":609863.0,\"rural_urban_continuum_code_2013\":1.0,\"census\":544179,\"estimatesbase\":544181,\"populationestimate_2010\":545655,\"populationestimate_2011\":552907,\"populationestimate_2012\":559428,\"populationestimate_2013\":566351,\"populationestimate_2014\":572940,\"populationestimate_2015\":579684,\"populationestimate_2016\":586015,\"populationestimate_2017\":591305,\"populationestimate_2018\":598127,\"populationestimate_2019\":602401,\"st\":20,\"cty\":91,\"ctyname\":\"Johnson County, Kansas\"},{\"fipstxt\":20173,\"population_2020\":523824.0,\"rural_urban_continuum_code_2013\":2.0,\"census\":498365,\"estimatesbase\":498356,\"populationestimate_2010\":499128,\"populationestimate_2011\":501011,\"populationestimate_2012\":504101,\"populationestimate_2013\":506442,\"populationestimate_2014\":508968,\"populationestimate_2015\":511083,\"populationestimate_2016\":513092,\"populationestimate_2017\":513176,\"populationestimate_2018\":513484,\"populationestimate_2019\":516042,\"st\":20,\"cty\":173,\"ctyname\":\"Sedgwick County, Kansas\"},{\"fipstxt\":21067,\"population_2020\":322570.0,\"rural_urban_continuum_code_2013\":2.0,\"census\":295803,\"estimatesbase\":295870,\"populationestimate_2010\":296848,\"populationestimate_2011\":301696,\"populationestimate_2012\":305947,\"populationestimate_2013\":309865,\"populationestimate_2014\":311784,\"populationestimate_2015\":315819,\"populationestimate_2016\":319644,\"populationestimate_2017\":321964,\"populationestimate_2018\":322426,\"populationestimate_2019\":323152,\"st\":21,\"cty\":67,\"ctyname\":\"Fayette County, Kentucky\"},{\"fipstxt\":21111,\"population_2020\":782969.0,\"rural_urban_continuum_code_2013\":1.0,\"census\":741096,\"estimatesbase\":741075,\"populationestimate_2010\":742054,\"populationestimate_2011\":746361,\"populationestimate_2012\":751629,\"populationestimate_2013\":759183,\"populationestimate_2014\":761725,\"populationestimate_2015\":764946,\"populationestimate_2016\":767464,\"populationestimate_2017\":769828,\"populationestimate_2018\":768101,\"populationestimate_2019\":766757,\"st\":21,\"cty\":111,\"ctyname\":\"Jefferson County, Kentucky\"},{\"fipstxt\":22017,\"population_2020\":237848.0,\"rural_urban_continuum_code_2013\":2.0,\"census\":254969,\"estimatesbase\":254914,\"populationestimate_2010\":255590,\"populationestimate_2011\":256967,\"populationestimate_2012\":257252,\"populationestimate_2013\":255127,\"populationestimate_2014\":252605,\"populationestimate_2015\":251345,\"populationestimate_2016\":248837,\"populationestimate_2017\":245935,\"populationestimate_2018\":242833,\"populationestimate_2019\":240204,\"st\":22,\"cty\":17,\"ctyname\":\"Caddo Parish, Louisiana\"},{\"fipstxt\":22019,\"population_2020\":216785.0,\"rural_urban_continuum_code_2013\":3.0,\"census\":192768,\"estimatesbase\":192772,\"populationestimate_2010\":193026,\"populationestimate_2011\":193861,\"populationestimate_2012\":194479,\"populationestimate_2013\":195492,\"populationestimate_2014\":196570,\"populationestimate_2015\":198450,\"populationestimate_2016\":200568,\"populationestimate_2017\":202466,\"populationestimate_2018\":203177,\"populationestimate_2019\":203436,\"st\":22,\"cty\":19,\"ctyname\":\"Calcasieu Parish, Louisiana\"},{\"fipstxt\":22033,\"population_2020\":456781.0,\"rural_urban_continuum_code_2013\":2.0,\"census\":440171,\"estimatesbase\":440525,\"populationestimate_2010\":440912,\"populationestimate_2011\":441564,\"populationestimate_2012\":442955,\"populationestimate_2013\":444181,\"populationestimate_2014\":445119,\"populationestimate_2015\":445512,\"populationestimate_2016\":446677,\"populationestimate_2017\":444511,\"populationestimate_2018\":442058,\"populationestimate_2019\":440059,\"st\":22,\"cty\":33,\"ctyname\":\"East Baton Rouge Parish, Louisiana\"},{\"fipstxt\":22051,\"population_2020\":440781.0,\"rural_urban_continuum_code_2013\":1.0,\"census\":432552,\"estimatesbase\":432576,\"populationestimate_2010\":432610,\"populationestimate_2011\":434089,\"populationestimate_2012\":433954,\"populationestimate_2013\":434264,\"populationestimate_2014\":434078,\"populationestimate_2015\":435175,\"populationestimate_2016\":436572,\"populationestimate_2017\":436126,\"populationestimate_2018\":433884,\"populationestimate_2019\":432493,\"st\":22,\"cty\":51,\"ctyname\":\"Jefferson Parish, Louisiana\"},{\"fipstxt\":22055,\"population_2020\":241753.0,\"rural_urban_continuum_code_2013\":2.0,\"census\":221578,\"estimatesbase\":221778,\"populationestimate_2010\":222315,\"populationestimate_2011\":224673,\"populationestimate_2012\":227298,\"populationestimate_2013\":231471,\"populationestimate_2014\":235695,\"populationestimate_2015\":239332,\"populationestimate_2016\":241275,\"populationestimate_2017\":241756,\"populationestimate_2018\":243113,\"populationestimate_2019\":244390,\"st\":22,\"cty\":55,\"ctyname\":\"Lafayette Parish, Louisiana\"},{\"fipstxt\":22071,\"population_2020\":383997.0,\"rural_urban_continuum_code_2013\":1.0,\"census\":343829,\"estimatesbase\":343828,\"populationestimate_2010\":347772,\"populationestimate_2011\":360735,\"populationestimate_2012\":369787,\"populationestimate_2013\":378637,\"populationestimate_2014\":383940,\"populationestimate_2015\":389742,\"populationestimate_2016\":391843,\"populationestimate_2017\":391493,\"populationestimate_2018\":391004,\"populationestimate_2019\":390144,\"st\":22,\"cty\":71,\"ctyname\":\"Orleans Parish, Louisiana\"},{\"fipstxt\":23005,\"population_2020\":303069.0,\"rural_urban_continuum_code_2013\":2.0,\"census\":281674,\"estimatesbase\":281690,\"populationestimate_2010\":281474,\"populationestimate_2011\":282709,\"populationestimate_2012\":283645,\"populationestimate_2013\":285537,\"populationestimate_2014\":288086,\"populationestimate_2015\":289488,\"populationestimate_2016\":291191,\"populationestimate_2017\":292181,\"populationestimate_2018\":293673,\"populationestimate_2019\":295003,\"st\":23,\"cty\":5,\"ctyname\":\"Cumberland County, Maine\"},{\"fipstxt\":23031,\"population_2020\":211972.0,\"rural_urban_continuum_code_2013\":2.0,\"census\":197131,\"estimatesbase\":197131,\"populationestimate_2010\":197209,\"populationestimate_2011\":198240,\"populationestimate_2012\":198872,\"populationestimate_2013\":199429,\"populationestimate_2014\":200827,\"populationestimate_2015\":201223,\"populationestimate_2016\":202565,\"populationestimate_2017\":204282,\"populationestimate_2018\":205869,\"populationestimate_2019\":207641,\"st\":23,\"cty\":31,\"ctyname\":\"York County, Maine\"},{\"fipstxt\":24003,\"population_2020\":588261.0,\"rural_urban_continuum_code_2013\":1.0,\"census\":537656,\"estimatesbase\":537631,\"populationestimate_2010\":539284,\"populationestimate_2011\":544803,\"populationestimate_2012\":550333,\"populationestimate_2013\":555417,\"populationestimate_2014\":559142,\"populationestimate_2015\":563027,\"populationestimate_2016\":567254,\"populationestimate_2017\":571339,\"populationestimate_2018\":575523,\"populationestimate_2019\":579234,\"st\":24,\"cty\":3,\"ctyname\":\"Anne Arundel County, Maryland\"},{\"fipstxt\":24005,\"population_2020\":854535.0,\"rural_urban_continuum_code_2013\":1.0,\"census\":805029,\"estimatesbase\":805324,\"populationestimate_2010\":806656,\"populationestimate_2011\":812961,\"populationestimate_2012\":818113,\"populationestimate_2013\":822274,\"populationestimate_2014\":824994,\"populationestimate_2015\":827533,\"populationestimate_2016\":828682,\"populationestimate_2017\":828645,\"populationestimate_2018\":827859,\"populationestimate_2019\":827370,\"st\":24,\"cty\":5,\"ctyname\":\"Baltimore County, Maryland\"},{\"fipstxt\":24021,\"population_2020\":271717.0,\"rural_urban_continuum_code_2013\":1.0,\"census\":233385,\"estimatesbase\":233403,\"populationestimate_2010\":234218,\"populationestimate_2011\":237284,\"populationestimate_2012\":239645,\"populationestimate_2013\":241129,\"populationestimate_2014\":243381,\"populationestimate_2015\":245001,\"populationestimate_2016\":246999,\"populationestimate_2017\":250622,\"populationestimate_2018\":254943,\"populationestimate_2019\":259547,\"st\":24,\"cty\":21,\"ctyname\":\"Frederick County, Maryland\"},{\"fipstxt\":24025,\"population_2020\":260924.0,\"rural_urban_continuum_code_2013\":1.0,\"census\":244826,\"estimatesbase\":244824,\"populationestimate_2010\":245237,\"populationestimate_2011\":246729,\"populationestimate_2012\":248566,\"populationestimate_2013\":248890,\"populationestimate_2014\":249314,\"populationestimate_2015\":249558,\"populationestimate_2016\":250370,\"populationestimate_2017\":251858,\"populationestimate_2018\":253882,\"populationestimate_2019\":255441,\"st\":24,\"cty\":25,\"ctyname\":\"Harford County, Maryland\"},{\"fipstxt\":24027,\"population_2020\":332317.0,\"rural_urban_continuum_code_2013\":1.0,\"census\":287085,\"estimatesbase\":287123,\"populationestimate_2010\":288627,\"populationestimate_2011\":293583,\"populationestimate_2012\":299184,\"populationestimate_2013\":303527,\"populationestimate_2014\":306909,\"populationestimate_2015\":311297,\"populationestimate_2016\":315416,\"populationestimate_2017\":319251,\"populationestimate_2018\":322621,\"populationestimate_2019\":325690,\"st\":24,\"cty\":27,\"ctyname\":\"Howard County, Maryland\"},{\"fipstxt\":24031,\"population_2020\":1062061.0,\"rural_urban_continuum_code_2013\":1.0,\"census\":971777,\"estimatesbase\":971284,\"populationestimate_2010\":975602,\"populationestimate_2011\":991185,\"populationestimate_2012\":1005079,\"populationestimate_2013\":1015172,\"populationestimate_2014\":1024617,\"populationestimate_2015\":1032814,\"populationestimate_2016\":1038846,\"populationestimate_2017\":1046822,\"populationestimate_2018\":1048478,\"populationestimate_2019\":1050688,\"st\":24,\"cty\":31,\"ctyname\":\"Montgomery County, Maryland\"},{\"fipstxt\":24033,\"population_2020\":967201.0,\"rural_urban_continuum_code_2013\":1.0,\"census\":863420,\"estimatesbase\":864029,\"populationestimate_2010\":866419,\"populationestimate_2011\":874389,\"populationestimate_2012\":882490,\"populationestimate_2013\":890658,\"populationestimate_2014\":899686,\"populationestimate_2015\":906197,\"populationestimate_2016\":908501,\"populationestimate_2017\":909705,\"populationestimate_2018\":909619,\"populationestimate_2019\":909327,\"st\":24,\"cty\":33,\"ctyname\":\"Prince George\\'s County, Maryland\"},{\"fipstxt\":24510,\"population_2020\":585708.0,\"rural_urban_continuum_code_2013\":1.0,\"census\":620961,\"estimatesbase\":620770,\"populationestimate_2010\":620915,\"populationestimate_2011\":620410,\"populationestimate_2012\":622895,\"populationestimate_2013\":622391,\"populationestimate_2014\":623587,\"populationestimate_2015\":622522,\"populationestimate_2016\":616226,\"populationestimate_2017\":610481,\"populationestimate_2018\":602443,\"populationestimate_2019\":593490,\"st\":24,\"cty\":510,\"ctyname\":\"Baltimore city, Maryland\"},{\"fipstxt\":25001,\"population_2020\":228996.0,\"rural_urban_continuum_code_2013\":3.0,\"census\":215888,\"estimatesbase\":215880,\"populationestimate_2010\":215899,\"populationestimate_2011\":215356,\"populationestimate_2012\":214788,\"populationestimate_2013\":214518,\"populationestimate_2014\":214289,\"populationestimate_2015\":213877,\"populationestimate_2016\":213559,\"populationestimate_2017\":213581,\"populationestimate_2018\":213471,\"populationestimate_2019\":212990,\"st\":25,\"cty\":1,\"ctyname\":\"Barnstable County, Massachusetts\"},{\"fipstxt\":25005,\"population_2020\":579200.0,\"rural_urban_continuum_code_2013\":1.0,\"census\":548285,\"estimatesbase\":548242,\"populationestimate_2010\":549166,\"populationestimate_2011\":549308,\"populationestimate_2012\":551120,\"populationestimate_2013\":552379,\"populationestimate_2014\":555090,\"populationestimate_2015\":556863,\"populationestimate_2016\":558070,\"populationestimate_2017\":560941,\"populationestimate_2018\":564092,\"populationestimate_2019\":565217,\"st\":25,\"cty\":5,\"ctyname\":\"Bristol County, Massachusetts\"},{\"fipstxt\":25009,\"population_2020\":809829.0,\"rural_urban_continuum_code_2013\":1.0,\"census\":743159,\"estimatesbase\":743082,\"populationestimate_2010\":745461,\"populationestimate_2011\":751507,\"populationestimate_2012\":757338,\"populationestimate_2013\":764563,\"populationestimate_2014\":771653,\"populationestimate_2015\":776865,\"populationestimate_2016\":779847,\"populationestimate_2017\":784453,\"populationestimate_2018\":788183,\"populationestimate_2019\":789034,\"st\":25,\"cty\":9,\"ctyname\":\"Essex County, Massachusetts\"},{\"fipstxt\":25013,\"population_2020\":465825.0,\"rural_urban_continuum_code_2013\":2.0,\"census\":463490,\"estimatesbase\":463615,\"populationestimate_2010\":464237,\"populationestimate_2011\":466171,\"populationestimate_2012\":466955,\"populationestimate_2013\":467747,\"populationestimate_2014\":469455,\"populationestimate_2015\":469113,\"populationestimate_2016\":467778,\"populationestimate_2017\":467705,\"populationestimate_2018\":468388,\"populationestimate_2019\":466372,\"st\":25,\"cty\":13,\"ctyname\":\"Hampden County, Massachusetts\"},{\"fipstxt\":25017,\"population_2020\":1632002.0,\"rural_urban_continuum_code_2013\":1.0,\"census\":1503085,\"estimatesbase\":1503133,\"populationestimate_2010\":1507681,\"populationestimate_2011\":1524848,\"populationestimate_2012\":1542867,\"populationestimate_2013\":1560204,\"populationestimate_2014\":1574993,\"populationestimate_2015\":1585432,\"populationestimate_2016\":1594664,\"populationestimate_2017\":1603943,\"populationestimate_2018\":1608470,\"populationestimate_2019\":1611699,\"st\":25,\"cty\":17,\"ctyname\":\"Middlesex County, Massachusetts\"},{\"fipstxt\":25021,\"population_2020\":725981.0,\"rural_urban_continuum_code_2013\":1.0,\"census\":670850,\"estimatesbase\":670910,\"populationestimate_2010\":673019,\"populationestimate_2011\":677782,\"populationestimate_2012\":682865,\"populationestimate_2013\":688345,\"populationestimate_2014\":692239,\"populationestimate_2015\":694502,\"populationestimate_2016\":697079,\"populationestimate_2017\":700599,\"populationestimate_2018\":703230,\"populationestimate_2019\":706775,\"st\":25,\"cty\":21,\"ctyname\":\"Norfolk County, Massachusetts\"},{\"fipstxt\":25023,\"population_2020\":530819.0,\"rural_urban_continuum_code_2013\":1.0,\"census\":494919,\"estimatesbase\":494932,\"populationestimate_2010\":495926,\"populationestimate_2011\":498184,\"populationestimate_2012\":499495,\"populationestimate_2013\":502792,\"populationestimate_2014\":506513,\"populationestimate_2015\":509221,\"populationestimate_2016\":512207,\"populationestimate_2017\":515461,\"populationestimate_2018\":518422,\"populationestimate_2019\":521202,\"st\":25,\"cty\":23,\"ctyname\":\"Plymouth County, Massachusetts\"},{\"fipstxt\":25025,\"population_2020\":797936.0,\"rural_urban_continuum_code_2013\":1.0,\"census\":722023,\"estimatesbase\":722183,\"populationestimate_2010\":725772,\"populationestimate_2011\":737141,\"populationestimate_2012\":751103,\"populationestimate_2013\":762488,\"populationestimate_2014\":773630,\"populationestimate_2015\":782591,\"populationestimate_2016\":792576,\"populationestimate_2017\":800806,\"populationestimate_2018\":803147,\"populationestimate_2019\":803907,\"st\":25,\"cty\":25,\"ctyname\":\"Suffolk County, Massachusetts\"},{\"fipstxt\":25027,\"population_2020\":862111.0,\"rural_urban_continuum_code_2013\":2.0,\"census\":798552,\"estimatesbase\":798383,\"populationestimate_2010\":800391,\"populationestimate_2011\":804063,\"populationestimate_2012\":806942,\"populationestimate_2013\":810846,\"populationestimate_2014\":815526,\"populationestimate_2015\":818117,\"populationestimate_2016\":820320,\"populationestimate_2017\":825749,\"populationestimate_2018\":829054,\"populationestimate_2019\":830622,\"st\":25,\"cty\":27,\"ctyname\":\"Worcester County, Massachusetts\"},{\"fipstxt\":26049,\"population_2020\":406211.0,\"rural_urban_continuum_code_2013\":2.0,\"census\":425790,\"estimatesbase\":425787,\"populationestimate_2010\":424953,\"populationestimate_2011\":422026,\"populationestimate_2012\":418193,\"populationestimate_2013\":415639,\"populationestimate_2014\":412859,\"populationestimate_2015\":410461,\"populationestimate_2016\":408926,\"populationestimate_2017\":407488,\"populationestimate_2018\":406688,\"populationestimate_2019\":405813,\"st\":26,\"cty\":49,\"ctyname\":\"Genesee County, Michigan\"},{\"fipstxt\":26065,\"population_2020\":284900.0,\"rural_urban_continuum_code_2013\":2.0,\"census\":280895,\"estimatesbase\":280891,\"populationestimate_2010\":281116,\"populationestimate_2011\":282787,\"populationestimate_2012\":283514,\"populationestimate_2013\":284113,\"populationestimate_2014\":285627,\"populationestimate_2015\":287096,\"populationestimate_2016\":289804,\"populationestimate_2017\":292018,\"populationestimate_2018\":291612,\"populationestimate_2019\":292406,\"st\":26,\"cty\":65,\"ctyname\":\"Ingham County, Michigan\"},{\"fipstxt\":26077,\"population_2020\":261670.0,\"rural_urban_continuum_code_2013\":2.0,\"census\":250331,\"estimatesbase\":250327,\"populationestimate_2010\":250751,\"populationestimate_2011\":252600,\"populationestimate_2012\":255353,\"populationestimate_2013\":257311,\"populationestimate_2014\":258951,\"populationestimate_2015\":259676,\"populationestimate_2016\":261304,\"populationestimate_2017\":262998,\"populationestimate_2018\":264680,\"populationestimate_2019\":265066,\"st\":26,\"cty\":77,\"ctyname\":\"Kalamazoo County, Michigan\"},{\"fipstxt\":26081,\"population_2020\":657974.0,\"rural_urban_continuum_code_2013\":2.0,\"census\":602622,\"estimatesbase\":602625,\"populationestimate_2010\":602975,\"populationestimate_2011\":608501,\"populationestimate_2012\":615798,\"populationestimate_2013\":624303,\"populationestimate_2014\":631334,\"populationestimate_2015\":637164,\"populationestimate_2016\":643858,\"populationestimate_2017\":649278,\"populationestimate_2018\":653350,\"populationestimate_2019\":656955,\"st\":26,\"cty\":81,\"ctyname\":\"Kent County, Michigan\"},{\"fipstxt\":26099,\"population_2020\":881217.0,\"rural_urban_continuum_code_2013\":1.0,\"census\":840978,\"estimatesbase\":841039,\"populationestimate_2010\":841352,\"populationestimate_2011\":844146,\"populationestimate_2012\":849734,\"populationestimate_2013\":857110,\"populationestimate_2014\":862876,\"populationestimate_2015\":864960,\"populationestimate_2016\":868534,\"populationestimate_2017\":871364,\"populationestimate_2018\":872795,\"populationestimate_2019\":873972,\"st\":26,\"cty\":99,\"ctyname\":\"Macomb County, Michigan\"},{\"fipstxt\":26125,\"population_2020\":1274395.0,\"rural_urban_continuum_code_2013\":1.0,\"census\":1202362,\"estimatesbase\":1202384,\"populationestimate_2010\":1203106,\"populationestimate_2011\":1212643,\"populationestimate_2012\":1223598,\"populationestimate_2013\":1235468,\"populationestimate_2014\":1242853,\"populationestimate_2015\":1244602,\"populationestimate_2016\":1251027,\"populationestimate_2017\":1256016,\"populationestimate_2018\":1256694,\"populationestimate_2019\":1257584,\"st\":26,\"cty\":125,\"ctyname\":\"Oakland County, Michigan\"},{\"fipstxt\":26139,\"population_2020\":296200.0,\"rural_urban_continuum_code_2013\":2.0,\"census\":263801,\"estimatesbase\":263795,\"populationestimate_2010\":264130,\"populationestimate_2011\":266929,\"populationestimate_2012\":270873,\"populationestimate_2013\":274385,\"populationestimate_2014\":277864,\"populationestimate_2015\":280859,\"populationestimate_2016\":283712,\"populationestimate_2017\":286581,\"populationestimate_2018\":289808,\"populationestimate_2019\":291830,\"st\":26,\"cty\":139,\"ctyname\":\"Ottawa County, Michigan\"},{\"fipstxt\":26161,\"population_2020\":372258.0,\"rural_urban_continuum_code_2013\":2.0,\"census\":344791,\"estimatesbase\":345163,\"populationestimate_2010\":345717,\"populationestimate_2011\":349753,\"populationestimate_2012\":352303,\"populationestimate_2013\":356040,\"populationestimate_2014\":360021,\"populationestimate_2015\":362975,\"populationestimate_2016\":366135,\"populationestimate_2017\":368807,\"populationestimate_2018\":369483,\"populationestimate_2019\":367601,\"st\":26,\"cty\":161,\"ctyname\":\"Washtenaw County, Michigan\"},{\"fipstxt\":26163,\"population_2020\":1793561.0,\"rural_urban_continuum_code_2013\":1.0,\"census\":1820584,\"estimatesbase\":1820473,\"populationestimate_2010\":1815081,\"populationestimate_2011\":1803189,\"populationestimate_2012\":1795929,\"populationestimate_2013\":1780225,\"populationestimate_2014\":1771679,\"populationestimate_2015\":1764872,\"populationestimate_2016\":1760612,\"populationestimate_2017\":1757217,\"populationestimate_2018\":1754453,\"populationestimate_2019\":1749343,\"st\":26,\"cty\":163,\"ctyname\":\"Wayne County, Michigan\"},{\"fipstxt\":27003,\"population_2020\":363887.0,\"rural_urban_continuum_code_2013\":1.0,\"census\":330844,\"estimatesbase\":330858,\"populationestimate_2010\":331437,\"populationestimate_2011\":332903,\"populationestimate_2012\":336091,\"populationestimate_2013\":339075,\"populationestimate_2014\":341871,\"populationestimate_2015\":344176,\"populationestimate_2016\":346526,\"populationestimate_2017\":350203,\"populationestimate_2018\":353441,\"populationestimate_2019\":356921,\"st\":27,\"cty\":3,\"ctyname\":\"Anoka County, Minnesota\"},{\"fipstxt\":27037,\"population_2020\":439882.0,\"rural_urban_continuum_code_2013\":1.0,\"census\":398552,\"estimatesbase\":398590,\"populationestimate_2010\":399211,\"populationestimate_2011\":401771,\"populationestimate_2012\":404613,\"populationestimate_2013\":407895,\"populationestimate_2014\":411725,\"populationestimate_2015\":414131,\"populationestimate_2016\":417555,\"populationestimate_2017\":421518,\"populationestimate_2018\":425040,\"populationestimate_2019\":429021,\"st\":27,\"cty\":37,\"ctyname\":\"Dakota County, Minnesota\"},{\"fipstxt\":27053,\"population_2020\":1281565.0,\"rural_urban_continuum_code_2013\":1.0,\"census\":1152425,\"estimatesbase\":1152385,\"populationestimate_2010\":1154188,\"populationestimate_2011\":1169347,\"populationestimate_2012\":1184200,\"populationestimate_2013\":1198069,\"populationestimate_2014\":1211080,\"populationestimate_2015\":1222200,\"populationestimate_2016\":1235371,\"populationestimate_2017\":1247847,\"populationestimate_2018\":1257925,\"populationestimate_2019\":1265843,\"st\":27,\"cty\":53,\"ctyname\":\"Hennepin County, Minnesota\"},{\"fipstxt\":27123,\"population_2020\":552352.0,\"rural_urban_continuum_code_2013\":1.0,\"census\":508640,\"estimatesbase\":508639,\"populationestimate_2010\":509387,\"populationestimate_2011\":515826,\"populationestimate_2012\":521009,\"populationestimate_2013\":527131,\"populationestimate_2014\":532796,\"populationestimate_2015\":536631,\"populationestimate_2016\":541502,\"populationestimate_2017\":544886,\"populationestimate_2018\":548872,\"populationestimate_2019\":550321,\"st\":27,\"cty\":123,\"ctyname\":\"Ramsey County, Minnesota\"},{\"fipstxt\":27163,\"population_2020\":267568.0,\"rural_urban_continuum_code_2013\":1.0,\"census\":238136,\"estimatesbase\":238109,\"populationestimate_2010\":238930,\"populationestimate_2011\":241410,\"populationestimate_2012\":243682,\"populationestimate_2013\":245946,\"populationestimate_2014\":248501,\"populationestimate_2015\":250386,\"populationestimate_2016\":252502,\"populationestimate_2017\":255464,\"populationestimate_2018\":258899,\"populationestimate_2019\":262440,\"st\":27,\"cty\":163,\"ctyname\":\"Washington County, Minnesota\"},{\"fipstxt\":28047,\"population_2020\":208621.0,\"rural_urban_continuum_code_2013\":2.0,\"census\":187105,\"estimatesbase\":187109,\"populationestimate_2010\":187859,\"populationestimate_2011\":191070,\"populationestimate_2012\":193540,\"populationestimate_2013\":196134,\"populationestimate_2014\":198340,\"populationestimate_2015\":200674,\"populationestimate_2016\":202504,\"populationestimate_2017\":204966,\"populationestimate_2018\":206284,\"populationestimate_2019\":208080,\"st\":28,\"cty\":47,\"ctyname\":\"Harrison County, Mississippi\"},{\"fipstxt\":28049,\"population_2020\":227742.0,\"rural_urban_continuum_code_2013\":2.0,\"census\":245285,\"estimatesbase\":245364,\"populationestimate_2010\":245720,\"populationestimate_2011\":248205,\"populationestimate_2012\":247997,\"populationestimate_2013\":246250,\"populationestimate_2014\":245291,\"populationestimate_2015\":244216,\"populationestimate_2016\":242176,\"populationestimate_2017\":239929,\"populationestimate_2018\":235824,\"populationestimate_2019\":231840,\"st\":28,\"cty\":49,\"ctyname\":\"Hinds County, Mississippi\"},{\"fipstxt\":29047,\"population_2020\":253335.0,\"rural_urban_continuum_code_2013\":1.0,\"census\":221939,\"estimatesbase\":221906,\"populationestimate_2010\":222650,\"populationestimate_2011\":225243,\"populationestimate_2012\":227579,\"populationestimate_2013\":230306,\"populationestimate_2014\":233008,\"populationestimate_2015\":235161,\"populationestimate_2016\":238583,\"populationestimate_2017\":242527,\"populationestimate_2018\":246360,\"populationestimate_2019\":249948,\"st\":29,\"cty\":47,\"ctyname\":\"Clay County, Missouri\"},{\"fipstxt\":29077,\"population_2020\":298915.0,\"rural_urban_continuum_code_2013\":2.0,\"census\":275174,\"estimatesbase\":275179,\"populationestimate_2010\":275309,\"populationestimate_2011\":277446,\"populationestimate_2012\":280447,\"populationestimate_2013\":283605,\"populationestimate_2014\":285241,\"populationestimate_2015\":287312,\"populationestimate_2016\":287818,\"populationestimate_2017\":289512,\"populationestimate_2018\":291054,\"populationestimate_2019\":293086,\"st\":29,\"cty\":77,\"ctyname\":\"Greene County, Missouri\"},{\"fipstxt\":29095,\"population_2020\":717204.0,\"rural_urban_continuum_code_2013\":1.0,\"census\":674158,\"estimatesbase\":674166,\"populationestimate_2010\":674845,\"populationestimate_2011\":675553,\"populationestimate_2012\":677417,\"populationestimate_2013\":679841,\"populationestimate_2014\":683014,\"populationestimate_2015\":686783,\"populationestimate_2016\":692430,\"populationestimate_2017\":698072,\"populationestimate_2018\":700784,\"populationestimate_2019\":703011,\"st\":29,\"cty\":95,\"ctyname\":\"Jackson County, Missouri\"},{\"fipstxt\":29099,\"population_2020\":226739.0,\"rural_urban_continuum_code_2013\":1.0,\"census\":218733,\"estimatesbase\":218722,\"populationestimate_2010\":219128,\"populationestimate_2011\":219594,\"populationestimate_2012\":219853,\"populationestimate_2013\":220870,\"populationestimate_2014\":222006,\"populationestimate_2015\":223116,\"populationestimate_2016\":223377,\"populationestimate_2017\":223769,\"populationestimate_2018\":224410,\"populationestimate_2019\":225081,\"st\":29,\"cty\":99,\"ctyname\":\"Jefferson County, Missouri\"},{\"fipstxt\":31055,\"population_2020\":584526.0,\"rural_urban_continuum_code_2013\":2.0,\"census\":517110,\"estimatesbase\":517116,\"populationestimate_2010\":518574,\"populationestimate_2011\":524167,\"populationestimate_2012\":530755,\"populationestimate_2013\":536734,\"populationestimate_2014\":543005,\"populationestimate_2015\":549029,\"populationestimate_2016\":555607,\"populationestimate_2017\":560733,\"populationestimate_2018\":566391,\"populationestimate_2019\":571327,\"st\":31,\"cty\":55,\"ctyname\":\"Douglas County, Nebraska\"},{\"fipstxt\":31109,\"population_2020\":322608.0,\"rural_urban_continuum_code_2013\":2.0,\"census\":285407,\"estimatesbase\":285407,\"populationestimate_2010\":286162,\"populationestimate_2011\":289914,\"populationestimate_2012\":293431,\"populationestimate_2013\":297109,\"populationestimate_2014\":302622,\"populationestimate_2015\":306096,\"populationestimate_2016\":310306,\"populationestimate_2017\":313772,\"populationestimate_2018\":316527,\"populationestimate_2019\":319090,\"st\":31,\"cty\":109,\"ctyname\":\"Lancaster County, Nebraska\"},{\"fipstxt\":32003,\"population_2020\":2265461.0,\"rural_urban_continuum_code_2013\":1.0,\"census\":1951269,\"estimatesbase\":1951268,\"populationestimate_2010\":1952587,\"populationestimate_2011\":1961925,\"populationestimate_2012\":1989224,\"populationestimate_2013\":2017193,\"populationestimate_2014\":2053134,\"populationestimate_2015\":2096717,\"populationestimate_2016\":2138836,\"populationestimate_2017\":2181635,\"populationestimate_2018\":2226115,\"populationestimate_2019\":2266715,\"st\":32,\"cty\":3,\"ctyname\":\"Clark County, Nevada\"},{\"fipstxt\":32031,\"population_2020\":486492.0,\"rural_urban_continuum_code_2013\":2.0,\"census\":421407,\"estimatesbase\":421429,\"populationestimate_2010\":421954,\"populationestimate_2011\":423996,\"populationestimate_2012\":427370,\"populationestimate_2013\":431083,\"populationestimate_2014\":436307,\"populationestimate_2015\":442453,\"populationestimate_2016\":449723,\"populationestimate_2017\":456629,\"populationestimate_2018\":464354,\"populationestimate_2019\":471519,\"st\":32,\"cty\":31,\"ctyname\":\"Washoe County, Nevada\"},{\"fipstxt\":33011,\"population_2020\":422937.0,\"rural_urban_continuum_code_2013\":2.0,\"census\":400721,\"estimatesbase\":400706,\"populationestimate_2010\":401055,\"populationestimate_2011\":402774,\"populationestimate_2012\":404344,\"populationestimate_2013\":405281,\"populationestimate_2014\":407275,\"populationestimate_2015\":408985,\"populationestimate_2016\":411333,\"populationestimate_2017\":413204,\"populationestimate_2018\":414630,\"populationestimate_2019\":417025,\"st\":33,\"cty\":11,\"ctyname\":\"Hillsborough County, New Hampshire\"},{\"fipstxt\":33015,\"population_2020\":314176.0,\"rural_urban_continuum_code_2013\":1.0,\"census\":295223,\"estimatesbase\":295204,\"populationestimate_2010\":295289,\"populationestimate_2011\":296195,\"populationestimate_2012\":298157,\"populationestimate_2013\":299456,\"populationestimate_2014\":301361,\"populationestimate_2015\":302691,\"populationestimate_2016\":304377,\"populationestimate_2017\":306669,\"populationestimate_2018\":308287,\"populationestimate_2019\":309769,\"st\":33,\"cty\":15,\"ctyname\":\"Rockingham County, New Hampshire\"},{\"fipstxt\":34001,\"population_2020\":274534.0,\"rural_urban_continuum_code_2013\":2.0,\"census\":274549,\"estimatesbase\":274525,\"populationestimate_2010\":274648,\"populationestimate_2011\":274621,\"populationestimate_2012\":274629,\"populationestimate_2013\":274314,\"populationestimate_2014\":272578,\"populationestimate_2015\":270153,\"populationestimate_2016\":267217,\"populationestimate_2017\":265498,\"populationestimate_2018\":263989,\"populationestimate_2019\":263670,\"st\":34,\"cty\":1,\"ctyname\":\"Atlantic County, New Jersey\"},{\"fipstxt\":34003,\"population_2020\":955732.0,\"rural_urban_continuum_code_2013\":1.0,\"census\":905116,\"estimatesbase\":905107,\"populationestimate_2010\":906284,\"populationestimate_2011\":911994,\"populationestimate_2012\":916255,\"populationestimate_2013\":919951,\"populationestimate_2014\":923403,\"populationestimate_2015\":926391,\"populationestimate_2016\":928120,\"populationestimate_2017\":932420,\"populationestimate_2018\":932816,\"populationestimate_2019\":932202,\"st\":34,\"cty\":3,\"ctyname\":\"Bergen County, New Jersey\"},{\"fipstxt\":34005,\"population_2020\":461860.0,\"rural_urban_continuum_code_2013\":1.0,\"census\":448734,\"estimatesbase\":448730,\"populationestimate_2010\":449129,\"populationestimate_2011\":450187,\"populationestimate_2012\":450522,\"populationestimate_2013\":448824,\"populationestimate_2014\":448168,\"populationestimate_2015\":446832,\"populationestimate_2016\":445972,\"populationestimate_2017\":445610,\"populationestimate_2018\":444745,\"populationestimate_2019\":445349,\"st\":34,\"cty\":5,\"ctyname\":\"Burlington County, New Jersey\"},{\"fipstxt\":34007,\"population_2020\":523485.0,\"rural_urban_continuum_code_2013\":1.0,\"census\":513657,\"estimatesbase\":513535,\"populationestimate_2010\":513275,\"populationestimate_2011\":512585,\"populationestimate_2012\":511584,\"populationestimate_2013\":509908,\"populationestimate_2014\":508316,\"populationestimate_2015\":507638,\"populationestimate_2016\":507002,\"populationestimate_2017\":506224,\"populationestimate_2018\":506353,\"populationestimate_2019\":506471,\"st\":34,\"cty\":7,\"ctyname\":\"Camden County, New Jersey\"},{\"fipstxt\":34013,\"population_2020\":863728.0,\"rural_urban_continuum_code_2013\":1.0,\"census\":783969,\"estimatesbase\":783891,\"populationestimate_2010\":784037,\"populationestimate_2011\":785551,\"populationestimate_2012\":785063,\"populationestimate_2013\":786649,\"populationestimate_2014\":788726,\"populationestimate_2015\":790439,\"populationestimate_2016\":792689,\"populationestimate_2017\":796349,\"populationestimate_2018\":798570,\"populationestimate_2019\":798975,\"st\":34,\"cty\":13,\"ctyname\":\"Essex County, New Jersey\"},{\"fipstxt\":34015,\"population_2020\":302294.0,\"rural_urban_continuum_code_2013\":1.0,\"census\":288288,\"estimatesbase\":288756,\"populationestimate_2010\":289150,\"populationestimate_2011\":289687,\"populationestimate_2012\":289804,\"populationestimate_2013\":289883,\"populationestimate_2014\":290680,\"populationestimate_2015\":290943,\"populationestimate_2016\":290761,\"populationestimate_2017\":290961,\"populationestimate_2018\":291525,\"populationestimate_2019\":291636,\"st\":34,\"cty\":15,\"ctyname\":\"Gloucester County, New Jersey\"},{\"fipstxt\":34017,\"population_2020\":724854.0,\"rural_urban_continuum_code_2013\":1.0,\"census\":634266,\"estimatesbase\":634284,\"populationestimate_2010\":635652,\"populationestimate_2011\":645634,\"populationestimate_2012\":652348,\"populationestimate_2013\":657047,\"populationestimate_2014\":660240,\"populationestimate_2015\":664492,\"populationestimate_2016\":668588,\"populationestimate_2017\":672826,\"populationestimate_2018\":671931,\"populationestimate_2019\":672391,\"st\":34,\"cty\":17,\"ctyname\":\"Hudson County, New Jersey\"},{\"fipstxt\":34021,\"population_2020\":387340.0,\"rural_urban_continuum_code_2013\":2.0,\"census\":366513,\"estimatesbase\":367485,\"populationestimate_2010\":367713,\"populationestimate_2011\":367378,\"populationestimate_2012\":368554,\"populationestimate_2013\":369429,\"populationestimate_2014\":368909,\"populationestimate_2015\":368124,\"populationestimate_2016\":367699,\"populationestimate_2017\":368168,\"populationestimate_2018\":368188,\"populationestimate_2019\":367430,\"st\":34,\"cty\":21,\"ctyname\":\"Mercer County, New Jersey\"},{\"fipstxt\":34023,\"population_2020\":863162.0,\"rural_urban_continuum_code_2013\":1.0,\"census\":809858,\"estimatesbase\":810038,\"populationestimate_2010\":810758,\"populationestimate_2011\":815198,\"populationestimate_2012\":819344,\"populationestimate_2013\":821743,\"populationestimate_2014\":824160,\"populationestimate_2015\":825546,\"populationestimate_2016\":825457,\"populationestimate_2017\":827363,\"populationestimate_2018\":826172,\"populationestimate_2019\":825062,\"st\":34,\"cty\":23,\"ctyname\":\"Middlesex County, New Jersey\"},{\"fipstxt\":34025,\"population_2020\":643615.0,\"rural_urban_continuum_code_2013\":1.0,\"census\":630380,\"estimatesbase\":630362,\"populationestimate_2010\":630461,\"populationestimate_2011\":629119,\"populationestimate_2012\":627641,\"populationestimate_2013\":626912,\"populationestimate_2014\":625512,\"populationestimate_2015\":624079,\"populationestimate_2016\":622971,\"populationestimate_2017\":621990,\"populationestimate_2018\":620459,\"populationestimate_2019\":618795,\"st\":34,\"cty\":25,\"ctyname\":\"Monmouth County, New Jersey\"},{\"fipstxt\":34027,\"population_2020\":509285.0,\"rural_urban_continuum_code_2013\":1.0,\"census\":492276,\"estimatesbase\":492281,\"populationestimate_2010\":492617,\"populationestimate_2011\":494792,\"populationestimate_2012\":495620,\"populationestimate_2013\":496030,\"populationestimate_2014\":494848,\"populationestimate_2015\":494259,\"populationestimate_2016\":493801,\"populationestimate_2017\":493920,\"populationestimate_2018\":493070,\"populationestimate_2019\":491845,\"st\":34,\"cty\":27,\"ctyname\":\"Morris County, New Jersey\"},{\"fipstxt\":34029,\"population_2020\":637229.0,\"rural_urban_continuum_code_2013\":1.0,\"census\":576567,\"estimatesbase\":576546,\"populationestimate_2010\":577564,\"populationestimate_2011\":578876,\"populationestimate_2012\":579932,\"populationestimate_2013\":582059,\"populationestimate_2014\":584447,\"populationestimate_2015\":587091,\"populationestimate_2016\":590897,\"populationestimate_2017\":595424,\"populationestimate_2018\":601478,\"populationestimate_2019\":607186,\"st\":34,\"cty\":29,\"ctyname\":\"Ocean County, New Jersey\"},{\"fipstxt\":34031,\"population_2020\":524118.0,\"rural_urban_continuum_code_2013\":1.0,\"census\":501226,\"estimatesbase\":501600,\"populationestimate_2010\":502023,\"populationestimate_2011\":503264,\"populationestimate_2012\":503558,\"populationestimate_2013\":503857,\"populationestimate_2014\":504547,\"populationestimate_2015\":504629,\"populationestimate_2016\":504147,\"populationestimate_2017\":504402,\"populationestimate_2018\":503183,\"populationestimate_2019\":501826,\"st\":34,\"cty\":31,\"ctyname\":\"Passaic County, New Jersey\"},{\"fipstxt\":34035,\"population_2020\":345361.0,\"rural_urban_continuum_code_2013\":1.0,\"census\":323444,\"estimatesbase\":323479,\"populationestimate_2010\":324122,\"populationestimate_2011\":326249,\"populationestimate_2012\":327407,\"populationestimate_2013\":329047,\"populationestimate_2014\":329329,\"populationestimate_2015\":329626,\"populationestimate_2016\":329875,\"populationestimate_2017\":330573,\"populationestimate_2018\":330181,\"populationestimate_2019\":328934,\"st\":34,\"cty\":35,\"ctyname\":\"Somerset County, New Jersey\"},{\"fipstxt\":34039,\"population_2020\":575345.0,\"rural_urban_continuum_code_2013\":1.0,\"census\":536499,\"estimatesbase\":536464,\"populationestimate_2010\":537369,\"populationestimate_2011\":539931,\"populationestimate_2012\":542970,\"populationestimate_2013\":546025,\"populationestimate_2014\":548014,\"populationestimate_2015\":549905,\"populationestimate_2016\":552781,\"populationestimate_2017\":554738,\"populationestimate_2018\":556402,\"populationestimate_2019\":556341,\"st\":34,\"cty\":39,\"ctyname\":\"Union County, New Jersey\"},{\"fipstxt\":35001,\"population_2020\":676444.0,\"rural_urban_continuum_code_2013\":2.0,\"census\":662564,\"estimatesbase\":662477,\"populationestimate_2010\":663923,\"populationestimate_2011\":670283,\"populationestimate_2012\":673615,\"populationestimate_2013\":676326,\"populationestimate_2014\":675957,\"populationestimate_2015\":676248,\"populationestimate_2016\":677683,\"populationestimate_2017\":678203,\"populationestimate_2018\":678034,\"populationestimate_2019\":679121,\"st\":35,\"cty\":1,\"ctyname\":\"Bernalillo County, New Mexico\"},{\"fipstxt\":36001,\"population_2020\":314848.0,\"rural_urban_continuum_code_2013\":2.0,\"census\":304204,\"estimatesbase\":304208,\"populationestimate_2010\":304086,\"populationestimate_2011\":304596,\"populationestimate_2012\":305723,\"populationestimate_2013\":306589,\"populationestimate_2014\":307151,\"populationestimate_2015\":307433,\"populationestimate_2016\":307597,\"populationestimate_2017\":307717,\"populationestimate_2018\":306585,\"populationestimate_2019\":305506,\"st\":36,\"cty\":1,\"ctyname\":\"Albany County, New York\"},{\"fipstxt\":36005,\"population_2020\":1472654.0,\"rural_urban_continuum_code_2013\":1.0,\"census\":1385108,\"estimatesbase\":1384580,\"populationestimate_2010\":1387298,\"populationestimate_2011\":1397335,\"populationestimate_2012\":1411496,\"populationestimate_2013\":1421928,\"populationestimate_2014\":1430942,\"populationestimate_2015\":1440005,\"populationestimate_2016\":1444417,\"populationestimate_2017\":1440625,\"populationestimate_2018\":1432087,\"populationestimate_2019\":1418207,\"st\":36,\"cty\":5,\"ctyname\":\"Bronx County, New York\"},{\"fipstxt\":36027,\"population_2020\":295911.0,\"rural_urban_continuum_code_2013\":1.0,\"census\":297488,\"estimatesbase\":297454,\"populationestimate_2010\":297728,\"populationestimate_2011\":298133,\"populationestimate_2012\":297023,\"populationestimate_2013\":296268,\"populationestimate_2014\":295127,\"populationestimate_2015\":294039,\"populationestimate_2016\":293029,\"populationestimate_2017\":293545,\"populationestimate_2018\":293939,\"populationestimate_2019\":294218,\"st\":36,\"cty\":27,\"ctyname\":\"Dutchess County, New York\"},{\"fipstxt\":36029,\"population_2020\":954236.0,\"rural_urban_continuum_code_2013\":1.0,\"census\":919040,\"estimatesbase\":919134,\"populationestimate_2010\":919152,\"populationestimate_2011\":919843,\"populationestimate_2012\":919906,\"populationestimate_2013\":920869,\"populationestimate_2014\":921755,\"populationestimate_2015\":920644,\"populationestimate_2016\":918678,\"populationestimate_2017\":919034,\"populationestimate_2018\":919717,\"populationestimate_2019\":918702,\"st\":36,\"cty\":29,\"ctyname\":\"Erie County, New York\"},{\"fipstxt\":36047,\"population_2020\":2736074.0,\"rural_urban_continuum_code_2013\":1.0,\"census\":2504700,\"estimatesbase\":2504721,\"populationestimate_2010\":2509828,\"populationestimate_2011\":2540817,\"populationestimate_2012\":2568450,\"populationestimate_2013\":2587684,\"populationestimate_2014\":2601513,\"populationestimate_2015\":2608794,\"populationestimate_2016\":2608423,\"populationestimate_2017\":2594676,\"populationestimate_2018\":2578074,\"populationestimate_2019\":2559903,\"st\":36,\"cty\":47,\"ctyname\":\"Kings County, New York\"},{\"fipstxt\":36055,\"population_2020\":759443.0,\"rural_urban_continuum_code_2013\":1.0,\"census\":744344,\"estimatesbase\":744394,\"populationestimate_2010\":744580,\"populationestimate_2011\":746751,\"populationestimate_2012\":747344,\"populationestimate_2013\":748290,\"populationestimate_2014\":747364,\"populationestimate_2015\":745577,\"populationestimate_2016\":743770,\"populationestimate_2017\":742724,\"populationestimate_2018\":742864,\"populationestimate_2019\":741770,\"st\":36,\"cty\":55,\"ctyname\":\"Monroe County, New York\"},{\"fipstxt\":36059,\"population_2020\":1395774.0,\"rural_urban_continuum_code_2013\":1.0,\"census\":1339532,\"estimatesbase\":1339880,\"populationestimate_2010\":1341669,\"populationestimate_2011\":1346223,\"populationestimate_2012\":1349616,\"populationestimate_2013\":1352193,\"populationestimate_2014\":1354705,\"populationestimate_2015\":1354840,\"populationestimate_2016\":1355952,\"populationestimate_2017\":1357293,\"populationestimate_2018\":1357534,\"populationestimate_2019\":1356924,\"st\":36,\"cty\":59,\"ctyname\":\"Nassau County, New York\"},{\"fipstxt\":36061,\"population_2020\":1694251.0,\"rural_urban_continuum_code_2013\":1.0,\"census\":1585873,\"estimatesbase\":1586381,\"populationestimate_2010\":1588767,\"populationestimate_2011\":1608293,\"populationestimate_2012\":1623911,\"populationestimate_2013\":1627491,\"populationestimate_2014\":1630678,\"populationestimate_2015\":1636063,\"populationestimate_2016\":1635443,\"populationestimate_2017\":1630698,\"populationestimate_2018\":1629055,\"populationestimate_2019\":1628706,\"st\":36,\"cty\":61,\"ctyname\":\"New York County, New York\"},{\"fipstxt\":36063,\"population_2020\":212666.0,\"rural_urban_continuum_code_2013\":1.0,\"census\":216469,\"estimatesbase\":216480,\"populationestimate_2010\":216475,\"populationestimate_2011\":215719,\"populationestimate_2012\":214713,\"populationestimate_2013\":214105,\"populationestimate_2014\":213305,\"populationestimate_2015\":212358,\"populationestimate_2016\":211554,\"populationestimate_2017\":210848,\"populationestimate_2018\":210060,\"populationestimate_2019\":209281,\"st\":36,\"cty\":63,\"ctyname\":\"Niagara County, New York\"},{\"fipstxt\":36065,\"population_2020\":232125.0,\"rural_urban_continuum_code_2013\":2.0,\"census\":234878,\"estimatesbase\":234860,\"populationestimate_2010\":234756,\"populationestimate_2011\":234218,\"populationestimate_2012\":233765,\"populationestimate_2013\":233347,\"populationestimate_2014\":232598,\"populationestimate_2015\":231264,\"populationestimate_2016\":230375,\"populationestimate_2017\":230011,\"populationestimate_2018\":229474,\"populationestimate_2019\":228671,\"st\":36,\"cty\":65,\"ctyname\":\"Oneida County, New York\"},{\"fipstxt\":36067,\"population_2020\":476516.0,\"rural_urban_continuum_code_2013\":2.0,\"census\":467026,\"estimatesbase\":467067,\"populationestimate_2010\":467533,\"populationestimate_2011\":467614,\"populationestimate_2012\":467030,\"populationestimate_2013\":468146,\"populationestimate_2014\":467285,\"populationestimate_2015\":466277,\"populationestimate_2016\":464109,\"populationestimate_2017\":461795,\"populationestimate_2018\":461649,\"populationestimate_2019\":460528,\"st\":36,\"cty\":67,\"ctyname\":\"Onondaga County, New York\"},{\"fipstxt\":36071,\"population_2020\":401310.0,\"rural_urban_continuum_code_2013\":1.0,\"census\":372813,\"estimatesbase\":372826,\"populationestimate_2010\":373445,\"populationestimate_2011\":374097,\"populationestimate_2012\":373699,\"populationestimate_2013\":374320,\"populationestimate_2014\":374845,\"populationestimate_2015\":375803,\"populationestimate_2016\":377799,\"populationestimate_2017\":379758,\"populationestimate_2018\":382126,\"populationestimate_2019\":384940,\"st\":36,\"cty\":71,\"ctyname\":\"Orange County, New York\"},{\"fipstxt\":36081,\"population_2020\":2405464.0,\"rural_urban_continuum_code_2013\":1.0,\"census\":2230722,\"estimatesbase\":2230619,\"populationestimate_2010\":2234701,\"populationestimate_2011\":2255482,\"populationestimate_2012\":2272222,\"populationestimate_2013\":2287185,\"populationestimate_2014\":2298736,\"populationestimate_2015\":2305838,\"populationestimate_2016\":2306830,\"populationestimate_2017\":2295808,\"populationestimate_2018\":2274605,\"populationestimate_2019\":2253858,\"st\":36,\"cty\":81,\"ctyname\":\"Queens County, New York\"},{\"fipstxt\":36085,\"population_2020\":495747.0,\"rural_urban_continuum_code_2013\":1.0,\"census\":468730,\"estimatesbase\":468730,\"populationestimate_2010\":469615,\"populationestimate_2011\":471021,\"populationestimate_2012\":470614,\"populationestimate_2013\":471803,\"populationestimate_2014\":471937,\"populationestimate_2015\":472349,\"populationestimate_2016\":474040,\"populationestimate_2017\":475671,\"populationestimate_2018\":476260,\"populationestimate_2019\":476143,\"st\":36,\"cty\":85,\"ctyname\":\"Richmond County, New York\"},{\"fipstxt\":36087,\"population_2020\":338329.0,\"rural_urban_continuum_code_2013\":1.0,\"census\":311687,\"estimatesbase\":311691,\"populationestimate_2010\":312499,\"populationestimate_2011\":315452,\"populationestimate_2012\":317196,\"populationestimate_2013\":319284,\"populationestimate_2014\":321119,\"populationestimate_2015\":322919,\"populationestimate_2016\":323258,\"populationestimate_2017\":324622,\"populationestimate_2018\":325522,\"populationestimate_2019\":325789,\"st\":36,\"cty\":87,\"ctyname\":\"Rockland County, New York\"},{\"fipstxt\":36091,\"population_2020\":235509.0,\"rural_urban_continuum_code_2013\":2.0,\"census\":219607,\"estimatesbase\":219598,\"populationestimate_2010\":220109,\"populationestimate_2011\":221111,\"populationestimate_2012\":222483,\"populationestimate_2013\":224087,\"populationestimate_2014\":224513,\"populationestimate_2015\":226078,\"populationestimate_2016\":227122,\"populationestimate_2017\":229276,\"populationestimate_2018\":230170,\"populationestimate_2019\":229863,\"st\":36,\"cty\":91,\"ctyname\":\"Saratoga County, New York\"},{\"fipstxt\":36103,\"population_2020\":1525920.0,\"rural_urban_continuum_code_2013\":1.0,\"census\":1493350,\"estimatesbase\":1493116,\"populationestimate_2010\":1494339,\"populationestimate_2011\":1498892,\"populationestimate_2012\":1496982,\"populationestimate_2013\":1497346,\"populationestimate_2014\":1495525,\"populationestimate_2015\":1491967,\"populationestimate_2016\":1486406,\"populationestimate_2017\":1483358,\"populationestimate_2018\":1480830,\"populationestimate_2019\":1476601,\"st\":36,\"cty\":103,\"ctyname\":\"Suffolk County, New York\"},{\"fipstxt\":36119,\"population_2020\":1004457.0,\"rural_urban_continuum_code_2013\":1.0,\"census\":949113,\"estimatesbase\":949218,\"populationestimate_2010\":950601,\"populationestimate_2011\":956262,\"populationestimate_2012\":959585,\"populationestimate_2013\":964567,\"populationestimate_2014\":967044,\"populationestimate_2015\":968773,\"populationestimate_2016\":970267,\"populationestimate_2017\":969689,\"populationestimate_2018\":968213,\"populationestimate_2019\":967506,\"st\":36,\"cty\":119,\"ctyname\":\"Westchester County, New York\"},{\"fipstxt\":37021,\"population_2020\":269452.0,\"rural_urban_continuum_code_2013\":2.0,\"census\":238318,\"estimatesbase\":238330,\"populationestimate_2010\":238738,\"populationestimate_2011\":241172,\"populationestimate_2012\":243655,\"populationestimate_2013\":246807,\"populationestimate_2014\":249084,\"populationestimate_2015\":251954,\"populationestimate_2016\":254955,\"populationestimate_2017\":257071,\"populationestimate_2018\":259259,\"populationestimate_2019\":261191,\"st\":37,\"cty\":21,\"ctyname\":\"Buncombe County, North Carolina\"},{\"fipstxt\":37025,\"population_2020\":225804.0,\"rural_urban_continuum_code_2013\":1.0,\"census\":178011,\"estimatesbase\":178121,\"populationestimate_2010\":178562,\"populationestimate_2011\":181175,\"populationestimate_2012\":184340,\"populationestimate_2013\":187240,\"populationestimate_2014\":191680,\"populationestimate_2015\":196396,\"populationestimate_2016\":201639,\"populationestimate_2017\":206988,\"populationestimate_2018\":211597,\"populationestimate_2019\":216453,\"st\":37,\"cty\":25,\"ctyname\":\"Cabarrus County, North Carolina\"},{\"fipstxt\":37051,\"population_2020\":334728.0,\"rural_urban_continuum_code_2013\":2.0,\"census\":319431,\"estimatesbase\":319431,\"populationestimate_2010\":327197,\"populationestimate_2011\":330503,\"populationestimate_2012\":329985,\"populationestimate_2013\":332997,\"populationestimate_2014\":332364,\"populationestimate_2015\":331203,\"populationestimate_2016\":333167,\"populationestimate_2017\":330994,\"populationestimate_2018\":333430,\"populationestimate_2019\":335509,\"st\":37,\"cty\":51,\"ctyname\":\"Cumberland County, North Carolina\"},{\"fipstxt\":37063,\"population_2020\":324833.0,\"rural_urban_continuum_code_2013\":2.0,\"census\":267587,\"estimatesbase\":270001,\"populationestimate_2010\":271357,\"populationestimate_2011\":276563,\"populationestimate_2012\":282659,\"populationestimate_2013\":288723,\"populationestimate_2014\":295137,\"populationestimate_2015\":300793,\"populationestimate_2016\":307826,\"populationestimate_2017\":312153,\"populationestimate_2018\":316979,\"populationestimate_2019\":321488,\"st\":37,\"cty\":63,\"ctyname\":\"Durham County, North Carolina\"},{\"fipstxt\":37067,\"population_2020\":382590.0,\"rural_urban_continuum_code_2013\":2.0,\"census\":350670,\"estimatesbase\":350638,\"populationestimate_2010\":351374,\"populationestimate_2011\":354524,\"populationestimate_2012\":357598,\"populationestimate_2013\":360594,\"populationestimate_2014\":364439,\"populationestimate_2015\":367365,\"populationestimate_2016\":371260,\"populationestimate_2017\":375840,\"populationestimate_2018\":379216,\"populationestimate_2019\":382295,\"st\":37,\"cty\":67,\"ctyname\":\"Forsyth County, North Carolina\"},{\"fipstxt\":37071,\"population_2020\":227943.0,\"rural_urban_continuum_code_2013\":1.0,\"census\":206086,\"estimatesbase\":206098,\"populationestimate_2010\":206114,\"populationestimate_2011\":206886,\"populationestimate_2012\":207903,\"populationestimate_2013\":209212,\"populationestimate_2014\":210545,\"populationestimate_2015\":212919,\"populationestimate_2016\":216622,\"populationestimate_2017\":219656,\"populationestimate_2018\":222630,\"populationestimate_2019\":224529,\"st\":37,\"cty\":71,\"ctyname\":\"Gaston County, North Carolina\"},{\"fipstxt\":37081,\"population_2020\":541299.0,\"rural_urban_continuum_code_2013\":2.0,\"census\":488406,\"estimatesbase\":488454,\"populationestimate_2010\":489618,\"populationestimate_2011\":494953,\"populationestimate_2012\":500514,\"populationestimate_2013\":506400,\"populationestimate_2014\":512233,\"populationestimate_2015\":517053,\"populationestimate_2016\":524265,\"populationestimate_2017\":528243,\"populationestimate_2018\":532607,\"populationestimate_2019\":537174,\"st\":37,\"cty\":81,\"ctyname\":\"Guilford County, North Carolina\"},{\"fipstxt\":37101,\"population_2020\":215999.0,\"rural_urban_continuum_code_2013\":1.0,\"census\":168878,\"estimatesbase\":168878,\"populationestimate_2010\":169678,\"populationestimate_2011\":172446,\"populationestimate_2012\":174383,\"populationestimate_2013\":177227,\"populationestimate_2014\":180710,\"populationestimate_2015\":185104,\"populationestimate_2016\":190843,\"populationestimate_2017\":196374,\"populationestimate_2018\":202692,\"populationestimate_2019\":209339,\"st\":37,\"cty\":101,\"ctyname\":\"Johnston County, North Carolina\"},{\"fipstxt\":37119,\"population_2020\":1115482.0,\"rural_urban_continuum_code_2013\":1.0,\"census\":919628,\"estimatesbase\":919664,\"populationestimate_2010\":923242,\"populationestimate_2011\":943823,\"populationestimate_2012\":967063,\"populationestimate_2013\":990677,\"populationestimate_2014\":1010229,\"populationestimate_2015\":1033238,\"populationestimate_2016\":1056901,\"populationestimate_2017\":1078128,\"populationestimate_2018\":1093750,\"populationestimate_2019\":1110356,\"st\":37,\"cty\":119,\"ctyname\":\"Mecklenburg County, North Carolina\"},{\"fipstxt\":37129,\"population_2020\":225702.0,\"rural_urban_continuum_code_2013\":2.0,\"census\":202667,\"estimatesbase\":202683,\"populationestimate_2010\":203284,\"populationestimate_2011\":205966,\"populationestimate_2012\":209045,\"populationestimate_2013\":212921,\"populationestimate_2014\":215963,\"populationestimate_2015\":219422,\"populationestimate_2016\":224809,\"populationestimate_2017\":228728,\"populationestimate_2018\":232256,\"populationestimate_2019\":234473,\"st\":37,\"cty\":129,\"ctyname\":\"New Hanover County, North Carolina\"},{\"fipstxt\":37133,\"population_2020\":204576.0,\"rural_urban_continuum_code_2013\":3.0,\"census\":177772,\"estimatesbase\":177801,\"populationestimate_2010\":186892,\"populationestimate_2011\":184993,\"populationestimate_2012\":190678,\"populationestimate_2013\":192354,\"populationestimate_2014\":191822,\"populationestimate_2015\":193114,\"populationestimate_2016\":192314,\"populationestimate_2017\":195066,\"populationestimate_2018\":196915,\"populationestimate_2019\":197938,\"st\":37,\"cty\":133,\"ctyname\":\"Onslow County, North Carolina\"},{\"fipstxt\":37179,\"population_2020\":238267.0,\"rural_urban_continuum_code_2013\":1.0,\"census\":201292,\"estimatesbase\":201332,\"populationestimate_2010\":202109,\"populationestimate_2011\":204888,\"populationestimate_2012\":208069,\"populationestimate_2013\":212200,\"populationestimate_2014\":217689,\"populationestimate_2015\":221949,\"populationestimate_2016\":226279,\"populationestimate_2017\":231350,\"populationestimate_2018\":235830,\"populationestimate_2019\":239859,\"st\":37,\"cty\":179,\"ctyname\":\"Union County, North Carolina\"},{\"fipstxt\":37183,\"population_2020\":1129410.0,\"rural_urban_continuum_code_2013\":1.0,\"census\":900993,\"estimatesbase\":901052,\"populationestimate_2010\":906870,\"populationestimate_2011\":928787,\"populationestimate_2012\":952060,\"populationestimate_2013\":974198,\"populationestimate_2014\":997788,\"populationestimate_2015\":1022319,\"populationestimate_2016\":1048335,\"populationestimate_2017\":1071706,\"populationestimate_2018\":1091273,\"populationestimate_2019\":1111761,\"st\":37,\"cty\":183,\"ctyname\":\"Wake County, North Carolina\"},{\"fipstxt\":39017,\"population_2020\":390357.0,\"rural_urban_continuum_code_2013\":1.0,\"census\":368130,\"estimatesbase\":368136,\"populationestimate_2010\":369102,\"populationestimate_2011\":370123,\"populationestimate_2012\":370550,\"populationestimate_2013\":371395,\"populationestimate_2014\":373750,\"populationestimate_2015\":375998,\"populationestimate_2016\":378354,\"populationestimate_2017\":380607,\"populationestimate_2018\":382000,\"populationestimate_2019\":383134,\"st\":39,\"cty\":17,\"ctyname\":\"Butler County, Ohio\"},{\"fipstxt\":39025,\"population_2020\":208601.0,\"rural_urban_continuum_code_2013\":1.0,\"census\":197363,\"estimatesbase\":197366,\"populationestimate_2010\":197604,\"populationestimate_2011\":198859,\"populationestimate_2012\":199487,\"populationestimate_2013\":200447,\"populationestimate_2014\":201454,\"populationestimate_2015\":201995,\"populationestimate_2016\":203165,\"populationestimate_2017\":204260,\"populationestimate_2018\":205526,\"populationestimate_2019\":206428,\"st\":39,\"cty\":25,\"ctyname\":\"Clermont County, Ohio\"},{\"fipstxt\":39035,\"population_2020\":1264817.0,\"rural_urban_continuum_code_2013\":1.0,\"census\":1280122,\"estimatesbase\":1280114,\"populationestimate_2010\":1278088,\"populationestimate_2011\":1270331,\"populationestimate_2012\":1266106,\"populationestimate_2013\":1265442,\"populationestimate_2014\":1263201,\"populationestimate_2015\":1258739,\"populationestimate_2016\":1254144,\"populationestimate_2017\":1247581,\"populationestimate_2018\":1241718,\"populationestimate_2019\":1235072,\"st\":39,\"cty\":35,\"ctyname\":\"Cuyahoga County, Ohio\"},{\"fipstxt\":39041,\"population_2020\":214124.0,\"rural_urban_continuum_code_2013\":1.0,\"census\":174214,\"estimatesbase\":174172,\"populationestimate_2010\":175099,\"populationestimate_2011\":178535,\"populationestimate_2012\":181127,\"populationestimate_2013\":185380,\"populationestimate_2014\":189440,\"populationestimate_2015\":193391,\"populationestimate_2016\":197144,\"populationestimate_2017\":200870,\"populationestimate_2018\":205091,\"populationestimate_2019\":209177,\"st\":39,\"cty\":41,\"ctyname\":\"Delaware County, Ohio\"},{\"fipstxt\":39049,\"population_2020\":1323807.0,\"rural_urban_continuum_code_2013\":1.0,\"census\":1163414,\"estimatesbase\":1163476,\"populationestimate_2010\":1166202,\"populationestimate_2011\":1180800,\"populationestimate_2012\":1199045,\"populationestimate_2013\":1218878,\"populationestimate_2014\":1238362,\"populationestimate_2015\":1257386,\"populationestimate_2016\":1274450,\"populationestimate_2017\":1295510,\"populationestimate_2018\":1307698,\"populationestimate_2019\":1316756,\"st\":39,\"cty\":49,\"ctyname\":\"Franklin County, Ohio\"},{\"fipstxt\":39061,\"population_2020\":830639.0,\"rural_urban_continuum_code_2013\":1.0,\"census\":802374,\"estimatesbase\":802371,\"populationestimate_2010\":802278,\"populationestimate_2011\":800658,\"populationestimate_2012\":802409,\"populationestimate_2013\":805182,\"populationestimate_2014\":807617,\"populationestimate_2015\":809527,\"populationestimate_2016\":811332,\"populationestimate_2017\":814170,\"populationestimate_2018\":815445,\"populationestimate_2019\":817473,\"st\":39,\"cty\":61,\"ctyname\":\"Hamilton County, Ohio\"},{\"fipstxt\":39085,\"population_2020\":232603.0,\"rural_urban_continuum_code_2013\":1.0,\"census\":230041,\"estimatesbase\":230051,\"populationestimate_2010\":230014,\"populationestimate_2011\":229988,\"populationestimate_2012\":229564,\"populationestimate_2013\":230075,\"populationestimate_2014\":229857,\"populationestimate_2015\":229836,\"populationestimate_2016\":229525,\"populationestimate_2017\":230159,\"populationestimate_2018\":230102,\"populationestimate_2019\":230149,\"st\":39,\"cty\":85,\"ctyname\":\"Lake County, Ohio\"},{\"fipstxt\":39093,\"population_2020\":312964.0,\"rural_urban_continuum_code_2013\":1.0,\"census\":301356,\"estimatesbase\":301374,\"populationestimate_2010\":301478,\"populationestimate_2011\":301874,\"populationestimate_2012\":301712,\"populationestimate_2013\":303098,\"populationestimate_2014\":304464,\"populationestimate_2015\":305417,\"populationestimate_2016\":306607,\"populationestimate_2017\":307441,\"populationestimate_2018\":309052,\"populationestimate_2019\":309833,\"st\":39,\"cty\":93,\"ctyname\":\"Lorain County, Ohio\"},{\"fipstxt\":39095,\"population_2020\":431279.0,\"rural_urban_continuum_code_2013\":2.0,\"census\":441815,\"estimatesbase\":441815,\"populationestimate_2010\":441434,\"populationestimate_2011\":439359,\"populationestimate_2012\":436753,\"populationestimate_2013\":436156,\"populationestimate_2014\":434585,\"populationestimate_2015\":433633,\"populationestimate_2016\":432879,\"populationestimate_2017\":431039,\"populationestimate_2018\":429612,\"populationestimate_2019\":428348,\"st\":39,\"cty\":95,\"ctyname\":\"Lucas County, Ohio\"},{\"fipstxt\":39099,\"population_2020\":228614.0,\"rural_urban_continuum_code_2013\":2.0,\"census\":238823,\"estimatesbase\":238787,\"populationestimate_2010\":238381,\"populationestimate_2011\":237363,\"populationestimate_2012\":235702,\"populationestimate_2013\":234393,\"populationestimate_2014\":233391,\"populationestimate_2015\":231846,\"populationestimate_2016\":230269,\"populationestimate_2017\":229791,\"populationestimate_2018\":229216,\"populationestimate_2019\":228683,\"st\":39,\"cty\":99,\"ctyname\":\"Mahoning County, Ohio\"},{\"fipstxt\":39113,\"population_2020\":537309.0,\"rural_urban_continuum_code_2013\":2.0,\"census\":535153,\"estimatesbase\":535200,\"populationestimate_2010\":535597,\"populationestimate_2011\":534558,\"populationestimate_2012\":534334,\"populationestimate_2013\":534270,\"populationestimate_2014\":532488,\"populationestimate_2015\":531777,\"populationestimate_2016\":531818,\"populationestimate_2017\":531467,\"populationestimate_2018\":531600,\"populationestimate_2019\":531687,\"st\":39,\"cty\":113,\"ctyname\":\"Montgomery County, Ohio\"},{\"fipstxt\":39151,\"population_2020\":374853.0,\"rural_urban_continuum_code_2013\":2.0,\"census\":375586,\"estimatesbase\":375591,\"populationestimate_2010\":375372,\"populationestimate_2011\":374511,\"populationestimate_2012\":374891,\"populationestimate_2013\":375108,\"populationestimate_2014\":375546,\"populationestimate_2015\":374715,\"populationestimate_2016\":373447,\"populationestimate_2017\":372003,\"populationestimate_2018\":371248,\"populationestimate_2019\":370606,\"st\":39,\"cty\":151,\"ctyname\":\"Stark County, Ohio\"},{\"fipstxt\":39153,\"population_2020\":540428.0,\"rural_urban_continuum_code_2013\":2.0,\"census\":541781,\"estimatesbase\":541772,\"populationestimate_2010\":541645,\"populationestimate_2011\":541325,\"populationestimate_2012\":540726,\"populationestimate_2013\":541926,\"populationestimate_2014\":542445,\"populationestimate_2015\":541788,\"populationestimate_2016\":541003,\"populationestimate_2017\":541514,\"populationestimate_2018\":541353,\"populationestimate_2019\":541013,\"st\":39,\"cty\":153,\"ctyname\":\"Summit County, Ohio\"},{\"fipstxt\":39155,\"population_2020\":201977.0,\"rural_urban_continuum_code_2013\":2.0,\"census\":210312,\"estimatesbase\":210332,\"populationestimate_2010\":209840,\"populationestimate_2011\":208834,\"populationestimate_2012\":207191,\"populationestimate_2013\":206328,\"populationestimate_2014\":204973,\"populationestimate_2015\":203328,\"populationestimate_2016\":201715,\"populationestimate_2017\":200281,\"populationestimate_2018\":198539,\"populationestimate_2019\":197974,\"st\":39,\"cty\":155,\"ctyname\":\"Trumbull County, Ohio\"},{\"fipstxt\":39165,\"population_2020\":242337.0,\"rural_urban_continuum_code_2013\":1.0,\"census\":212693,\"estimatesbase\":212798,\"populationestimate_2010\":213429,\"populationestimate_2011\":215332,\"populationestimate_2012\":217212,\"populationestimate_2013\":219216,\"populationestimate_2014\":221267,\"populationestimate_2015\":223864,\"populationestimate_2016\":226539,\"populationestimate_2017\":228709,\"populationestimate_2018\":231945,\"populationestimate_2019\":234602,\"st\":39,\"cty\":165,\"ctyname\":\"Warren County, Ohio\"},{\"fipstxt\":40027,\"population_2020\":295528.0,\"rural_urban_continuum_code_2013\":1.0,\"census\":255755,\"estimatesbase\":255990,\"populationestimate_2010\":257085,\"populationestimate_2011\":262064,\"populationestimate_2012\":266150,\"populationestimate_2013\":269860,\"populationestimate_2014\":269724,\"populationestimate_2015\":273841,\"populationestimate_2016\":277809,\"populationestimate_2017\":279542,\"populationestimate_2018\":281166,\"populationestimate_2019\":284014,\"st\":40,\"cty\":27,\"ctyname\":\"Cleveland County, Oklahoma\"},{\"fipstxt\":40109,\"population_2020\":796292.0,\"rural_urban_continuum_code_2013\":1.0,\"census\":718633,\"estimatesbase\":718385,\"populationestimate_2010\":720762,\"populationestimate_2011\":730808,\"populationestimate_2012\":743403,\"populationestimate_2013\":756187,\"populationestimate_2014\":766882,\"populationestimate_2015\":777373,\"populationestimate_2016\":784611,\"populationestimate_2017\":786068,\"populationestimate_2018\":790593,\"populationestimate_2019\":797434,\"st\":40,\"cty\":109,\"ctyname\":\"Oklahoma County, Oklahoma\"},{\"fipstxt\":40143,\"population_2020\":669279.0,\"rural_urban_continuum_code_2013\":2.0,\"census\":603403,\"estimatesbase\":603430,\"populationestimate_2010\":604973,\"populationestimate_2011\":609204,\"populationestimate_2012\":615181,\"populationestimate_2013\":623705,\"populationestimate_2014\":630918,\"populationestimate_2015\":640470,\"populationestimate_2016\":645951,\"populationestimate_2017\":646437,\"populationestimate_2018\":647683,\"populationestimate_2019\":651552,\"st\":40,\"cty\":143,\"ctyname\":\"Tulsa County, Oklahoma\"},{\"fipstxt\":41005,\"population_2020\":421401.0,\"rural_urban_continuum_code_2013\":1.0,\"census\":375992,\"estimatesbase\":375996,\"populationestimate_2010\":376788,\"populationestimate_2011\":379592,\"populationestimate_2012\":383074,\"populationestimate_2013\":387442,\"populationestimate_2014\":393378,\"populationestimate_2015\":399647,\"populationestimate_2016\":406625,\"populationestimate_2017\":412442,\"populationestimate_2018\":415416,\"populationestimate_2019\":418187,\"st\":41,\"cty\":5,\"ctyname\":\"Clackamas County, Oregon\"},{\"fipstxt\":41029,\"population_2020\":223259.0,\"rural_urban_continuum_code_2013\":3.0,\"census\":203206,\"estimatesbase\":203204,\"populationestimate_2010\":203341,\"populationestimate_2011\":204747,\"populationestimate_2012\":205852,\"populationestimate_2013\":207179,\"populationestimate_2014\":209189,\"populationestimate_2015\":211403,\"populationestimate_2016\":214366,\"populationestimate_2017\":216746,\"populationestimate_2018\":219411,\"populationestimate_2019\":220944,\"st\":41,\"cty\":29,\"ctyname\":\"Jackson County, Oregon\"},{\"fipstxt\":41039,\"population_2020\":382971.0,\"rural_urban_continuum_code_2013\":2.0,\"census\":351715,\"estimatesbase\":351705,\"populationestimate_2010\":351920,\"populationestimate_2011\":354034,\"populationestimate_2012\":355075,\"populationestimate_2013\":355481,\"populationestimate_2014\":358027,\"populationestimate_2015\":361946,\"populationestimate_2016\":368874,\"populationestimate_2017\":375264,\"populationestimate_2018\":378549,\"populationestimate_2019\":382067,\"st\":41,\"cty\":39,\"ctyname\":\"Lane County, Oregon\"},{\"fipstxt\":41047,\"population_2020\":345920.0,\"rural_urban_continuum_code_2013\":2.0,\"census\":315335,\"estimatesbase\":315338,\"populationestimate_2010\":315941,\"populationestimate_2011\":318047,\"populationestimate_2012\":319867,\"populationestimate_2013\":321471,\"populationestimate_2014\":324433,\"populationestimate_2015\":329060,\"populationestimate_2016\":335382,\"populationestimate_2017\":340531,\"populationestimate_2018\":345412,\"populationestimate_2019\":347818,\"st\":41,\"cty\":47,\"ctyname\":\"Marion County, Oregon\"},{\"fipstxt\":41051,\"population_2020\":815428.0,\"rural_urban_continuum_code_2013\":1.0,\"census\":735334,\"estimatesbase\":735146,\"populationestimate_2010\":737276,\"populationestimate_2011\":749742,\"populationestimate_2012\":760198,\"populationestimate_2013\":766532,\"populationestimate_2014\":778430,\"populationestimate_2015\":790008,\"populationestimate_2016\":803212,\"populationestimate_2017\":807885,\"populationestimate_2018\":809072,\"populationestimate_2019\":812855,\"st\":41,\"cty\":51,\"ctyname\":\"Multnomah County, Oregon\"},{\"fipstxt\":41067,\"population_2020\":600372.0,\"rural_urban_continuum_code_2013\":1.0,\"census\":529710,\"estimatesbase\":529862,\"populationestimate_2010\":531638,\"populationestimate_2011\":540967,\"populationestimate_2012\":548524,\"populationestimate_2013\":555264,\"populationestimate_2014\":562316,\"populationestimate_2015\":572664,\"populationestimate_2016\":584910,\"populationestimate_2017\":591336,\"populationestimate_2018\":596904,\"populationestimate_2019\":601592,\"st\":41,\"cty\":67,\"ctyname\":\"Washington County, Oregon\"},{\"fipstxt\":42003,\"population_2020\":1250578.0,\"rural_urban_continuum_code_2013\":1.0,\"census\":1223348,\"estimatesbase\":1223303,\"populationestimate_2010\":1223957,\"populationestimate_2011\":1228297,\"populationestimate_2012\":1230911,\"populationestimate_2013\":1233700,\"populationestimate_2014\":1233027,\"populationestimate_2015\":1228827,\"populationestimate_2016\":1226426,\"populationestimate_2017\":1220141,\"populationestimate_2018\":1217281,\"populationestimate_2019\":1216045,\"st\":42,\"cty\":3,\"ctyname\":\"Allegheny County, Pennsylvania\"},{\"fipstxt\":42011,\"population_2020\":428849.0,\"rural_urban_continuum_code_2013\":2.0,\"census\":411442,\"estimatesbase\":411570,\"populationestimate_2010\":412039,\"populationestimate_2011\":413008,\"populationestimate_2012\":413518,\"populationestimate_2013\":413915,\"populationestimate_2014\":414559,\"populationestimate_2015\":415138,\"populationestimate_2016\":415784,\"populationestimate_2017\":417511,\"populationestimate_2018\":420529,\"populationestimate_2019\":421164,\"st\":42,\"cty\":11,\"ctyname\":\"Berks County, Pennsylvania\"},{\"fipstxt\":42017,\"population_2020\":646538.0,\"rural_urban_continuum_code_2013\":1.0,\"census\":625249,\"estimatesbase\":625256,\"populationestimate_2010\":625385,\"populationestimate_2011\":625938,\"populationestimate_2012\":625346,\"populationestimate_2013\":625012,\"populationestimate_2014\":625253,\"populationestimate_2015\":625276,\"populationestimate_2016\":625861,\"populationestimate_2017\":626811,\"populationestimate_2018\":627812,\"populationestimate_2019\":628270,\"st\":42,\"cty\":17,\"ctyname\":\"Bucks County, Pennsylvania\"},{\"fipstxt\":42029,\"population_2020\":534413.0,\"rural_urban_continuum_code_2013\":1.0,\"census\":498886,\"estimatesbase\":499133,\"populationestimate_2010\":499925,\"populationestimate_2011\":503462,\"populationestimate_2012\":506089,\"populationestimate_2013\":509105,\"populationestimate_2014\":512770,\"populationestimate_2015\":515055,\"populationestimate_2016\":516767,\"populationestimate_2017\":518901,\"populationestimate_2018\":522086,\"populationestimate_2019\":524989,\"st\":42,\"cty\":29,\"ctyname\":\"Chester County, Pennsylvania\"},{\"fipstxt\":42041,\"population_2020\":259469.0,\"rural_urban_continuum_code_2013\":2.0,\"census\":235406,\"estimatesbase\":235387,\"populationestimate_2010\":235886,\"populationestimate_2011\":237107,\"populationestimate_2012\":239244,\"populationestimate_2013\":241059,\"populationestimate_2014\":243280,\"populationestimate_2015\":245744,\"populationestimate_2016\":247369,\"populationestimate_2017\":249024,\"populationestimate_2018\":251131,\"populationestimate_2019\":253370,\"st\":42,\"cty\":41,\"ctyname\":\"Cumberland County, Pennsylvania\"},{\"fipstxt\":42043,\"population_2020\":286401.0,\"rural_urban_continuum_code_2013\":2.0,\"census\":268100,\"estimatesbase\":268126,\"populationestimate_2010\":268281,\"populationestimate_2011\":269249,\"populationestimate_2012\":270005,\"populationestimate_2013\":271431,\"populationestimate_2014\":272223,\"populationestimate_2015\":273085,\"populationestimate_2016\":274196,\"populationestimate_2017\":275714,\"populationestimate_2018\":276864,\"populationestimate_2019\":278299,\"st\":42,\"cty\":43,\"ctyname\":\"Dauphin County, Pennsylvania\"},{\"fipstxt\":42045,\"population_2020\":576830.0,\"rural_urban_continuum_code_2013\":1.0,\"census\":558979,\"estimatesbase\":558757,\"populationestimate_2010\":558981,\"populationestimate_2011\":559275,\"populationestimate_2012\":560761,\"populationestimate_2013\":561499,\"populationestimate_2014\":562696,\"populationestimate_2015\":563225,\"populationestimate_2016\":563708,\"populationestimate_2017\":563858,\"populationestimate_2018\":565231,\"populationestimate_2019\":566747,\"st\":42,\"cty\":45,\"ctyname\":\"Delaware County, Pennsylvania\"},{\"fipstxt\":42049,\"population_2020\":270876.0,\"rural_urban_continuum_code_2013\":2.0,\"census\":280566,\"estimatesbase\":280584,\"populationestimate_2010\":280799,\"populationestimate_2011\":281327,\"populationestimate_2012\":281532,\"populationestimate_2013\":280717,\"populationestimate_2014\":279423,\"populationestimate_2015\":278174,\"populationestimate_2016\":276170,\"populationestimate_2017\":273558,\"populationestimate_2018\":271544,\"populationestimate_2019\":269728,\"st\":42,\"cty\":49,\"ctyname\":\"Erie County, Pennsylvania\"},{\"fipstxt\":42069,\"population_2020\":215896.0,\"rural_urban_continuum_code_2013\":2.0,\"census\":214437,\"estimatesbase\":214415,\"populationestimate_2010\":214501,\"populationestimate_2011\":214361,\"populationestimate_2012\":214176,\"populationestimate_2013\":213725,\"populationestimate_2014\":212829,\"populationestimate_2015\":211863,\"populationestimate_2016\":211004,\"populationestimate_2017\":210451,\"populationestimate_2018\":210269,\"populationestimate_2019\":209674,\"st\":42,\"cty\":69,\"ctyname\":\"Lackawanna County, Pennsylvania\"},{\"fipstxt\":42071,\"population_2020\":552984.0,\"rural_urban_continuum_code_2013\":2.0,\"census\":519445,\"estimatesbase\":519443,\"populationestimate_2010\":520319,\"populationestimate_2011\":523957,\"populationestimate_2012\":526878,\"populationestimate_2013\":530012,\"populationestimate_2014\":533289,\"populationestimate_2015\":535811,\"populationestimate_2016\":538160,\"populationestimate_2017\":541332,\"populationestimate_2018\":543969,\"populationestimate_2019\":545724,\"st\":42,\"cty\":71,\"ctyname\":\"Lancaster County, Pennsylvania\"},{\"fipstxt\":42077,\"population_2020\":374557.0,\"rural_urban_continuum_code_2013\":2.0,\"census\":349497,\"estimatesbase\":349675,\"populationestimate_2010\":350164,\"populationestimate_2011\":353436,\"populationestimate_2012\":354759,\"populationestimate_2013\":355341,\"populationestimate_2014\":357636,\"populationestimate_2015\":359710,\"populationestimate_2016\":362298,\"populationestimate_2017\":365577,\"populationestimate_2018\":368359,\"populationestimate_2019\":369318,\"st\":42,\"cty\":77,\"ctyname\":\"Lehigh County, Pennsylvania\"},{\"fipstxt\":42079,\"population_2020\":325594.0,\"rural_urban_continuum_code_2013\":2.0,\"census\":320918,\"estimatesbase\":320906,\"populationestimate_2010\":320998,\"populationestimate_2011\":321006,\"populationestimate_2012\":321147,\"populationestimate_2013\":319637,\"populationestimate_2014\":319150,\"populationestimate_2015\":318059,\"populationestimate_2016\":317172,\"populationestimate_2017\":317808,\"populationestimate_2018\":317859,\"populationestimate_2019\":317417,\"st\":42,\"cty\":79,\"ctyname\":\"Luzerne County, Pennsylvania\"},{\"fipstxt\":42091,\"population_2020\":856553.0,\"rural_urban_continuum_code_2013\":1.0,\"census\":799874,\"estimatesbase\":799840,\"populationestimate_2010\":800874,\"populationestimate_2011\":805281,\"populationestimate_2012\":808672,\"populationestimate_2013\":812586,\"populationestimate_2014\":815753,\"populationestimate_2015\":817180,\"populationestimate_2016\":819791,\"populationestimate_2017\":824303,\"populationestimate_2018\":826924,\"populationestimate_2019\":830915,\"st\":42,\"cty\":91,\"ctyname\":\"Montgomery County, Pennsylvania\"},{\"fipstxt\":42095,\"population_2020\":312951.0,\"rural_urban_continuum_code_2013\":2.0,\"census\":297735,\"estimatesbase\":297712,\"populationestimate_2010\":297935,\"populationestimate_2011\":298266,\"populationestimate_2012\":299022,\"populationestimate_2013\":298955,\"populationestimate_2014\":299598,\"populationestimate_2015\":300090,\"populationestimate_2016\":301307,\"populationestimate_2017\":302801,\"populationestimate_2018\":304564,\"populationestimate_2019\":305285,\"st\":42,\"cty\":95,\"ctyname\":\"Northampton County, Pennsylvania\"},{\"fipstxt\":42101,\"population_2020\":1603797.0,\"rural_urban_continuum_code_2013\":1.0,\"census\":1526006,\"estimatesbase\":1526012,\"populationestimate_2010\":1528283,\"populationestimate_2011\":1540466,\"populationestimate_2012\":1551824,\"populationestimate_2013\":1558313,\"populationestimate_2014\":1565460,\"populationestimate_2015\":1571065,\"populationestimate_2016\":1576051,\"populationestimate_2017\":1580601,\"populationestimate_2018\":1583592,\"populationestimate_2019\":1584064,\"st\":42,\"cty\":101,\"ctyname\":\"Philadelphia County, Pennsylvania\"},{\"fipstxt\":42125,\"population_2020\":209349.0,\"rural_urban_continuum_code_2013\":1.0,\"census\":207820,\"estimatesbase\":207849,\"populationestimate_2010\":207938,\"populationestimate_2011\":208059,\"populationestimate_2012\":208296,\"populationestimate_2013\":208046,\"populationestimate_2014\":207963,\"populationestimate_2015\":207718,\"populationestimate_2016\":207386,\"populationestimate_2017\":207075,\"populationestimate_2018\":207018,\"populationestimate_2019\":206865,\"st\":42,\"cty\":125,\"ctyname\":\"Washington County, Pennsylvania\"},{\"fipstxt\":42129,\"population_2020\":354663.0,\"rural_urban_continuum_code_2013\":1.0,\"census\":365169,\"estimatesbase\":365071,\"populationestimate_2010\":365028,\"populationestimate_2011\":364436,\"populationestimate_2012\":362787,\"populationestimate_2013\":360663,\"populationestimate_2014\":358866,\"populationestimate_2015\":356923,\"populationestimate_2016\":354665,\"populationestimate_2017\":352006,\"populationestimate_2018\":350459,\"populationestimate_2019\":348899,\"st\":42,\"cty\":129,\"ctyname\":\"Westmoreland County, Pennsylvania\"},{\"fipstxt\":42133,\"population_2020\":456438.0,\"rural_urban_continuum_code_2013\":2.0,\"census\":434972,\"estimatesbase\":435015,\"populationestimate_2010\":435413,\"populationestimate_2011\":436701,\"populationestimate_2012\":437466,\"populationestimate_2013\":438932,\"populationestimate_2014\":440475,\"populationestimate_2015\":441741,\"populationestimate_2016\":443693,\"populationestimate_2017\":445484,\"populationestimate_2018\":447847,\"populationestimate_2019\":449058,\"st\":42,\"cty\":133,\"ctyname\":\"York County, Pennsylvania\"},{\"fipstxt\":44007,\"population_2020\":660741.0,\"rural_urban_continuum_code_2013\":1.0,\"census\":626667,\"estimatesbase\":626781,\"populationestimate_2010\":627838,\"populationestimate_2011\":629393,\"populationestimate_2012\":631229,\"populationestimate_2013\":631584,\"populationestimate_2014\":632668,\"populationestimate_2015\":633747,\"populationestimate_2016\":634922,\"populationestimate_2017\":634130,\"populationestimate_2018\":636953,\"populationestimate_2019\":638931,\"st\":44,\"cty\":7,\"ctyname\":\"Providence County, Rhode Island\"},{\"fipstxt\":45007,\"population_2020\":203718.0,\"rural_urban_continuum_code_2013\":2.0,\"census\":187126,\"estimatesbase\":186922,\"populationestimate_2010\":187086,\"populationestimate_2011\":188160,\"populationestimate_2012\":188820,\"populationestimate_2013\":190005,\"populationestimate_2014\":191793,\"populationestimate_2015\":193700,\"populationestimate_2016\":195582,\"populationestimate_2017\":198186,\"populationestimate_2018\":200292,\"populationestimate_2019\":202558,\"st\":45,\"cty\":7,\"ctyname\":\"Anderson County, South Carolina\"},{\"fipstxt\":45015,\"population_2020\":229861.0,\"rural_urban_continuum_code_2013\":2.0,\"census\":177843,\"estimatesbase\":178373,\"populationestimate_2010\":179480,\"populationestimate_2011\":183778,\"populationestimate_2012\":189603,\"populationestimate_2013\":194031,\"populationestimate_2014\":198295,\"populationestimate_2015\":203066,\"populationestimate_2016\":208525,\"populationestimate_2017\":214541,\"populationestimate_2018\":221182,\"populationestimate_2019\":227907,\"st\":45,\"cty\":15,\"ctyname\":\"Berkeley County, South Carolina\"},{\"fipstxt\":45019,\"population_2020\":408235.0,\"rural_urban_continuum_code_2013\":2.0,\"census\":350209,\"estimatesbase\":350128,\"populationestimate_2010\":350940,\"populationestimate_2011\":357335,\"populationestimate_2012\":364628,\"populationestimate_2013\":371703,\"populationestimate_2014\":379793,\"populationestimate_2015\":389310,\"populationestimate_2016\":396880,\"populationestimate_2017\":402008,\"populationestimate_2018\":406222,\"populationestimate_2019\":411406,\"st\":45,\"cty\":19,\"ctyname\":\"Charleston County, South Carolina\"},{\"fipstxt\":45045,\"population_2020\":525534.0,\"rural_urban_continuum_code_2013\":2.0,\"census\":451225,\"estimatesbase\":451211,\"populationestimate_2010\":452697,\"populationestimate_2011\":458916,\"populationestimate_2012\":466062,\"populationestimate_2013\":473014,\"populationestimate_2014\":481485,\"populationestimate_2015\":490900,\"populationestimate_2016\":499122,\"populationestimate_2017\":506831,\"populationestimate_2018\":514621,\"populationestimate_2019\":523542,\"st\":45,\"cty\":45,\"ctyname\":\"Greenville County, South Carolina\"},{\"fipstxt\":45051,\"population_2020\":351029.0,\"rural_urban_continuum_code_2013\":2.0,\"census\":269291,\"estimatesbase\":269146,\"populationestimate_2010\":270274,\"populationestimate_2011\":275465,\"populationestimate_2012\":281286,\"populationestimate_2013\":288783,\"populationestimate_2014\":297760,\"populationestimate_2015\":308987,\"populationestimate_2016\":321033,\"populationestimate_2017\":332655,\"populationestimate_2018\":344105,\"populationestimate_2019\":354081,\"st\":45,\"cty\":51,\"ctyname\":\"Horry County, South Carolina\"},{\"fipstxt\":45063,\"population_2020\":293991.0,\"rural_urban_continuum_code_2013\":2.0,\"census\":262391,\"estimatesbase\":262453,\"populationestimate_2010\":263357,\"populationestimate_2011\":266362,\"populationestimate_2012\":269787,\"populationestimate_2013\":273248,\"populationestimate_2014\":277423,\"populationestimate_2015\":281675,\"populationestimate_2016\":286277,\"populationestimate_2017\":290338,\"populationestimate_2018\":294350,\"populationestimate_2019\":298750,\"st\":45,\"cty\":63,\"ctyname\":\"Lexington County, South Carolina\"},{\"fipstxt\":45079,\"population_2020\":416147.0,\"rural_urban_continuum_code_2013\":2.0,\"census\":384504,\"estimatesbase\":384425,\"populationestimate_2010\":385735,\"populationestimate_2011\":389233,\"populationestimate_2012\":393029,\"populationestimate_2013\":396757,\"populationestimate_2014\":400335,\"populationestimate_2015\":406008,\"populationestimate_2016\":409014,\"populationestimate_2017\":411800,\"populationestimate_2018\":414202,\"populationestimate_2019\":415759,\"st\":45,\"cty\":79,\"ctyname\":\"Richland County, South Carolina\"},{\"fipstxt\":45083,\"population_2020\":327997.0,\"rural_urban_continuum_code_2013\":2.0,\"census\":284307,\"estimatesbase\":284304,\"populationestimate_2010\":284731,\"populationestimate_2011\":286102,\"populationestimate_2012\":288176,\"populationestimate_2013\":290414,\"populationestimate_2014\":292981,\"populationestimate_2015\":296558,\"populationestimate_2016\":300867,\"populationestimate_2017\":306740,\"populationestimate_2018\":314137,\"populationestimate_2019\":319785,\"st\":45,\"cty\":83,\"ctyname\":\"Spartanburg County, South Carolina\"},{\"fipstxt\":45091,\"population_2020\":282090.0,\"rural_urban_continuum_code_2013\":1.0,\"census\":226073,\"estimatesbase\":226037,\"populationestimate_2010\":226865,\"populationestimate_2011\":230074,\"populationestimate_2012\":234059,\"populationestimate_2013\":238605,\"populationestimate_2014\":244481,\"populationestimate_2015\":250566,\"populationestimate_2016\":257866,\"populationestimate_2017\":266165,\"populationestimate_2018\":273782,\"populationestimate_2019\":280979,\"st\":45,\"cty\":91,\"ctyname\":\"York County, South Carolina\"},{\"fipstxt\":47037,\"population_2020\":715884.0,\"rural_urban_continuum_code_2013\":1.0,\"census\":626681,\"estimatesbase\":626558,\"populationestimate_2010\":627746,\"populationestimate_2011\":635918,\"populationestimate_2012\":649344,\"populationestimate_2013\":660179,\"populationestimate_2014\":669611,\"populationestimate_2015\":679793,\"populationestimate_2016\":685829,\"populationestimate_2017\":687159,\"populationestimate_2018\":690516,\"populationestimate_2019\":694144,\"st\":47,\"cty\":37,\"ctyname\":\"Davidson County, Tennessee\"},{\"fipstxt\":47065,\"population_2020\":366207.0,\"rural_urban_continuum_code_2013\":2.0,\"census\":336463,\"estimatesbase\":336477,\"populationestimate_2010\":337214,\"populationestimate_2011\":341094,\"populationestimate_2012\":345693,\"populationestimate_2013\":349050,\"populationestimate_2014\":350729,\"populationestimate_2015\":353690,\"populationestimate_2016\":357778,\"populationestimate_2017\":361032,\"populationestimate_2018\":364293,\"populationestimate_2019\":367804,\"st\":47,\"cty\":65,\"ctyname\":\"Hamilton County, Tennessee\"},{\"fipstxt\":47093,\"population_2020\":478971.0,\"rural_urban_continuum_code_2013\":2.0,\"census\":432226,\"estimatesbase\":432260,\"populationestimate_2010\":432938,\"populationestimate_2011\":436776,\"populationestimate_2012\":440791,\"populationestimate_2013\":444314,\"populationestimate_2014\":447903,\"populationestimate_2015\":451297,\"populationestimate_2016\":456089,\"populationestimate_2017\":461565,\"populationestimate_2018\":466258,\"populationestimate_2019\":470313,\"st\":47,\"cty\":93,\"ctyname\":\"Knox County, Tennessee\"},{\"fipstxt\":47125,\"population_2020\":220069.0,\"rural_urban_continuum_code_2013\":2.0,\"census\":172331,\"estimatesbase\":172362,\"populationestimate_2010\":173159,\"populationestimate_2011\":176504,\"populationestimate_2012\":184782,\"populationestimate_2013\":184252,\"populationestimate_2014\":189005,\"populationestimate_2015\":192398,\"populationestimate_2016\":194424,\"populationestimate_2017\":199771,\"populationestimate_2018\":205312,\"populationestimate_2019\":208993,\"st\":47,\"cty\":125,\"ctyname\":\"Montgomery County, Tennessee\"},{\"fipstxt\":47149,\"population_2020\":341486.0,\"rural_urban_continuum_code_2013\":1.0,\"census\":262604,\"estimatesbase\":262588,\"populationestimate_2010\":263708,\"populationestimate_2011\":269160,\"populationestimate_2012\":274397,\"populationestimate_2013\":281148,\"populationestimate_2014\":288848,\"populationestimate_2015\":298197,\"populationestimate_2016\":307415,\"populationestimate_2017\":316531,\"populationestimate_2018\":324647,\"populationestimate_2019\":332285,\"st\":47,\"cty\":149,\"ctyname\":\"Rutherford County, Tennessee\"},{\"fipstxt\":47157,\"population_2020\":929744.0,\"rural_urban_continuum_code_2013\":1.0,\"census\":927644,\"estimatesbase\":927682,\"populationestimate_2010\":928447,\"populationestimate_2011\":933186,\"populationestimate_2012\":939168,\"populationestimate_2013\":938363,\"populationestimate_2014\":937500,\"populationestimate_2015\":937067,\"populationestimate_2016\":936021,\"populationestimate_2017\":935251,\"populationestimate_2018\":936365,\"populationestimate_2019\":937166,\"st\":47,\"cty\":157,\"ctyname\":\"Shelby County, Tennessee\"},{\"fipstxt\":47187,\"population_2020\":247726.0,\"rural_urban_continuum_code_2013\":1.0,\"census\":183182,\"estimatesbase\":183277,\"populationestimate_2010\":184143,\"populationestimate_2011\":188501,\"populationestimate_2012\":193211,\"populationestimate_2013\":199143,\"populationestimate_2014\":205334,\"populationestimate_2015\":211605,\"populationestimate_2016\":218903,\"populationestimate_2017\":226048,\"populationestimate_2018\":231978,\"populationestimate_2019\":238412,\"st\":47,\"cty\":187,\"ctyname\":\"Williamson County, Tennessee\"},{\"fipstxt\":48027,\"population_2020\":370647.0,\"rural_urban_continuum_code_2013\":2.0,\"census\":310235,\"estimatesbase\":310159,\"populationestimate_2010\":312849,\"populationestimate_2011\":315799,\"populationestimate_2012\":324963,\"populationestimate_2013\":327028,\"populationestimate_2014\":330149,\"populationestimate_2015\":336076,\"populationestimate_2016\":341094,\"populationestimate_2017\":347377,\"populationestimate_2018\":355397,\"populationestimate_2019\":362924,\"st\":48,\"cty\":27,\"ctyname\":\"Bell County, Texas\"},{\"fipstxt\":48029,\"population_2020\":2009324.0,\"rural_urban_continuum_code_2013\":1.0,\"census\":1714773,\"estimatesbase\":1714781,\"populationestimate_2010\":1722838,\"populationestimate_2011\":1755361,\"populationestimate_2012\":1788738,\"populationestimate_2013\":1821328,\"populationestimate_2014\":1858003,\"populationestimate_2015\":1894834,\"populationestimate_2016\":1927651,\"populationestimate_2017\":1956988,\"populationestimate_2018\":1981187,\"populationestimate_2019\":2003554,\"st\":48,\"cty\":29,\"ctyname\":\"Bexar County, Texas\"},{\"fipstxt\":48039,\"population_2020\":372031.0,\"rural_urban_continuum_code_2013\":1.0,\"census\":313166,\"estimatesbase\":313117,\"populationestimate_2010\":314428,\"populationestimate_2011\":319147,\"populationestimate_2012\":324224,\"populationestimate_2013\":329890,\"populationestimate_2014\":337570,\"populationestimate_2015\":345227,\"populationestimate_2016\":353155,\"populationestimate_2017\":361853,\"populationestimate_2018\":368887,\"populationestimate_2019\":374264,\"st\":48,\"cty\":39,\"ctyname\":\"Brazoria County, Texas\"},{\"fipstxt\":48041,\"population_2020\":233849.0,\"rural_urban_continuum_code_2013\":3.0,\"census\":194851,\"estimatesbase\":194861,\"populationestimate_2010\":195666,\"populationestimate_2011\":197450,\"populationestimate_2012\":200260,\"populationestimate_2013\":204116,\"populationestimate_2014\":208975,\"populationestimate_2015\":216258,\"populationestimate_2016\":219739,\"populationestimate_2017\":223917,\"populationestimate_2018\":225781,\"populationestimate_2019\":229211,\"st\":48,\"cty\":41,\"ctyname\":\"Brazos County, Texas\"},{\"fipstxt\":48061,\"population_2020\":421017.0,\"rural_urban_continuum_code_2013\":2.0,\"census\":406220,\"estimatesbase\":406215,\"populationestimate_2010\":407630,\"populationestimate_2011\":413201,\"populationestimate_2012\":415877,\"populationestimate_2013\":417357,\"populationestimate_2014\":419005,\"populationestimate_2015\":419450,\"populationestimate_2016\":421350,\"populationestimate_2017\":422227,\"populationestimate_2018\":422139,\"populationestimate_2019\":423163,\"st\":48,\"cty\":61,\"ctyname\":\"Cameron County, Texas\"},{\"fipstxt\":48085,\"population_2020\":1064465.0,\"rural_urban_continuum_code_2013\":1.0,\"census\":782341,\"estimatesbase\":781419,\"populationestimate_2010\":787614,\"populationestimate_2011\":812540,\"populationestimate_2012\":835230,\"populationestimate_2013\":856398,\"populationestimate_2014\":884688,\"populationestimate_2015\":915243,\"populationestimate_2016\":943742,\"populationestimate_2017\":971864,\"populationestimate_2018\":1004307,\"populationestimate_2019\":1034730,\"st\":48,\"cty\":85,\"ctyname\":\"Collin County, Texas\"},{\"fipstxt\":48113,\"population_2020\":2613539.0,\"rural_urban_continuum_code_2013\":1.0,\"census\":2368139,\"estimatesbase\":2367430,\"populationestimate_2010\":2372993,\"populationestimate_2011\":2408697,\"populationestimate_2012\":2455930,\"populationestimate_2013\":2484486,\"populationestimate_2014\":2519410,\"populationestimate_2015\":2557830,\"populationestimate_2016\":2591488,\"populationestimate_2017\":2620154,\"populationestimate_2018\":2629350,\"populationestimate_2019\":2635516,\"st\":48,\"cty\":113,\"ctyname\":\"Dallas County, Texas\"},{\"fipstxt\":48121,\"population_2020\":906422.0,\"rural_urban_continuum_code_2013\":1.0,\"census\":662614,\"estimatesbase\":662557,\"populationestimate_2010\":666760,\"populationestimate_2011\":685740,\"populationestimate_2012\":707892,\"populationestimate_2013\":728624,\"populationestimate_2014\":753188,\"populationestimate_2015\":779584,\"populationestimate_2016\":808212,\"populationestimate_2017\":835364,\"populationestimate_2018\":858741,\"populationestimate_2019\":887207,\"st\":48,\"cty\":121,\"ctyname\":\"Denton County, Texas\"},{\"fipstxt\":48141,\"population_2020\":865657.0,\"rural_urban_continuum_code_2013\":2.0,\"census\":800647,\"estimatesbase\":800633,\"populationestimate_2010\":803576,\"populationestimate_2011\":819896,\"populationestimate_2012\":832310,\"populationestimate_2013\":830864,\"populationestimate_2014\":833783,\"populationestimate_2015\":831898,\"populationestimate_2016\":834949,\"populationestimate_2017\":837401,\"populationestimate_2018\":836825,\"populationestimate_2019\":839238,\"st\":48,\"cty\":141,\"ctyname\":\"El Paso County, Texas\"},{\"fipstxt\":48157,\"population_2020\":822779.0,\"rural_urban_continuum_code_2013\":1.0,\"census\":585375,\"estimatesbase\":584699,\"populationestimate_2010\":590253,\"populationestimate_2011\":606064,\"populationestimate_2012\":624824,\"populationestimate_2013\":651847,\"populationestimate_2014\":684048,\"populationestimate_2015\":715331,\"populationestimate_2016\":744160,\"populationestimate_2017\":767712,\"populationestimate_2018\":788081,\"populationestimate_2019\":811688,\"st\":48,\"cty\":157,\"ctyname\":\"Fort Bend County, Texas\"},{\"fipstxt\":48167,\"population_2020\":350682.0,\"rural_urban_continuum_code_2013\":1.0,\"census\":291309,\"estimatesbase\":291312,\"populationestimate_2010\":292484,\"populationestimate_2011\":295605,\"populationestimate_2012\":301049,\"populationestimate_2013\":306589,\"populationestimate_2014\":313367,\"populationestimate_2015\":320974,\"populationestimate_2016\":328820,\"populationestimate_2017\":334633,\"populationestimate_2018\":337858,\"populationestimate_2019\":342139,\"st\":48,\"cty\":167,\"ctyname\":\"Galveston County, Texas\"},{\"fipstxt\":48201,\"population_2020\":4731145.0,\"rural_urban_continuum_code_2013\":1.0,\"census\":4092459,\"estimatesbase\":4093176,\"populationestimate_2010\":4107666,\"populationestimate_2011\":4179568,\"populationestimate_2012\":4263094,\"populationestimate_2013\":4353187,\"populationestimate_2014\":4455994,\"populationestimate_2015\":4557846,\"populationestimate_2016\":4623960,\"populationestimate_2017\":4657972,\"populationestimate_2018\":4680045,\"populationestimate_2019\":4713325,\"st\":48,\"cty\":201,\"ctyname\":\"Harris County, Texas\"},{\"fipstxt\":48209,\"population_2020\":241067.0,\"rural_urban_continuum_code_2013\":1.0,\"census\":157107,\"estimatesbase\":157103,\"populationestimate_2010\":158214,\"populationestimate_2011\":163270,\"populationestimate_2012\":168519,\"populationestimate_2013\":176035,\"populationestimate_2014\":184854,\"populationestimate_2015\":194662,\"populationestimate_2016\":204546,\"populationestimate_2017\":214726,\"populationestimate_2018\":222706,\"populationestimate_2019\":230191,\"st\":48,\"cty\":209,\"ctyname\":\"Hays County, Texas\"},{\"fipstxt\":48215,\"population_2020\":870781.0,\"rural_urban_continuum_code_2013\":2.0,\"census\":774769,\"estimatesbase\":774764,\"populationestimate_2010\":779149,\"populationestimate_2011\":795517,\"populationestimate_2012\":808334,\"populationestimate_2013\":818619,\"populationestimate_2014\":829819,\"populationestimate_2015\":839667,\"populationestimate_2016\":848960,\"populationestimate_2017\":856249,\"populationestimate_2018\":862298,\"populationestimate_2019\":868707,\"st\":48,\"cty\":215,\"ctyname\":\"Hidalgo County, Texas\"},{\"fipstxt\":48245,\"population_2020\":256526.0,\"rural_urban_continuum_code_2013\":2.0,\"census\":252273,\"estimatesbase\":252277,\"populationestimate_2010\":252455,\"populationestimate_2011\":253494,\"populationestimate_2012\":251605,\"populationestimate_2013\":253079,\"populationestimate_2014\":252897,\"populationestimate_2015\":255112,\"populationestimate_2016\":255748,\"populationestimate_2017\":256041,\"populationestimate_2018\":253234,\"populationestimate_2019\":251565,\"st\":48,\"cty\":245,\"ctyname\":\"Jefferson County, Texas\"},{\"fipstxt\":48303,\"population_2020\":310639.0,\"rural_urban_continuum_code_2013\":2.0,\"census\":278831,\"estimatesbase\":278918,\"populationestimate_2010\":280301,\"populationestimate_2011\":283408,\"populationestimate_2012\":285961,\"populationestimate_2013\":289515,\"populationestimate_2014\":294433,\"populationestimate_2015\":298337,\"populationestimate_2016\":302094,\"populationestimate_2017\":305413,\"populationestimate_2018\":307627,\"populationestimate_2019\":310569,\"st\":48,\"cty\":303,\"ctyname\":\"Lubbock County, Texas\"},{\"fipstxt\":48309,\"population_2020\":260579.0,\"rural_urban_continuum_code_2013\":2.0,\"census\":234906,\"estimatesbase\":234903,\"populationestimate_2010\":235917,\"populationestimate_2011\":237852,\"populationestimate_2012\":239368,\"populationestimate_2013\":241443,\"populationestimate_2014\":243166,\"populationestimate_2015\":245444,\"populationestimate_2016\":247553,\"populationestimate_2017\":251631,\"populationestimate_2018\":254196,\"populationestimate_2019\":256623,\"st\":48,\"cty\":309,\"ctyname\":\"McLennan County, Texas\"},{\"fipstxt\":48339,\"population_2020\":620443.0,\"rural_urban_continuum_code_2013\":1.0,\"census\":455746,\"estimatesbase\":455747,\"populationestimate_2010\":459208,\"populationestimate_2011\":471415,\"populationestimate_2012\":484565,\"populationestimate_2013\":498392,\"populationestimate_2014\":517146,\"populationestimate_2015\":535753,\"populationestimate_2016\":555216,\"populationestimate_2017\":571615,\"populationestimate_2018\":589770,\"populationestimate_2019\":607391,\"st\":48,\"cty\":339,\"ctyname\":\"Montgomery County, Texas\"},{\"fipstxt\":48355,\"population_2020\":353178.0,\"rural_urban_continuum_code_2013\":2.0,\"census\":340223,\"estimatesbase\":340223,\"populationestimate_2010\":340245,\"populationestimate_2011\":343263,\"populationestimate_2012\":347939,\"populationestimate_2013\":352946,\"populationestimate_2014\":356657,\"populationestimate_2015\":360504,\"populationestimate_2016\":361642,\"populationestimate_2017\":361235,\"populationestimate_2018\":362026,\"populationestimate_2019\":362294,\"st\":48,\"cty\":355,\"ctyname\":\"Nueces County, Texas\"},{\"fipstxt\":48423,\"population_2020\":233479.0,\"rural_urban_continuum_code_2013\":3.0,\"census\":209714,\"estimatesbase\":209725,\"populationestimate_2010\":210408,\"populationestimate_2011\":212764,\"populationestimate_2012\":214811,\"populationestimate_2013\":216475,\"populationestimate_2014\":219642,\"populationestimate_2015\":222390,\"populationestimate_2016\":225161,\"populationestimate_2017\":227195,\"populationestimate_2018\":229749,\"populationestimate_2019\":232751,\"st\":48,\"cty\":423,\"ctyname\":\"Smith County, Texas\"},{\"fipstxt\":48439,\"population_2020\":2110640.0,\"rural_urban_continuum_code_2013\":1.0,\"census\":1809034,\"estimatesbase\":1810664,\"populationestimate_2010\":1817480,\"populationestimate_2011\":1847882,\"populationestimate_2012\":1882205,\"populationestimate_2013\":1912767,\"populationestimate_2014\":1946122,\"populationestimate_2015\":1984880,\"populationestimate_2016\":2023556,\"populationestimate_2017\":2056451,\"populationestimate_2018\":2081446,\"populationestimate_2019\":2102515,\"st\":48,\"cty\":439,\"ctyname\":\"Tarrant County, Texas\"},{\"fipstxt\":48453,\"population_2020\":1290188.0,\"rural_urban_continuum_code_2013\":1.0,\"census\":1024266,\"estimatesbase\":1024444,\"populationestimate_2010\":1030503,\"populationestimate_2011\":1061709,\"populationestimate_2012\":1096886,\"populationestimate_2013\":1122248,\"populationestimate_2014\":1152260,\"populationestimate_2015\":1179805,\"populationestimate_2016\":1206110,\"populationestimate_2017\":1227585,\"populationestimate_2018\":1246572,\"populationestimate_2019\":1273954,\"st\":48,\"cty\":453,\"ctyname\":\"Travis County, Texas\"},{\"fipstxt\":48479,\"population_2020\":267114.0,\"rural_urban_continuum_code_2013\":2.0,\"census\":250304,\"estimatesbase\":250304,\"populationestimate_2010\":251370,\"populationestimate_2011\":255935,\"populationestimate_2012\":260595,\"populationestimate_2013\":264430,\"populationestimate_2014\":267465,\"populationestimate_2015\":269865,\"populationestimate_2016\":272301,\"populationestimate_2017\":273691,\"populationestimate_2018\":275120,\"populationestimate_2019\":276652,\"st\":48,\"cty\":479,\"ctyname\":\"Webb County, Texas\"},{\"fipstxt\":48491,\"population_2020\":609017.0,\"rural_urban_continuum_code_2013\":1.0,\"census\":422679,\"estimatesbase\":422504,\"populationestimate_2010\":426287,\"populationestimate_2011\":442031,\"populationestimate_2012\":455750,\"populationestimate_2013\":470017,\"populationestimate_2014\":487913,\"populationestimate_2015\":507133,\"populationestimate_2016\":527622,\"populationestimate_2017\":546251,\"populationestimate_2018\":566463,\"populationestimate_2019\":590551,\"st\":48,\"cty\":491,\"ctyname\":\"Williamson County, Texas\"},{\"fipstxt\":49011,\"population_2020\":362679.0,\"rural_urban_continuum_code_2013\":2.0,\"census\":306479,\"estimatesbase\":306492,\"populationestimate_2010\":307910,\"populationestimate_2011\":311852,\"populationestimate_2012\":315926,\"populationestimate_2013\":322228,\"populationestimate_2014\":328714,\"populationestimate_2015\":334597,\"populationestimate_2016\":341000,\"populationestimate_2017\":346658,\"populationestimate_2018\":351101,\"populationestimate_2019\":355481,\"st\":49,\"cty\":11,\"ctyname\":\"Davis County, Utah\"},{\"fipstxt\":49035,\"population_2020\":1185238.0,\"rural_urban_continuum_code_2013\":1.0,\"census\":1029655,\"estimatesbase\":1029590,\"populationestimate_2010\":1032976,\"populationestimate_2011\":1047610,\"populationestimate_2012\":1063956,\"populationestimate_2013\":1079392,\"populationestimate_2014\":1090005,\"populationestimate_2015\":1102273,\"populationestimate_2016\":1120109,\"populationestimate_2017\":1136719,\"populationestimate_2018\":1148692,\"populationestimate_2019\":1160437,\"st\":49,\"cty\":35,\"ctyname\":\"Salt Lake County, Utah\"},{\"fipstxt\":49049,\"population_2020\":659399.0,\"rural_urban_continuum_code_2013\":2.0,\"census\":516564,\"estimatesbase\":516639,\"populationestimate_2010\":519998,\"populationestimate_2011\":530688,\"populationestimate_2012\":539685,\"populationestimate_2013\":551273,\"populationestimate_2014\":560649,\"populationestimate_2015\":572667,\"populationestimate_2016\":590288,\"populationestimate_2017\":606742,\"populationestimate_2018\":621520,\"populationestimate_2019\":636235,\"st\":49,\"cty\":49,\"ctyname\":\"Utah County, Utah\"},{\"fipstxt\":49057,\"population_2020\":262223.0,\"rural_urban_continuum_code_2013\":2.0,\"census\":231236,\"estimatesbase\":231218,\"populationestimate_2010\":232133,\"populationestimate_2011\":233847,\"populationestimate_2012\":236251,\"populationestimate_2013\":238062,\"populationestimate_2014\":240152,\"populationestimate_2015\":242872,\"populationestimate_2016\":247131,\"populationestimate_2017\":251576,\"populationestimate_2018\":255697,\"populationestimate_2019\":260213,\"st\":49,\"cty\":57,\"ctyname\":\"Weber County, Utah\"},{\"fipstxt\":51013,\"population_2020\":238643.0,\"rural_urban_continuum_code_2013\":1.0,\"census\":207627,\"estimatesbase\":207696,\"populationestimate_2010\":209295,\"populationestimate_2011\":215990,\"populationestimate_2012\":221454,\"populationestimate_2013\":224894,\"populationestimate_2014\":225980,\"populationestimate_2015\":228548,\"populationestimate_2016\":231259,\"populationestimate_2017\":234647,\"populationestimate_2018\":236025,\"populationestimate_2019\":236842,\"st\":51,\"cty\":13,\"ctyname\":\"Arlington County, Virginia\"},{\"fipstxt\":51041,\"population_2020\":364548.0,\"rural_urban_continuum_code_2013\":1.0,\"census\":316236,\"estimatesbase\":316240,\"populationestimate_2010\":317198,\"populationestimate_2011\":320307,\"populationestimate_2012\":323880,\"populationestimate_2013\":327612,\"populationestimate_2014\":332093,\"populationestimate_2015\":334915,\"populationestimate_2016\":338479,\"populationestimate_2017\":343276,\"populationestimate_2018\":348281,\"populationestimate_2019\":352802,\"st\":51,\"cty\":41,\"ctyname\":\"Chesterfield County, Virginia\"},{\"fipstxt\":51059,\"population_2020\":1150309.0,\"rural_urban_continuum_code_2013\":1.0,\"census\":1081726,\"estimatesbase\":1081703,\"populationestimate_2010\":1086155,\"populationestimate_2011\":1103439,\"populationestimate_2012\":1120395,\"populationestimate_2013\":1131784,\"populationestimate_2014\":1136271,\"populationestimate_2015\":1140401,\"populationestimate_2016\":1144188,\"populationestimate_2017\":1148728,\"populationestimate_2018\":1148463,\"populationestimate_2019\":1147532,\"st\":51,\"cty\":59,\"ctyname\":\"Fairfax County, Virginia\"},{\"fipstxt\":51087,\"population_2020\":334389.0,\"rural_urban_continuum_code_2013\":1.0,\"census\":306935,\"estimatesbase\":306756,\"populationestimate_2010\":307253,\"populationestimate_2011\":310430,\"populationestimate_2012\":315587,\"populationestimate_2013\":318640,\"populationestimate_2014\":321835,\"populationestimate_2015\":324375,\"populationestimate_2016\":325931,\"populationestimate_2017\":327559,\"populationestimate_2018\":328993,\"populationestimate_2019\":330818,\"st\":51,\"cty\":87,\"ctyname\":\"Henrico County, Virginia\"},{\"fipstxt\":51107,\"population_2020\":420959.0,\"rural_urban_continuum_code_2013\":1.0,\"census\":312311,\"estimatesbase\":312348,\"populationestimate_2010\":315478,\"populationestimate_2011\":326327,\"populationestimate_2012\":337847,\"populationestimate_2013\":349915,\"populationestimate_2014\":362206,\"populationestimate_2015\":374014,\"populationestimate_2016\":385546,\"populationestimate_2017\":397049,\"populationestimate_2018\":405522,\"populationestimate_2019\":413538,\"st\":51,\"cty\":107,\"ctyname\":\"Loudoun County, Virginia\"},{\"fipstxt\":51153,\"population_2020\":482204.0,\"rural_urban_continuum_code_2013\":1.0,\"census\":402002,\"estimatesbase\":402009,\"populationestimate_2010\":406169,\"populationestimate_2011\":419094,\"populationestimate_2012\":429616,\"populationestimate_2013\":437735,\"populationestimate_2014\":443782,\"populationestimate_2015\":450978,\"populationestimate_2016\":456496,\"populationestimate_2017\":463069,\"populationestimate_2018\":466235,\"populationestimate_2019\":470335,\"st\":51,\"cty\":153,\"ctyname\":\"Prince William County, Virginia\"},{\"fipstxt\":51550,\"population_2020\":249422.0,\"rural_urban_continuum_code_2013\":1.0,\"census\":222209,\"estimatesbase\":222311,\"populationestimate_2010\":223556,\"populationestimate_2011\":225361,\"populationestimate_2012\":228091,\"populationestimate_2013\":230327,\"populationestimate_2014\":233360,\"populationestimate_2015\":235111,\"populationestimate_2016\":237464,\"populationestimate_2017\":240143,\"populationestimate_2018\":242359,\"populationestimate_2019\":244835,\"st\":51,\"cty\":550,\"ctyname\":\"Chesapeake city, Virginia\"},{\"fipstxt\":51710,\"population_2020\":238005.0,\"rural_urban_continuum_code_2013\":1.0,\"census\":242803,\"estimatesbase\":242827,\"populationestimate_2010\":242999,\"populationestimate_2011\":243655,\"populationestimate_2012\":246149,\"populationestimate_2013\":245468,\"populationestimate_2014\":246576,\"populationestimate_2015\":246457,\"populationestimate_2016\":245680,\"populationestimate_2017\":244543,\"populationestimate_2018\":243585,\"populationestimate_2019\":242742,\"st\":51,\"cty\":710,\"ctyname\":\"Norfolk city, Virginia\"},{\"fipstxt\":51760,\"population_2020\":226610.0,\"rural_urban_continuum_code_2013\":1.0,\"census\":204214,\"estimatesbase\":204375,\"populationestimate_2010\":204302,\"populationestimate_2011\":206391,\"populationestimate_2012\":210794,\"populationestimate_2013\":213860,\"populationestimate_2014\":217044,\"populationestimate_2015\":220856,\"populationestimate_2016\":225369,\"populationestimate_2017\":227230,\"populationestimate_2018\":229221,\"populationestimate_2019\":230436,\"st\":51,\"cty\":760,\"ctyname\":\"Richmond city, Virginia\"},{\"fipstxt\":51810,\"population_2020\":459470.0,\"rural_urban_continuum_code_2013\":1.0,\"census\":437994,\"estimatesbase\":437903,\"populationestimate_2010\":438859,\"populationestimate_2011\":442583,\"populationestimate_2012\":445044,\"populationestimate_2013\":447706,\"populationestimate_2014\":448864,\"populationestimate_2015\":450304,\"populationestimate_2016\":450983,\"populationestimate_2017\":449896,\"populationestimate_2018\":449849,\"populationestimate_2019\":449974,\"st\":51,\"cty\":810,\"ctyname\":\"Virginia Beach city, Virginia\"},{\"fipstxt\":53005,\"population_2020\":206873.0,\"rural_urban_continuum_code_2013\":2.0,\"census\":175177,\"estimatesbase\":175168,\"populationestimate_2010\":176465,\"populationestimate_2011\":180436,\"populationestimate_2012\":182373,\"populationestimate_2013\":184318,\"populationestimate_2014\":186489,\"populationestimate_2015\":190218,\"populationestimate_2016\":193494,\"populationestimate_2017\":198200,\"populationestimate_2018\":201286,\"populationestimate_2019\":204390,\"st\":53,\"cty\":5,\"ctyname\":\"Benton County, Washington\"},{\"fipstxt\":53011,\"population_2020\":503311.0,\"rural_urban_continuum_code_2013\":1.0,\"census\":425363,\"estimatesbase\":425360,\"populationestimate_2010\":426704,\"populationestimate_2011\":432283,\"populationestimate_2012\":436361,\"populationestimate_2013\":441341,\"populationestimate_2014\":448202,\"populationestimate_2015\":456939,\"populationestimate_2016\":465272,\"populationestimate_2017\":474381,\"populationestimate_2018\":481427,\"populationestimate_2019\":488241,\"st\":53,\"cty\":11,\"ctyname\":\"Clark County, Washington\"},{\"fipstxt\":53033,\"population_2020\":2269675.0,\"rural_urban_continuum_code_2013\":1.0,\"census\":1931249,\"estimatesbase\":1931287,\"populationestimate_2010\":1938351,\"populationestimate_2011\":1974200,\"populationestimate_2012\":2011197,\"populationestimate_2013\":2047223,\"populationestimate_2014\":2085225,\"populationestimate_2015\":2126178,\"populationestimate_2016\":2166350,\"populationestimate_2017\":2203836,\"populationestimate_2018\":2228364,\"populationestimate_2019\":2252782,\"st\":53,\"cty\":33,\"ctyname\":\"King County, Washington\"},{\"fipstxt\":53035,\"population_2020\":275611.0,\"rural_urban_continuum_code_2013\":2.0,\"census\":251133,\"estimatesbase\":251143,\"populationestimate_2010\":251681,\"populationestimate_2011\":254297,\"populationestimate_2012\":254339,\"populationestimate_2013\":252401,\"populationestimate_2014\":253387,\"populationestimate_2015\":259232,\"populationestimate_2016\":263142,\"populationestimate_2017\":266289,\"populationestimate_2018\":269276,\"populationestimate_2019\":271473,\"st\":53,\"cty\":35,\"ctyname\":\"Kitsap County, Washington\"},{\"fipstxt\":53053,\"population_2020\":921130.0,\"rural_urban_continuum_code_2013\":1.0,\"census\":795225,\"estimatesbase\":795222,\"populationestimate_2010\":795390,\"populationestimate_2011\":807623,\"populationestimate_2012\":815535,\"populationestimate_2013\":821012,\"populationestimate_2014\":832696,\"populationestimate_2015\":843778,\"populationestimate_2016\":862895,\"populationestimate_2017\":879654,\"populationestimate_2018\":893756,\"populationestimate_2019\":904980,\"st\":53,\"cty\":53,\"ctyname\":\"Pierce County, Washington\"},{\"fipstxt\":53061,\"population_2020\":827957.0,\"rural_urban_continuum_code_2013\":1.0,\"census\":713335,\"estimatesbase\":713299,\"populationestimate_2010\":715500,\"populationestimate_2011\":722068,\"populationestimate_2012\":732097,\"populationestimate_2013\":744112,\"populationestimate_2014\":757239,\"populationestimate_2015\":769698,\"populationestimate_2016\":787110,\"populationestimate_2017\":802089,\"populationestimate_2018\":813059,\"populationestimate_2019\":822083,\"st\":53,\"cty\":61,\"ctyname\":\"Snohomish County, Washington\"},{\"fipstxt\":53063,\"population_2020\":539339.0,\"rural_urban_continuum_code_2013\":2.0,\"census\":471221,\"estimatesbase\":471220,\"populationestimate_2010\":472081,\"populationestimate_2011\":473436,\"populationestimate_2012\":475447,\"populationestimate_2013\":478332,\"populationestimate_2014\":482857,\"populationestimate_2015\":488610,\"populationestimate_2016\":496889,\"populationestimate_2017\":505623,\"populationestimate_2018\":513603,\"populationestimate_2019\":522798,\"st\":53,\"cty\":63,\"ctyname\":\"Spokane County, Washington\"},{\"fipstxt\":53067,\"population_2020\":294793.0,\"rural_urban_continuum_code_2013\":2.0,\"census\":252264,\"estimatesbase\":252260,\"populationestimate_2010\":253001,\"populationestimate_2011\":256386,\"populationestimate_2012\":258527,\"populationestimate_2013\":261852,\"populationestimate_2014\":264909,\"populationestimate_2015\":267978,\"populationestimate_2016\":273714,\"populationestimate_2017\":280269,\"populationestimate_2018\":286056,\"populationestimate_2019\":290536,\"st\":53,\"cty\":67,\"ctyname\":\"Thurston County, Washington\"},{\"fipstxt\":53073,\"population_2020\":226847.0,\"rural_urban_continuum_code_2013\":3.0,\"census\":201140,\"estimatesbase\":201146,\"populationestimate_2010\":201545,\"populationestimate_2011\":203490,\"populationestimate_2012\":204863,\"populationestimate_2013\":206073,\"populationestimate_2014\":208154,\"populationestimate_2015\":211836,\"populationestimate_2016\":216417,\"populationestimate_2017\":221410,\"populationestimate_2018\":225197,\"populationestimate_2019\":229247,\"st\":53,\"cty\":73,\"ctyname\":\"Whatcom County, Washington\"},{\"fipstxt\":53077,\"population_2020\":256728.0,\"rural_urban_continuum_code_2013\":3.0,\"census\":243231,\"estimatesbase\":243240,\"populationestimate_2010\":244256,\"populationestimate_2011\":245926,\"populationestimate_2012\":246127,\"populationestimate_2013\":246485,\"populationestimate_2014\":246870,\"populationestimate_2015\":247800,\"populationestimate_2016\":249327,\"populationestimate_2017\":249922,\"populationestimate_2018\":250562,\"populationestimate_2019\":250873,\"st\":53,\"cty\":77,\"ctyname\":\"Yakima County, Washington\"},{\"fipstxt\":55009,\"population_2020\":268740.0,\"rural_urban_continuum_code_2013\":2.0,\"census\":248007,\"estimatesbase\":248003,\"populationestimate_2010\":248476,\"populationestimate_2011\":250481,\"populationestimate_2012\":252682,\"populationestimate_2013\":254211,\"populationestimate_2014\":256202,\"populationestimate_2015\":257856,\"populationestimate_2016\":259514,\"populationestimate_2017\":261762,\"populationestimate_2018\":263165,\"populationestimate_2019\":264542,\"st\":55,\"cty\":9,\"ctyname\":\"Brown County, Wisconsin\"},{\"fipstxt\":55025,\"population_2020\":561504.0,\"rural_urban_continuum_code_2013\":2.0,\"census\":488073,\"estimatesbase\":488081,\"populationestimate_2010\":489218,\"populationestimate_2011\":496009,\"populationestimate_2012\":502902,\"populationestimate_2013\":509762,\"populationestimate_2014\":516282,\"populationestimate_2015\":523000,\"populationestimate_2016\":531296,\"populationestimate_2017\":537453,\"populationestimate_2018\":541948,\"populationestimate_2019\":546695,\"st\":55,\"cty\":25,\"ctyname\":\"Dane County, Wisconsin\"},{\"fipstxt\":55079,\"population_2020\":939489.0,\"rural_urban_continuum_code_2013\":1.0,\"census\":947735,\"estimatesbase\":947728,\"populationestimate_2010\":948285,\"populationestimate_2011\":951324,\"populationestimate_2012\":954595,\"populationestimate_2013\":957443,\"populationestimate_2014\":958426,\"populationestimate_2015\":958421,\"populationestimate_2016\":954841,\"populationestimate_2017\":950172,\"populationestimate_2018\":946969,\"populationestimate_2019\":945726,\"st\":55,\"cty\":79,\"ctyname\":\"Milwaukee County, Wisconsin\"},{\"fipstxt\":55133,\"population_2020\":406978.0,\"rural_urban_continuum_code_2013\":1.0,\"census\":389891,\"estimatesbase\":389946,\"populationestimate_2010\":390028,\"populationestimate_2011\":390837,\"populationestimate_2012\":392810,\"populationestimate_2013\":394147,\"populationestimate_2014\":395397,\"populationestimate_2015\":396237,\"populationestimate_2016\":398521,\"populationestimate_2017\":400899,\"populationestimate_2018\":402522,\"populationestimate_2019\":404198,\"st\":55,\"cty\":133,\"ctyname\":\"Waukesha County, Wisconsin\"}]'"
      ]
     },
     "execution_count": 29,
     "metadata": {},
     "output_type": "execute_result"
    }
   ],
   "source": [
    "import requests, json, pandas as pd\n",
    "\n",
    "url = 'https://phldtnwru1.execute-api.us-east-1.amazonaws.com/dev/serverlessprez'\n",
    "rg = requests.get(url)\n",
    "rg.content"
   ]
  },
  {
   "cell_type": "code",
   "execution_count": null,
   "metadata": {},
   "outputs": [],
   "source": []
  },
  {
   "cell_type": "code",
   "execution_count": null,
   "metadata": {},
   "outputs": [],
   "source": []
  },
  {
   "cell_type": "code",
   "execution_count": 52,
   "metadata": {},
   "outputs": [],
   "source": [
    "import boto3\n",
    "import s3fs\n",
    "\n",
    "class QueryAthena:\n",
    "\n",
    "    def __init__(self, output_loc='s3://serverlessprez/database/queries'):\n",
    "        self.output_loc = output_loc\n",
    "\n",
    "    def execute_query(self, sql, **kwargs):\n",
    "\n",
    "        full_result_set = []\n",
    "\n",
    "        query = ath.start_query_execution(\n",
    "            QueryString=sql,\n",
    "            ResultConfiguration={'OutputLocation': self.output_loc}\n",
    "        )\n",
    "\n",
    "        qid = query['QueryExecutionId']\n",
    "\n",
    "        query_state = ath.get_query_execution(QueryExecutionId=qid)['QueryExecution']['Status']['State']\n",
    "\n",
    "        while query_state in ['RUNNING', 'QUEUED']:\n",
    "            query_state = ath.get_query_execution(QueryExecutionId=qid)['QueryExecution']['Status']['State']\n",
    "\n",
    "        results_df = pd.read_csv(\n",
    "            f\"{self.output_loc}/{qid}.csv\",\n",
    "            dtype={\n",
    "                'zip': str,\n",
    "                'county': str,\n",
    "                'fipstate': str,\n",
    "                'fipscty': str\n",
    "            }\n",
    "        )\n",
    "\n",
    "        return results_df"
   ]
  },
  {
   "cell_type": "code",
   "execution_count": 53,
   "metadata": {},
   "outputs": [],
   "source": [
    "ath = boto3.client('athena')\n",
    "\n",
    "sql = \"\"\"\n",
    "    SELECT * FROM \"serverlessprez\".\"census_population\"\n",
    "    where population_2020 >= 200000\n",
    "\"\"\"\n",
    "\n",
    "df = QueryAthena().execute_query(sql)"
   ]
  },
  {
   "cell_type": "code",
   "execution_count": 54,
   "metadata": {
    "scrolled": true
   },
   "outputs": [
    {
     "data": {
      "text/html": [
       "<div>\n",
       "<style scoped>\n",
       "    .dataframe tbody tr th:only-of-type {\n",
       "        vertical-align: middle;\n",
       "    }\n",
       "\n",
       "    .dataframe tbody tr th {\n",
       "        vertical-align: top;\n",
       "    }\n",
       "\n",
       "    .dataframe thead th {\n",
       "        text-align: right;\n",
       "    }\n",
       "</style>\n",
       "<table border=\"1\" class=\"dataframe\">\n",
       "  <thead>\n",
       "    <tr style=\"text-align: right;\">\n",
       "      <th></th>\n",
       "      <th>fipstxt</th>\n",
       "      <th>population_2020</th>\n",
       "      <th>rural_urban_continuum_code_2013</th>\n",
       "      <th>census</th>\n",
       "      <th>estimatesbase</th>\n",
       "      <th>populationestimate_2010</th>\n",
       "      <th>populationestimate_2011</th>\n",
       "      <th>populationestimate_2012</th>\n",
       "      <th>populationestimate_2013</th>\n",
       "      <th>populationestimate_2014</th>\n",
       "      <th>populationestimate_2015</th>\n",
       "      <th>populationestimate_2016</th>\n",
       "      <th>populationestimate_2017</th>\n",
       "      <th>populationestimate_2018</th>\n",
       "      <th>populationestimate_2019</th>\n",
       "      <th>st</th>\n",
       "      <th>cty</th>\n",
       "      <th>ctyname</th>\n",
       "    </tr>\n",
       "  </thead>\n",
       "  <tbody>\n",
       "    <tr>\n",
       "      <th>0</th>\n",
       "      <td>1003</td>\n",
       "      <td>231767.0</td>\n",
       "      <td>3.0</td>\n",
       "      <td>182265</td>\n",
       "      <td>182265</td>\n",
       "      <td>183112</td>\n",
       "      <td>186558</td>\n",
       "      <td>190145</td>\n",
       "      <td>194885</td>\n",
       "      <td>199183</td>\n",
       "      <td>202939</td>\n",
       "      <td>207601</td>\n",
       "      <td>212521</td>\n",
       "      <td>217855</td>\n",
       "      <td>223234</td>\n",
       "      <td>1</td>\n",
       "      <td>3</td>\n",
       "      <td>Baldwin County, Alabama</td>\n",
       "    </tr>\n",
       "    <tr>\n",
       "      <th>1</th>\n",
       "      <td>1073</td>\n",
       "      <td>674721.0</td>\n",
       "      <td>1.0</td>\n",
       "      <td>658466</td>\n",
       "      <td>658567</td>\n",
       "      <td>658215</td>\n",
       "      <td>658109</td>\n",
       "      <td>658061</td>\n",
       "      <td>659265</td>\n",
       "      <td>659972</td>\n",
       "      <td>660455</td>\n",
       "      <td>660343</td>\n",
       "      <td>659599</td>\n",
       "      <td>659429</td>\n",
       "      <td>658573</td>\n",
       "      <td>1</td>\n",
       "      <td>73</td>\n",
       "      <td>Jefferson County, Alabama</td>\n",
       "    </tr>\n",
       "    <tr>\n",
       "      <th>2</th>\n",
       "      <td>1089</td>\n",
       "      <td>388153.0</td>\n",
       "      <td>2.0</td>\n",
       "      <td>334811</td>\n",
       "      <td>334807</td>\n",
       "      <td>336095</td>\n",
       "      <td>339565</td>\n",
       "      <td>342730</td>\n",
       "      <td>346625</td>\n",
       "      <td>349796</td>\n",
       "      <td>352977</td>\n",
       "      <td>356729</td>\n",
       "      <td>361762</td>\n",
       "      <td>367004</td>\n",
       "      <td>372909</td>\n",
       "      <td>1</td>\n",
       "      <td>89</td>\n",
       "      <td>Madison County, Alabama</td>\n",
       "    </tr>\n",
       "    <tr>\n",
       "      <th>3</th>\n",
       "      <td>1097</td>\n",
       "      <td>414809.0</td>\n",
       "      <td>2.0</td>\n",
       "      <td>412992</td>\n",
       "      <td>413139</td>\n",
       "      <td>413315</td>\n",
       "      <td>413068</td>\n",
       "      <td>413816</td>\n",
       "      <td>413918</td>\n",
       "      <td>414149</td>\n",
       "      <td>414462</td>\n",
       "      <td>414945</td>\n",
       "      <td>414045</td>\n",
       "      <td>413908</td>\n",
       "      <td>413210</td>\n",
       "      <td>1</td>\n",
       "      <td>97</td>\n",
       "      <td>Mobile County, Alabama</td>\n",
       "    </tr>\n",
       "    <tr>\n",
       "      <th>4</th>\n",
       "      <td>1101</td>\n",
       "      <td>228954.0</td>\n",
       "      <td>2.0</td>\n",
       "      <td>229363</td>\n",
       "      <td>229375</td>\n",
       "      <td>229505</td>\n",
       "      <td>229189</td>\n",
       "      <td>228874</td>\n",
       "      <td>228190</td>\n",
       "      <td>227551</td>\n",
       "      <td>227279</td>\n",
       "      <td>227170</td>\n",
       "      <td>227265</td>\n",
       "      <td>226504</td>\n",
       "      <td>226486</td>\n",
       "      <td>1</td>\n",
       "      <td>101</td>\n",
       "      <td>Montgomery County, Alabama</td>\n",
       "    </tr>\n",
       "    <tr>\n",
       "      <th>...</th>\n",
       "      <td>...</td>\n",
       "      <td>...</td>\n",
       "      <td>...</td>\n",
       "      <td>...</td>\n",
       "      <td>...</td>\n",
       "      <td>...</td>\n",
       "      <td>...</td>\n",
       "      <td>...</td>\n",
       "      <td>...</td>\n",
       "      <td>...</td>\n",
       "      <td>...</td>\n",
       "      <td>...</td>\n",
       "      <td>...</td>\n",
       "      <td>...</td>\n",
       "      <td>...</td>\n",
       "      <td>...</td>\n",
       "      <td>...</td>\n",
       "      <td>...</td>\n",
       "    </tr>\n",
       "    <tr>\n",
       "      <th>325</th>\n",
       "      <td>53077</td>\n",
       "      <td>256728.0</td>\n",
       "      <td>3.0</td>\n",
       "      <td>243231</td>\n",
       "      <td>243240</td>\n",
       "      <td>244256</td>\n",
       "      <td>245926</td>\n",
       "      <td>246127</td>\n",
       "      <td>246485</td>\n",
       "      <td>246870</td>\n",
       "      <td>247800</td>\n",
       "      <td>249327</td>\n",
       "      <td>249922</td>\n",
       "      <td>250562</td>\n",
       "      <td>250873</td>\n",
       "      <td>53</td>\n",
       "      <td>77</td>\n",
       "      <td>Yakima County, Washington</td>\n",
       "    </tr>\n",
       "    <tr>\n",
       "      <th>326</th>\n",
       "      <td>55009</td>\n",
       "      <td>268740.0</td>\n",
       "      <td>2.0</td>\n",
       "      <td>248007</td>\n",
       "      <td>248003</td>\n",
       "      <td>248476</td>\n",
       "      <td>250481</td>\n",
       "      <td>252682</td>\n",
       "      <td>254211</td>\n",
       "      <td>256202</td>\n",
       "      <td>257856</td>\n",
       "      <td>259514</td>\n",
       "      <td>261762</td>\n",
       "      <td>263165</td>\n",
       "      <td>264542</td>\n",
       "      <td>55</td>\n",
       "      <td>9</td>\n",
       "      <td>Brown County, Wisconsin</td>\n",
       "    </tr>\n",
       "    <tr>\n",
       "      <th>327</th>\n",
       "      <td>55025</td>\n",
       "      <td>561504.0</td>\n",
       "      <td>2.0</td>\n",
       "      <td>488073</td>\n",
       "      <td>488081</td>\n",
       "      <td>489218</td>\n",
       "      <td>496009</td>\n",
       "      <td>502902</td>\n",
       "      <td>509762</td>\n",
       "      <td>516282</td>\n",
       "      <td>523000</td>\n",
       "      <td>531296</td>\n",
       "      <td>537453</td>\n",
       "      <td>541948</td>\n",
       "      <td>546695</td>\n",
       "      <td>55</td>\n",
       "      <td>25</td>\n",
       "      <td>Dane County, Wisconsin</td>\n",
       "    </tr>\n",
       "    <tr>\n",
       "      <th>328</th>\n",
       "      <td>55079</td>\n",
       "      <td>939489.0</td>\n",
       "      <td>1.0</td>\n",
       "      <td>947735</td>\n",
       "      <td>947728</td>\n",
       "      <td>948285</td>\n",
       "      <td>951324</td>\n",
       "      <td>954595</td>\n",
       "      <td>957443</td>\n",
       "      <td>958426</td>\n",
       "      <td>958421</td>\n",
       "      <td>954841</td>\n",
       "      <td>950172</td>\n",
       "      <td>946969</td>\n",
       "      <td>945726</td>\n",
       "      <td>55</td>\n",
       "      <td>79</td>\n",
       "      <td>Milwaukee County, Wisconsin</td>\n",
       "    </tr>\n",
       "    <tr>\n",
       "      <th>329</th>\n",
       "      <td>55133</td>\n",
       "      <td>406978.0</td>\n",
       "      <td>1.0</td>\n",
       "      <td>389891</td>\n",
       "      <td>389946</td>\n",
       "      <td>390028</td>\n",
       "      <td>390837</td>\n",
       "      <td>392810</td>\n",
       "      <td>394147</td>\n",
       "      <td>395397</td>\n",
       "      <td>396237</td>\n",
       "      <td>398521</td>\n",
       "      <td>400899</td>\n",
       "      <td>402522</td>\n",
       "      <td>404198</td>\n",
       "      <td>55</td>\n",
       "      <td>133</td>\n",
       "      <td>Waukesha County, Wisconsin</td>\n",
       "    </tr>\n",
       "  </tbody>\n",
       "</table>\n",
       "<p>330 rows × 18 columns</p>\n",
       "</div>"
      ],
      "text/plain": [
       "     fipstxt  population_2020  rural_urban_continuum_code_2013  census  \\\n",
       "0       1003         231767.0                              3.0  182265   \n",
       "1       1073         674721.0                              1.0  658466   \n",
       "2       1089         388153.0                              2.0  334811   \n",
       "3       1097         414809.0                              2.0  412992   \n",
       "4       1101         228954.0                              2.0  229363   \n",
       "..       ...              ...                              ...     ...   \n",
       "325    53077         256728.0                              3.0  243231   \n",
       "326    55009         268740.0                              2.0  248007   \n",
       "327    55025         561504.0                              2.0  488073   \n",
       "328    55079         939489.0                              1.0  947735   \n",
       "329    55133         406978.0                              1.0  389891   \n",
       "\n",
       "     estimatesbase  populationestimate_2010  populationestimate_2011  \\\n",
       "0           182265                   183112                   186558   \n",
       "1           658567                   658215                   658109   \n",
       "2           334807                   336095                   339565   \n",
       "3           413139                   413315                   413068   \n",
       "4           229375                   229505                   229189   \n",
       "..             ...                      ...                      ...   \n",
       "325         243240                   244256                   245926   \n",
       "326         248003                   248476                   250481   \n",
       "327         488081                   489218                   496009   \n",
       "328         947728                   948285                   951324   \n",
       "329         389946                   390028                   390837   \n",
       "\n",
       "     populationestimate_2012  populationestimate_2013  \\\n",
       "0                     190145                   194885   \n",
       "1                     658061                   659265   \n",
       "2                     342730                   346625   \n",
       "3                     413816                   413918   \n",
       "4                     228874                   228190   \n",
       "..                       ...                      ...   \n",
       "325                   246127                   246485   \n",
       "326                   252682                   254211   \n",
       "327                   502902                   509762   \n",
       "328                   954595                   957443   \n",
       "329                   392810                   394147   \n",
       "\n",
       "     populationestimate_2014  populationestimate_2015  \\\n",
       "0                     199183                   202939   \n",
       "1                     659972                   660455   \n",
       "2                     349796                   352977   \n",
       "3                     414149                   414462   \n",
       "4                     227551                   227279   \n",
       "..                       ...                      ...   \n",
       "325                   246870                   247800   \n",
       "326                   256202                   257856   \n",
       "327                   516282                   523000   \n",
       "328                   958426                   958421   \n",
       "329                   395397                   396237   \n",
       "\n",
       "     populationestimate_2016  populationestimate_2017  \\\n",
       "0                     207601                   212521   \n",
       "1                     660343                   659599   \n",
       "2                     356729                   361762   \n",
       "3                     414945                   414045   \n",
       "4                     227170                   227265   \n",
       "..                       ...                      ...   \n",
       "325                   249327                   249922   \n",
       "326                   259514                   261762   \n",
       "327                   531296                   537453   \n",
       "328                   954841                   950172   \n",
       "329                   398521                   400899   \n",
       "\n",
       "     populationestimate_2018  populationestimate_2019  st  cty  \\\n",
       "0                     217855                   223234   1    3   \n",
       "1                     659429                   658573   1   73   \n",
       "2                     367004                   372909   1   89   \n",
       "3                     413908                   413210   1   97   \n",
       "4                     226504                   226486   1  101   \n",
       "..                       ...                      ...  ..  ...   \n",
       "325                   250562                   250873  53   77   \n",
       "326                   263165                   264542  55    9   \n",
       "327                   541948                   546695  55   25   \n",
       "328                   946969                   945726  55   79   \n",
       "329                   402522                   404198  55  133   \n",
       "\n",
       "                         ctyname  \n",
       "0        Baldwin County, Alabama  \n",
       "1      Jefferson County, Alabama  \n",
       "2        Madison County, Alabama  \n",
       "3         Mobile County, Alabama  \n",
       "4     Montgomery County, Alabama  \n",
       "..                           ...  \n",
       "325    Yakima County, Washington  \n",
       "326      Brown County, Wisconsin  \n",
       "327       Dane County, Wisconsin  \n",
       "328  Milwaukee County, Wisconsin  \n",
       "329   Waukesha County, Wisconsin  \n",
       "\n",
       "[330 rows x 18 columns]"
      ]
     },
     "execution_count": 54,
     "metadata": {},
     "output_type": "execute_result"
    }
   ],
   "source": [
    "df"
   ]
  },
  {
   "cell_type": "code",
   "execution_count": 5,
   "metadata": {},
   "outputs": [],
   "source": [
    "api_client = boto3.client('apigateway')"
   ]
  },
  {
   "cell_type": "code",
   "execution_count": 20,
   "metadata": {},
   "outputs": [],
   "source": [
    "# def create_api(self, name:str, method: str='GET', integration: str='AWS_PROXY', stage: str=None, **kwargs) -> Dict:\n",
    "\n",
    "method: str='GET' \n",
    "integration: str='AWS_PROXY'\n",
    "stage: str=None\n",
    "BUCKET_NAME = ENTRY_POINT = 'serverlessprez'\n",
    "# Create rest api\n",
    "rest_api = api_client.create_rest_api(\n",
    "    name=\"serverlessprez_lambda-0.4\"\n",
    ")"
   ]
  },
  {
   "cell_type": "code",
   "execution_count": 21,
   "metadata": {},
   "outputs": [],
   "source": [
    "rest_api_id = rest_api[\"id\"]\n",
    "\n",
    "# Get the rest api's root id\n",
    "root_resource_id = api_client.get_resources(\n",
    "    restApiId=rest_api_id\n",
    ")['items'][0]['id']"
   ]
  },
  {
   "cell_type": "code",
   "execution_count": 22,
   "metadata": {},
   "outputs": [],
   "source": [
    "# Create an api resource\n",
    "api_resource = api_client.create_resource(\n",
    "    restApiId=rest_api_id,\n",
    "    parentId=root_resource_id,\n",
    "    pathPart=ENTRY_POINT\n",
    ")"
   ]
  },
  {
   "cell_type": "code",
   "execution_count": 23,
   "metadata": {},
   "outputs": [],
   "source": [
    "api_resource_id = api_resource['id']\n",
    "\n",
    "# Add a post method to the rest api resource\n",
    "api_method = api_client.put_method(\n",
    "    restApiId=rest_api_id,\n",
    "    resourceId=api_resource_id,\n",
    "    httpMethod=method,\n",
    "    authorizationType='NONE',\n",
    "    # requestParameters={\n",
    "    #   'method.request.querystring.serverlessprez': False\n",
    "    # }\n",
    ")"
   ]
  },
  {
   "cell_type": "code",
   "execution_count": 24,
   "metadata": {},
   "outputs": [
    {
     "name": "stdout",
     "output_type": "stream",
     "text": [
      "{'ResponseMetadata': {'RequestId': '2d64ca97-6725-4f05-ad67-5cc5ede861ce', 'HTTPStatusCode': 201, 'HTTPHeaders': {'date': 'Sat, 09 Jul 2022 13:58:51 GMT', 'content-type': 'application/json', 'content-length': '71', 'connection': 'keep-alive', 'x-amzn-requestid': '2d64ca97-6725-4f05-ad67-5cc5ede861ce', 'x-amz-apigw-id': 'VAJwXLXeIAMEc0Q='}, 'RetryAttempts': 0}, 'httpMethod': 'GET', 'authorizationType': 'NONE', 'apiKeyRequired': False}\n"
     ]
    }
   ],
   "source": [
    "print(api_method)\n",
    "\n",
    "put_method_res = api_client.put_method_response(\n",
    "    restApiId=rest_api_id,\n",
    "    resourceId=api_resource_id,\n",
    "    httpMethod=method,\n",
    "    statusCode='200'\n",
    ")"
   ]
  },
  {
   "cell_type": "code",
   "execution_count": 25,
   "metadata": {},
   "outputs": [],
   "source": [
    "# The uri comes from a base lambda string with the function ARN attached to it\n",
    "arn_uri = f\"arn:aws:apigateway:us-east-1:lambda:path/2015-03-31/functions/arn:aws:lambda:us-east-1:639381120660:function:serverlessprez_lambda/invocations\"\n",
    "\n",
    "put_integration = api_client.put_integration(\n",
    "    restApiId=rest_api_id,\n",
    "    resourceId=api_resource_id,\n",
    "    httpMethod=method,\n",
    "    type=integration,\n",
    "    integrationHttpMethod='POST',\n",
    "    uri=arn_uri,\n",
    "    credentials='arn:aws:iam::639381120660:role/serverlessprez',\n",
    "#     requestTemplates={\n",
    "#         \"application/json\":\"{\\\"serverlessprez\\\":\\\"$input.params('serverlessprez')\\\"}\"\n",
    "#     }\n",
    ")"
   ]
  },
  {
   "cell_type": "code",
   "execution_count": 26,
   "metadata": {},
   "outputs": [],
   "source": [
    "put_integration_response = api_client.put_integration_response(\n",
    "    restApiId=rest_api_id,\n",
    "    resourceId=api_resource_id,\n",
    "    httpMethod=method,\n",
    "    statusCode='200',\n",
    "    selectionPattern=''\n",
    ")"
   ]
  },
  {
   "cell_type": "code",
   "execution_count": null,
   "metadata": {},
   "outputs": [],
   "source": [
    "# this bit sets a stage 'dev' that is built off the created apigateway\n",
    "# it will look something like this:\n",
    "# https://<generated_api_id>.execute-api.<region>.amazonaws.com/dev/lamda_name\n",
    "deployment = api_client.create_deployment(\n",
    "    restApiId=rest_api_id,\n",
    "    stageName='dev',\n",
    ")\n",
    "\n",
    "# return deployment"
   ]
  },
  {
   "cell_type": "code",
   "execution_count": null,
   "metadata": {},
   "outputs": [],
   "source": []
  },
  {
   "cell_type": "code",
   "execution_count": null,
   "metadata": {},
   "outputs": [],
   "source": []
  },
  {
   "cell_type": "code",
   "execution_count": 4,
   "metadata": {},
   "outputs": [],
   "source": [
    "def prep_zipcode_to_county_mapping(inpath, outpath, partition):\n",
    "    df = pd.read_excel(inpath, engine='openpyxl', dtype={'zip': str, 'county': str})\n",
    "    df['statefp'] = df['county'].apply(lambda x: x[:2])\n",
    "    df['countyfp'] = df['county'].apply(lambda x: x[2:])\n",
    "    df['state'] = df['usps_zip_pref_state'].str.lower()\n",
    "    df['city'] = df['usps_zip_pref_city'].str.lower()\n",
    "    df.to_parquet(outpath, index=False, partition_cols=partition)\n",
    "\n",
    "def shp_to_esri_enclosed_json_input(gdf, geom_type='esriGeometryPolygon'):\n",
    "\n",
    "    shp_format = json.loads(gdf.to_json())\n",
    "    esri_enclosed_json_inputs = {}\n",
    "    esri_enclosed_json_inputs['displayFieldName'] = ''\n",
    "    esri_enclosed_json_inputs['fieldAliases'] = {k:k for (k,v) in shp_format['features'][0]['properties'].items()}\n",
    "    esri_enclosed_json_inputs['geometryType'] = geom_type\n",
    "    esri_enclosed_json_inputs['spatialReference'] = {'wkid': 4269}\n",
    "\n",
    "    if geom_type == 'esriGeometryPolygon':\n",
    "        geom_key = 'rings'\n",
    "    elif geom_type == 'esriGeometryPolyline':\n",
    "        geom_key = 'paths'\n",
    "\n",
    "    for jsonfeat in shp_format['features']:\n",
    "\n",
    "        if jsonfeat['geometry']:\n",
    "\n",
    "            if 'features' not in esri_enclosed_json_inputs:\n",
    "                esri_enclosed_json_inputs['features'] = []\n",
    "\n",
    "            jsonfeat['geometry'] = {\n",
    "                geom_key: jsonfeat['geometry']['coordinates']\n",
    "            }\n",
    "\n",
    "            efeat = {\n",
    "                'attributes': jsonfeat['properties']\n",
    "            }\n",
    "\n",
    "            efeat['geometry'] = jsonfeat['geometry']\n",
    "            esri_enclosed_json_inputs['features'].append(efeat)\n",
    "\n",
    "    return esri_enclosed_json_inputs\n",
    "\n",
    "def partition_geo_data(path, partitions, processed_path, input_df=None, geom_type='esriGeometryPolygon'):\n",
    "\n",
    "    gdf = input_df if input_df is not None else gpd.read_file(path).to_crs(4269).convert_dtypes()\n",
    "    \n",
    "    if partitions:\n",
    "\n",
    "        grouped = gdf.groupby(partitions, as_index=False)\n",
    "\n",
    "        for name, group in grouped:\n",
    "            if isinstance(name, str):\n",
    "                name = [name]\n",
    "            filters = list(zip(partitions, name))\n",
    "            fileid = ''.join([i[1] for i in filters])\n",
    "            loc = '/'.join([f'{f[0]}={f[1]}'.lower() for f in filters])\n",
    "\n",
    "            esri_format = shp_to_esri_enclosed_json_input(group, geom_type=geom_type)\n",
    "\n",
    "            to_path = Path(processed_path/loc)\n",
    "            to_path.mkdir(parents=True, exist_ok=True)\n",
    "\n",
    "            with open(to_path/f'{fileid}.geojson', 'w') as file:\n",
    "                json.dump(esri_format, file)"
   ]
  },
  {
   "cell_type": "code",
   "execution_count": 11,
   "metadata": {
    "scrolled": true
   },
   "outputs": [],
   "source": [
    "def tiger():\n",
    "    zip_extension = '.zip'\n",
    "    shp_extension = '.shp'\n",
    "    excel_extensions = ['.xls', '.xlsx']\n",
    "\n",
    "    for folder, subfolder in settings.etl.tiger.items():\n",
    "\n",
    "        raw_path = settings.root_path/settings.data.raw_path/subfolder.file_path\n",
    "        interim_path = settings.root_path/settings.data.interim_path/subfolder.file_path\n",
    "        processed_path = settings.root_path/settings.data.processed_path/subfolder.file_path\n",
    "\n",
    "        raw_path.mkdir(parents=True, exist_ok=True)\n",
    "        processed_path.mkdir(parents=True, exist_ok=True)\n",
    "        interim_path.mkdir(parents=True, exist_ok=True)\n",
    "\n",
    "        url = subfolder.url\n",
    "\n",
    "        for file in subfolder.files:\n",
    "            raw_file_path = raw_path/file\n",
    "            processed_file_path = processed_path/file\n",
    "            interim_file_path = interim_path/file\n",
    "            raw_file_exists = os.path.isfile(raw_file_path)\n",
    "            existing_interim_files = [re.sub('\\..*', '', i.name) for i in interim_path.iterdir()]\n",
    "            processed_file_exists = os.path.isfile(processed_file_path)\n",
    "\n",
    "            file_name_wo_zip = file.replace(zip_extension, '')\n",
    "\n",
    "            if not raw_file_exists:\n",
    "                print(f'DOWNLOADING: from {url+file} to {raw_file_path}')\n",
    "                download_url(url+file, raw_file_path)\n",
    "                if (zip_extension in file) and (file_name_wo_zip not in existing_interim_files):\n",
    "                    print(f'UNZIPPING: from {raw_file_path} to {interim_file_path.parent}')\n",
    "                    shutil.unpack_archive(raw_file_path, interim_file_path.parent)\n",
    "\n",
    "                if raw_file_path.suffix == zip_extension:\n",
    "                    interim_file = interim_file_path.parent/(raw_file_path.stem+shp_extension)\n",
    "                    interim_file_exists = os.path.isfile(interim_file)\n",
    "                    # if not interim_file_exists:\n",
    "                    print(f'PARTITIONING: from {interim_file} to {processed_path}')\n",
    "                    partition_geo_data(interim_file, subfolder.partition_by, processed_path)\n",
    "\n",
    "            elif raw_file_path.suffix in excel_extensions:\n",
    "                interim_file = interim_file_path.parent/'data.parquet'\n",
    "                interim_file_exists = os.path.isfile(interim_file)\n",
    "                if not interim_file_exists:\n",
    "                    print(F'PREPPING: from {raw_file_path} to {interim_file}')\n",
    "                    # prep_zipcode_to_county_mapping(raw_file_path, processed_file_path.parent, subfolder.partition_by)\n",
    "        print('FINISHED POPULATING RAW, INTERIM, AND PROCESSED DIRECTORIES')\n",
    "        \n",
    "    return None\n",
    "\n",
    "def main():\n",
    "    tiger()"
   ]
  },
  {
   "cell_type": "code",
   "execution_count": null,
   "metadata": {},
   "outputs": [],
   "source": []
  },
  {
   "cell_type": "code",
   "execution_count": null,
   "metadata": {},
   "outputs": [],
   "source": []
  },
  {
   "cell_type": "code",
   "execution_count": null,
   "metadata": {},
   "outputs": [],
   "source": []
  },
  {
   "cell_type": "code",
   "execution_count": null,
   "metadata": {},
   "outputs": [],
   "source": []
  },
  {
   "cell_type": "code",
   "execution_count": null,
   "metadata": {},
   "outputs": [],
   "source": []
  },
  {
   "cell_type": "code",
   "execution_count": null,
   "metadata": {},
   "outputs": [],
   "source": []
  },
  {
   "cell_type": "code",
   "execution_count": null,
   "metadata": {},
   "outputs": [],
   "source": []
  },
  {
   "cell_type": "code",
   "execution_count": null,
   "metadata": {},
   "outputs": [],
   "source": []
  }
 ],
 "metadata": {
  "kernelspec": {
   "display_name": "serverless",
   "language": "python",
   "name": "serverless"
  },
  "language_info": {
   "codemirror_mode": {
    "name": "ipython",
    "version": 3
   },
   "file_extension": ".py",
   "mimetype": "text/x-python",
   "name": "python",
   "nbconvert_exporter": "python",
   "pygments_lexer": "ipython3",
   "version": "3.8.3"
  }
 },
 "nbformat": 4,
 "nbformat_minor": 4
}
